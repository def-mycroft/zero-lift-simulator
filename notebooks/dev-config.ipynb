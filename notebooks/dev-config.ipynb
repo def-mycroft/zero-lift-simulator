{
 "cells": [
  {
   "cell_type": "code",
   "execution_count": 1,
   "id": "01b69f92-8043-4f9d-8045-313a0de567bb",
   "metadata": {},
   "outputs": [],
   "source": [
    "%load_ext autoreload\n",
    "%autoreload 2"
   ]
  },
  {
   "cell_type": "code",
   "execution_count": 2,
   "id": "55a6fee9-9370-4de3-9016-c028a6dfddbb",
   "metadata": {},
   "outputs": [],
   "source": [
    "from zero_helpers.imports import * "
   ]
  },
  {
   "cell_type": "code",
   "execution_count": 3,
   "id": "baaae9a1-2ec8-4b6b-91d8-fa6cfbe6c8e6",
   "metadata": {},
   "outputs": [],
   "source": [
    "from zero_liftsim.simmanager import SimulationManager\n",
    "from zero_liftsim.experience import AgentRideLoopExperience\n",
    "import inspect\n",
    "from zero_liftsim.helpers import load_asset_template"
   ]
  },
  {
   "cell_type": "code",
   "execution_count": 4,
   "id": "86356a32-d431-4b9a-83ce-a16632130304",
   "metadata": {},
   "outputs": [],
   "source": [
    "from zero_liftsim import helpers as hp"
   ]
  },
  {
   "cell_type": "code",
   "execution_count": 5,
   "id": "d9ae426a-5550-40d4-b359-8b3f516dd13b",
   "metadata": {},
   "outputs": [
    {
     "data": {
      "text/plain": [
       "7"
      ]
     },
     "execution_count": 5,
     "metadata": {},
     "output_type": "execute_result"
    }
   ],
   "source": [
    "from zero_liftsim.lift import Lift\n",
    "\n",
    "l = Lift(capacity=2)\n",
    "l.ride_mean"
   ]
  },
  {
   "cell_type": "markdown",
   "id": "1e4f5e7d-b909-4059-b226-198171709472",
   "metadata": {},
   "source": [
    "# Run Simulation"
   ]
  },
  {
   "cell_type": "code",
   "execution_count": 6,
   "id": "d0236d85-7235-4ce4-bc75-c65a65df1d44",
   "metadata": {},
   "outputs": [
    {
     "name": "stdout",
     "output_type": "stream",
     "text": [
      "{'total_rides': 337, 'average_wait': 1.4183976261127595, 'agents': [Agent(1) squalid-staff ef3eb906-5a25-4481-a49a-f381098b3c7f, Agent(2) bizarre-tackle 19732650-d3c8-44a2-896d-cd30cf1f4d48, Agent(3) pretty-cap c848da22-3891-49c0-be0c-41dafa7c7d2f, Agent(4) silent-shock b573501e-e344-448a-8b22-4283d6a68bb9, Agent(5) kindly-person 69c64afa-6fa4-4bef-9f19-2da5342228c6, Agent(6) flat-airline 15ec3c41-4fbc-4b13-94ac-5d36a8ee4978, Agent(7) acceptable-ice f189ead2-f721-40a1-8553-0edceae0e995, Agent(8) royal-choice 373a9248-d71c-4945-850f-573bed97026b, Agent(9) redundant-due 9cb5eddf-44ee-45b0-bdf0-fd2749037d38, Agent(10) capricious-street 7ec629ce-a68c-4314-9384-09e350dd7413]}\n"
     ]
    }
   ],
   "source": [
    "# setup and run simulation\n",
    "manager = SimulationManager(\n",
    "    n_agents=10,\n",
    "    lift_capacity=2,\n",
    ")\n",
    "result = manager.run()\n",
    "print(result)"
   ]
  },
  {
   "cell_type": "code",
   "execution_count": 7,
   "id": "a78f7302-113b-4017-b18b-96feb148d9f3",
   "metadata": {},
   "outputs": [
    {
     "data": {
      "text/plain": [
       "50"
      ]
     },
     "execution_count": 7,
     "metadata": {},
     "output_type": "execute_result"
    }
   ],
   "source": [
    "lift = manager.lift\n",
    "lift.total_chairs()"
   ]
  },
  {
   "cell_type": "markdown",
   "id": "c07b3eb9-8e31-4808-9347-4fe4f43337dc",
   "metadata": {},
   "source": [
    "## Retrieve Data from Simulation"
   ]
  },
  {
   "cell_type": "code",
   "execution_count": 8,
   "id": "b008fd77-98be-47ac-84a9-a0d5f3db87a6",
   "metadata": {},
   "outputs": [],
   "source": [
    "# get rideloop explogs and agent event log\n",
    "exp_log_data = manager.retrieve_data()\n",
    "e = exp_log_data['exp_rideloop']\n",
    "l = exp_log_data['agent_log']"
   ]
  },
  {
   "cell_type": "markdown",
   "id": "2dbff9e8-c7f4-49bf-a1ea-dc8c41cf4caa",
   "metadata": {},
   "source": [
    "# Dev"
   ]
  },
  {
   "cell_type": "code",
   "execution_count": 18,
   "id": "42cd138a-10e4-4279-bb3f-df2933e6f8e1",
   "metadata": {},
   "outputs": [
    {
     "name": "stdout",
     "output_type": "stream",
     "text": [
      "added string to clipboard\n",
      "{\n",
      "    \"git_commit\": \"e0538718d5e63f87963fe6638fd95535d775385f\",\n",
      "    \"SimulationManager\": {\n",
      "        \"__init__\": {\n",
      "            \"start_datetime\": null,\n",
      "            \"logger\": null\n",
      "        },\n",
      "        \"run\": {\n",
      "            \"end_datetime\": null,\n",
      "            \"runtime_minutes\": null\n",
      "        }\n",
      "    },\n",
      "    \"Simulation\": {\n",
      "        \"run\": {\n",
      "            \"stop_time\": null,\n",
      "            \"logger\": null,\n",
      "            \"full_agent_logging\": false,\n",
      "            \"start_datetime\": \"2025-03-12T09:00:00\"\n",
      "        }\n",
      "    },\n",
      "    \"Lift\": {\n",
      "        \"num_chairs\": 50,\n",
      "        \"ride_mean\": 7,\n",
      "        \"ride_sd\": 1,\n",
      "        \"traverse_mean\": 5,\n",
      "        \"traverse_sd\": 1.5\n",
      "    },\n",
      "    \"Agent\": {\n",
      "        \"__init__\": {\n",
      "            \"logger\": null,\n",
      "            \"self_logging\": true\n",
      "        }\n",
      "    }\n",
      "}\n"
     ]
    }
   ],
   "source": [
    "from zero_helpers.main import string_to_clipboard\n",
    "from zero_liftsim.helpers import base_config \n",
    "d = base_config()\n",
    "\n",
    "j = json.dumps(d, indent=4)\n",
    "string_to_clipboard(j)\n",
    "print(j)"
   ]
  },
  {
   "cell_type": "code",
   "execution_count": null,
   "id": "f1bd0717-aec5-41b9-8d8e-2978aee6e373",
   "metadata": {},
   "outputs": [],
   "source": []
  },
  {
   "cell_type": "code",
   "execution_count": null,
   "id": "f443d04b-0076-40a6-ba38-0da37451ede9",
   "metadata": {},
   "outputs": [],
   "source": []
  },
  {
   "cell_type": "code",
   "execution_count": null,
   "id": "fd41fc99-f95a-47f6-a976-ceeada0dc509",
   "metadata": {},
   "outputs": [],
   "source": []
  },
  {
   "cell_type": "code",
   "execution_count": null,
   "id": "6240556f-041f-4fe5-99a9-736c3c9d8cf8",
   "metadata": {},
   "outputs": [],
   "source": []
  },
  {
   "cell_type": "code",
   "execution_count": null,
   "id": "fa6ca0f5-4e5f-4041-8e6f-ba583a8208e4",
   "metadata": {},
   "outputs": [],
   "source": []
  },
  {
   "cell_type": "code",
   "execution_count": null,
   "id": "b1415f44-2879-4463-b844-d66bffcb4b6e",
   "metadata": {},
   "outputs": [],
   "source": []
  },
  {
   "cell_type": "code",
   "execution_count": null,
   "id": "2a58e775-b93a-4119-8e78-05630f732288",
   "metadata": {},
   "outputs": [],
   "source": []
  }
 ],
 "metadata": {
  "kernelspec": {
   "display_name": "Python 3 (ipykernel)",
   "language": "python",
   "name": "python3"
  },
  "language_info": {
   "codemirror_mode": {
    "name": "ipython",
    "version": 3
   },
   "file_extension": ".py",
   "mimetype": "text/x-python",
   "name": "python",
   "nbconvert_exporter": "python",
   "pygments_lexer": "ipython3",
   "version": "3.12.2"
  }
 },
 "nbformat": 4,
 "nbformat_minor": 5
}
