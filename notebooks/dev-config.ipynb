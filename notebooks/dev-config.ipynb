{
 "cells": [
  {
   "cell_type": "code",
   "execution_count": 14,
   "id": "01b69f92-8043-4f9d-8045-313a0de567bb",
   "metadata": {},
   "outputs": [
    {
     "name": "stdout",
     "output_type": "stream",
     "text": [
      "The autoreload extension is already loaded. To reload it, use:\n",
      "  %reload_ext autoreload\n"
     ]
    }
   ],
   "source": [
    "%load_ext autoreload\n",
    "%autoreload 2"
   ]
  },
  {
   "cell_type": "code",
   "execution_count": 15,
   "id": "55a6fee9-9370-4de3-9016-c028a6dfddbb",
   "metadata": {},
   "outputs": [],
   "source": [
    "from zero_helpers.imports import * "
   ]
  },
  {
   "cell_type": "code",
   "execution_count": 16,
   "id": "baaae9a1-2ec8-4b6b-91d8-fa6cfbe6c8e6",
   "metadata": {},
   "outputs": [],
   "source": [
    "from zero_liftsim.simmanager import SimulationManager\n",
    "from zero_liftsim.experience import AgentRideLoopExperience\n",
    "import inspect\n",
    "from zero_liftsim.helpers import load_asset_template"
   ]
  },
  {
   "cell_type": "code",
   "execution_count": 17,
   "id": "86356a32-d431-4b9a-83ce-a16632130304",
   "metadata": {},
   "outputs": [],
   "source": [
    "from zero_liftsim import helpers as hp"
   ]
  },
  {
   "cell_type": "code",
   "execution_count": 18,
   "id": "d9ae426a-5550-40d4-b359-8b3f516dd13b",
   "metadata": {},
   "outputs": [
    {
     "data": {
      "text/plain": [
       "7"
      ]
     },
     "execution_count": 18,
     "metadata": {},
     "output_type": "execute_result"
    }
   ],
   "source": [
    "from zero_liftsim.lift import Lift\n",
    "\n",
    "l = Lift(capacity=2)\n",
    "l.ride_mean"
   ]
  },
  {
   "cell_type": "markdown",
   "id": "1e4f5e7d-b909-4059-b226-198171709472",
   "metadata": {},
   "source": [
    "# Run Simulation"
   ]
  },
  {
   "cell_type": "code",
   "execution_count": 19,
   "id": "62e11d5f-031e-4c14-8de8-b725bb31fd49",
   "metadata": {},
   "outputs": [
    {
     "name": "stdout",
     "output_type": "stream",
     "text": [
      "{\n",
      "    \"git_commit\": \"7fbbc13d1160e35123f3932de8bddd8058bccf8d\",\n",
      "    \"SimulationManager\": {\n",
      "        \"__init__\": {\n",
      "            \"n_agents\": 1,\n",
      "            \"lift_capacity\": 1,\n",
      "            \"start_datetime\": null,\n",
      "            \"logger\": null\n",
      "        },\n",
      "        \"run\": {\n",
      "            \"end_datetime\": null,\n",
      "            \"runtime_minutes\": null\n",
      "        }\n",
      "    },\n",
      "    \"Simulation\": {\n",
      "        \"run\": {\n",
      "            \"stop_time\": null,\n",
      "            \"logger\": null,\n",
      "            \"full_agent_logging\": false,\n",
      "            \"start_datetime\": \"2025-03-12T09:00:00\"\n",
      "        }\n",
      "    },\n",
      "    \"Lift\": {\n",
      "        \"num_chairs\": 50,\n",
      "        \"ride_mean\": 7,\n",
      "        \"ride_sd\": 1,\n",
      "        \"traverse_mean\": 5,\n",
      "        \"traverse_sd\": 1.5\n",
      "    },\n",
      "    \"Agent\": {\n",
      "        \"__init__\": {\n",
      "            \"logger\": null,\n",
      "            \"self_logging\": true\n",
      "        }\n",
      "    }\n",
      "}\n",
      "{'total_rides': 12, 'average_wait': 2.8333333333333335, 'agents': [Agent(1) odd-event 20acb9ee-576d-4aa4-a070-5e31265bf501, Agent(2) reminiscent-brief be718881-e3cf-442b-a7b6-fdbfa98df232, Agent(3) aloof-future 6dd7f8ad-cd04-4874-b6d8-734a06842e1b]}\n"
     ]
    }
   ],
   "source": [
    "from zero_liftsim.simmanager import SimulationManager\n",
    "from zero_liftsim.helpers import base_config\n",
    "\n",
    "cfg = base_config()\n",
    "cfg[\"SimulationManager\"][\"__init__\"].update({\"n_agents\": 3, \"lift_capacity\": 2})\n",
    "manager = SimulationManager(cfg)\n",
    "result = manager.run(runtime_minutes=60)\n",
    "print(result)"
   ]
  },
  {
   "cell_type": "code",
   "execution_count": 20,
   "id": "a78f7302-113b-4017-b18b-96feb148d9f3",
   "metadata": {},
   "outputs": [
    {
     "data": {
      "text/plain": [
       "50"
      ]
     },
     "execution_count": 20,
     "metadata": {},
     "output_type": "execute_result"
    }
   ],
   "source": [
    "lift = manager.lift\n",
    "lift.total_chairs()"
   ]
  },
  {
   "cell_type": "markdown",
   "id": "c07b3eb9-8e31-4808-9347-4fe4f43337dc",
   "metadata": {},
   "source": [
    "## Retrieve Data from Simulation"
   ]
  },
  {
   "cell_type": "code",
   "execution_count": 21,
   "id": "b008fd77-98be-47ac-84a9-a0d5f3db87a6",
   "metadata": {},
   "outputs": [],
   "source": [
    "# get rideloop explogs and agent event log\n",
    "exp_log_data = manager.retrieve_data()\n",
    "e = exp_log_data['exp_rideloop']\n",
    "l = exp_log_data['agent_log']"
   ]
  },
  {
   "cell_type": "markdown",
   "id": "2dbff9e8-c7f4-49bf-a1ea-dc8c41cf4caa",
   "metadata": {},
   "source": [
    "# Dev"
   ]
  },
  {
   "cell_type": "code",
   "execution_count": 22,
   "id": "42cd138a-10e4-4279-bb3f-df2933e6f8e1",
   "metadata": {},
   "outputs": [
    {
     "name": "stdout",
     "output_type": "stream",
     "text": [
      "added string to clipboard\n",
      "{\n",
      "    \"git_commit\": \"7fbbc13d1160e35123f3932de8bddd8058bccf8d\",\n",
      "    \"SimulationManager\": {\n",
      "        \"__init__\": {\n",
      "            \"n_agents\": 1,\n",
      "            \"lift_capacity\": 1,\n",
      "            \"start_datetime\": null,\n",
      "            \"logger\": null\n",
      "        },\n",
      "        \"run\": {\n",
      "            \"end_datetime\": null,\n",
      "            \"runtime_minutes\": null\n",
      "        }\n",
      "    },\n",
      "    \"Simulation\": {\n",
      "        \"run\": {\n",
      "            \"stop_time\": null,\n",
      "            \"logger\": null,\n",
      "            \"full_agent_logging\": false,\n",
      "            \"start_datetime\": \"2025-03-12T09:00:00\"\n",
      "        }\n",
      "    },\n",
      "    \"Lift\": {\n",
      "        \"num_chairs\": 50,\n",
      "        \"ride_mean\": 7,\n",
      "        \"ride_sd\": 1,\n",
      "        \"traverse_mean\": 5,\n",
      "        \"traverse_sd\": 1.5\n",
      "    },\n",
      "    \"Agent\": {\n",
      "        \"__init__\": {\n",
      "            \"logger\": null,\n",
      "            \"self_logging\": true\n",
      "        }\n",
      "    }\n",
      "}\n"
     ]
    }
   ],
   "source": [
    "from zero_helpers.main import string_to_clipboard\n",
    "from zero_liftsim.helpers import base_config \n",
    "d = base_config()\n",
    "\n",
    "j = json.dumps(d, indent=4)\n",
    "string_to_clipboard(j)\n",
    "print(j)"
   ]
  },
  {
   "cell_type": "code",
   "execution_count": null,
   "id": "f1bd0717-aec5-41b9-8d8e-2978aee6e373",
   "metadata": {},
   "outputs": [],
   "source": []
  },
  {
   "cell_type": "code",
   "execution_count": null,
   "id": "f443d04b-0076-40a6-ba38-0da37451ede9",
   "metadata": {},
   "outputs": [],
   "source": []
  },
  {
   "cell_type": "code",
   "execution_count": null,
   "id": "fd41fc99-f95a-47f6-a976-ceeada0dc509",
   "metadata": {},
   "outputs": [],
   "source": []
  },
  {
   "cell_type": "code",
   "execution_count": null,
   "id": "6240556f-041f-4fe5-99a9-736c3c9d8cf8",
   "metadata": {},
   "outputs": [],
   "source": []
  },
  {
   "cell_type": "code",
   "execution_count": null,
   "id": "fa6ca0f5-4e5f-4041-8e6f-ba583a8208e4",
   "metadata": {},
   "outputs": [],
   "source": []
  },
  {
   "cell_type": "code",
   "execution_count": null,
   "id": "b1415f44-2879-4463-b844-d66bffcb4b6e",
   "metadata": {},
   "outputs": [],
   "source": []
  },
  {
   "cell_type": "code",
   "execution_count": null,
   "id": "2a58e775-b93a-4119-8e78-05630f732288",
   "metadata": {},
   "outputs": [],
   "source": []
  }
 ],
 "metadata": {
  "kernelspec": {
   "display_name": "Python 3 (ipykernel)",
   "language": "python",
   "name": "python3"
  },
  "language_info": {
   "codemirror_mode": {
    "name": "ipython",
    "version": 3
   },
   "file_extension": ".py",
   "mimetype": "text/x-python",
   "name": "python",
   "nbconvert_exporter": "python",
   "pygments_lexer": "ipython3",
   "version": "3.12.2"
  }
 },
 "nbformat": 4,
 "nbformat_minor": 5
}
