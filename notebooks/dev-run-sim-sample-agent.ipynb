{
 "cells": [
  {
   "cell_type": "code",
   "execution_count": 13,
   "id": "01b69f92-8043-4f9d-8045-313a0de567bb",
   "metadata": {},
   "outputs": [
    {
     "name": "stdout",
     "output_type": "stream",
     "text": [
      "The autoreload extension is already loaded. To reload it, use:\n",
      "  %reload_ext autoreload\n"
     ]
    }
   ],
   "source": [
    "%load_ext autoreload\n",
    "%autoreload 2"
   ]
  },
  {
   "cell_type": "code",
   "execution_count": 14,
   "id": "416e239b-bf74-47d5-a70c-ba151f324c65",
   "metadata": {},
   "outputs": [],
   "source": [
    "from zero_helpers.imports import * \n",
    "from zero_liftsim.simmanager import SimulationManager\n",
    "from zero_liftsim.helpers import base_config\n",
    "from zero_liftsim.experience import AgentRideLoopExperience\n",
    "from zero_liftsim.helpers import load_asset_template\n",
    "from zero_liftsim import helpers as hp\n",
    "from zero_liftsim.lift import Lift\n",
    "\n",
    "import inspect"
   ]
  },
  {
   "cell_type": "markdown",
   "id": "1e4f5e7d-b909-4059-b226-198171709472",
   "metadata": {},
   "source": [
    "# Run Simulation"
   ]
  },
  {
   "cell_type": "code",
   "execution_count": 15,
   "id": "62e11d5f-031e-4c14-8de8-b725bb31fd49",
   "metadata": {},
   "outputs": [
    {
     "name": "stdout",
     "output_type": "stream",
     "text": [
      "{'total_rides': 11, 'average_wait': 3.090909090909091, 'agents': [Agent(1) eminent-following de26358e-206f-45c8-81c9-c693e011f379, Agent(2) seemly-habit 57d63cb6-9f71-4d9f-b54e-6fa480860b03, Agent(3) caring-official c9d4351e-6de5-4bf0-8234-11f5254b78a6]}\n"
     ]
    }
   ],
   "source": [
    "cfg = base_config()\n",
    "cfg[\"SimulationManager\"][\"__init__\"].update({\"n_agents\": 3, \"lift_capacity\": 2})\n",
    "manager = SimulationManager(cfg)\n",
    "result = manager.run(runtime_minutes=60)\n",
    "print(result)"
   ]
  },
  {
   "cell_type": "code",
   "execution_count": 16,
   "id": "a78f7302-113b-4017-b18b-96feb148d9f3",
   "metadata": {},
   "outputs": [
    {
     "data": {
      "text/plain": [
       "50"
      ]
     },
     "execution_count": 16,
     "metadata": {},
     "output_type": "execute_result"
    }
   ],
   "source": [
    "lift = manager.lift\n",
    "lift.total_chairs()"
   ]
  },
  {
   "cell_type": "markdown",
   "id": "c07b3eb9-8e31-4808-9347-4fe4f43337dc",
   "metadata": {},
   "source": [
    "## Retrieve Data from Simulation"
   ]
  },
  {
   "cell_type": "code",
   "execution_count": 17,
   "id": "b008fd77-98be-47ac-84a9-a0d5f3db87a6",
   "metadata": {},
   "outputs": [],
   "source": [
    "# get rideloop explogs and agent event log\n",
    "exp_log_data = manager.retrieve_data()\n",
    "exp = exp_log_data['exp_rideloop']\n",
    "log = exp_log_data['agent_log']"
   ]
  },
  {
   "cell_type": "markdown",
   "id": "2dbff9e8-c7f4-49bf-a1ea-dc8c41cf4caa",
   "metadata": {},
   "source": [
    "# Dev"
   ]
  },
  {
   "cell_type": "code",
   "execution_count": 18,
   "id": "30e3f530-81ed-4030-83ef-1aca505be7c1",
   "metadata": {},
   "outputs": [],
   "source": [
    "# sample agent and subset exp/log to e/l for agent subset of those\n",
    "m = log['event'] == 'ride_complete'\n",
    "event_ride_comp = log[m].sample().iloc[0].to_dict()\n",
    "agent = manager.lookup_agent(event_ride_comp['agent_uuid'])\n",
    "l = log[log['agent_uuid'] == agent.agent_uuid]\n",
    "idx = (exp['time'] - event_ride_comp['time']).dt.total_seconds().abs().idxmin()\n",
    "e = exp.loc[idx].to_dict()"
   ]
  },
  {
   "cell_type": "code",
   "execution_count": 19,
   "id": "f75d0ca8-09ca-4104-90b8-14818848dd3f",
   "metadata": {},
   "outputs": [
    {
     "data": {
      "text/plain": [
       "{'time': Timestamp('2025-03-12 09:19:00'),\n",
       " 'exp_id': '972a4e14-5b20-4ffa-beec-e56654dac66b',\n",
       " 'return_event_uuid': '2296145a-3ff4-4d8e-804b-7eb954f78dde',\n",
       " 'agent_uuid': 'de26358e-206f-45c8-81c9-c693e011f379',\n",
       " 'agent_uuid_codename': 'eminent-following',\n",
       " 'time_spent_ride_lift': 6.752761098100441,\n",
       " 'time_spent_traverse_down_mountain': 5.4936342815300785,\n",
       " 'time_spent_in_queue': 0,\n",
       " 'time_spent_total': 12.24639537963052}"
      ]
     },
     "execution_count": 19,
     "metadata": {},
     "output_type": "execute_result"
    }
   ],
   "source": [
    "e"
   ]
  },
  {
   "cell_type": "code",
   "execution_count": 26,
   "id": "5af4c7fb-b551-4a24-ac66-9babe1868113",
   "metadata": {},
   "outputs": [
    {
     "name": "stdout",
     "output_type": "stream",
     "text": [
      "# Experience Log \n",
      "\n",
      "exp_id: 972a4e14-5b20-4ffa-beec-e56654dac66b\n",
      "agent_uuid: de26358e-206f-45c8-81c9-c693e011f379\n",
      "return_event_uuid: 2296145a-3ff4-4d8e-804b-7eb954f78dde\n",
      "\n",
      "*** \n",
      "\n",
      "\n",
      "time_spent_in_queue: 0\n",
      "time_spent_ride_lift: 6.752761098100441\n",
      "time_spent_traverse_down_mountain: 5.4936342815300785\n",
      "\n"
     ]
    }
   ],
   "source": [
    "x = agent.traceback_experience(e['exp_id'])\n",
    "print(x)"
   ]
  },
  {
   "cell_type": "code",
   "execution_count": 29,
   "id": "71e0215f-1169-4fc5-bbe0-14e04dcaea23",
   "metadata": {},
   "outputs": [
    {
     "data": {
      "text/plain": [
       "Index(['return_event_uuid', 'time', 'time_offset', 'event', 'agent_id',\n",
       "       'agent_uuid', 'agent_uuid_codename', 'queue_length', 'lift_state',\n",
       "       'wait_time', 'wait_time_readable'],\n",
       "      dtype='object')"
      ]
     },
     "execution_count": 29,
     "metadata": {},
     "output_type": "execute_result"
    }
   ],
   "source": [
    "l.columns"
   ]
  },
  {
   "cell_type": "code",
   "execution_count": null,
   "id": "9c30c72c-c7f4-4a55-b0c6-1b045ead58a8",
   "metadata": {},
   "outputs": [],
   "source": []
  },
  {
   "cell_type": "code",
   "execution_count": null,
   "id": "08c148dc-4405-4aca-a4bf-34996b2e68f2",
   "metadata": {},
   "outputs": [],
   "source": []
  },
  {
   "cell_type": "code",
   "execution_count": null,
   "id": "d91d75e2-54f9-4683-97a2-2fec9c83da84",
   "metadata": {},
   "outputs": [],
   "source": []
  }
 ],
 "metadata": {
  "kernelspec": {
   "display_name": "Python 3 (ipykernel)",
   "language": "python",
   "name": "python3"
  },
  "language_info": {
   "codemirror_mode": {
    "name": "ipython",
    "version": 3
   },
   "file_extension": ".py",
   "mimetype": "text/x-python",
   "name": "python",
   "nbconvert_exporter": "python",
   "pygments_lexer": "ipython3",
   "version": "3.11.8"
  }
 },
 "nbformat": 4,
 "nbformat_minor": 5
}
