{
 "cells": [
  {
   "cell_type": "code",
   "execution_count": 57,
   "id": "01b69f92-8043-4f9d-8045-313a0de567bb",
   "metadata": {},
   "outputs": [
    {
     "name": "stdout",
     "output_type": "stream",
     "text": [
      "The autoreload extension is already loaded. To reload it, use:\n",
      "  %reload_ext autoreload\n"
     ]
    }
   ],
   "source": [
    "%load_ext autoreload\n",
    "%autoreload 2"
   ]
  },
  {
   "cell_type": "code",
   "execution_count": 58,
   "id": "416e239b-bf74-47d5-a70c-ba151f324c65",
   "metadata": {},
   "outputs": [],
   "source": [
    "from zero_helpers.imports import * \n",
    "from zero_liftsim.simmanager import SimulationManager\n",
    "from zero_liftsim.helpers import base_config\n",
    "from zero_liftsim.experience import AgentRideLoopExperience\n",
    "from zero_liftsim.helpers import load_asset_template\n",
    "from zero_liftsim import helpers as hp\n",
    "from zero_liftsim.lift import Lift\n",
    "\n",
    "import inspect"
   ]
  },
  {
   "cell_type": "markdown",
   "id": "1e4f5e7d-b909-4059-b226-198171709472",
   "metadata": {},
   "source": [
    "# Run Simulation"
   ]
  },
  {
   "cell_type": "code",
   "execution_count": 59,
   "id": "62e11d5f-031e-4c14-8de8-b725bb31fd49",
   "metadata": {},
   "outputs": [],
   "source": [
    "cfg = base_config()\n",
    "cfg[\"SimulationManager\"][\"__init__\"].update({\"n_agents\": 3, \"lift_capacity\": 2})\n",
    "manager = SimulationManager(cfg)\n",
    "result = manager.run(runtime_minutes=60)"
   ]
  },
  {
   "cell_type": "markdown",
   "id": "c07b3eb9-8e31-4808-9347-4fe4f43337dc",
   "metadata": {},
   "source": [
    "## Retrieve Data from Simulation"
   ]
  },
  {
   "cell_type": "code",
   "execution_count": 60,
   "id": "b008fd77-98be-47ac-84a9-a0d5f3db87a6",
   "metadata": {},
   "outputs": [],
   "source": [
    "# get rideloop explogs and agent event log\n",
    "exp_log_data = manager.retrieve_data()\n",
    "exp = exp_log_data['exp_rideloop']\n",
    "log = exp_log_data['agent_log']"
   ]
  },
  {
   "cell_type": "markdown",
   "id": "2dbff9e8-c7f4-49bf-a1ea-dc8c41cf4caa",
   "metadata": {},
   "source": [
    "# Scratchpad"
   ]
  },
  {
   "cell_type": "code",
   "execution_count": 61,
   "id": "cf8b4fa4-8a23-4efb-b0ce-aca8482229cd",
   "metadata": {},
   "outputs": [
    {
     "ename": "Exception",
     "evalue": "",
     "output_type": "error",
     "traceback": [
      "\u001b[0;31m---------------------------------------------------------------------------\u001b[0m",
      "\u001b[0;31mException\u001b[0m                                 Traceback (most recent call last)",
      "Cell \u001b[0;32mIn[61], line 1\u001b[0m\n\u001b[0;32m----> 1\u001b[0m \u001b[38;5;28;01mraise\u001b[39;00m \u001b[38;5;167;01mException\u001b[39;00m()\n",
      "\u001b[0;31mException\u001b[0m: "
     ]
    }
   ],
   "source": [
    "raise Exception()"
   ]
  },
  {
   "cell_type": "markdown",
   "id": "97643aa4-f80a-4569-a814-e1b5c1671696",
   "metadata": {},
   "source": [
    "## Sample Agent and Get Exp Traceback"
   ]
  },
  {
   "cell_type": "code",
   "execution_count": 13,
   "id": "30e3f530-81ed-4030-83ef-1aca505be7c1",
   "metadata": {},
   "outputs": [],
   "source": [
    "# sample agent and subset exp/log to e/l for agent subset of those\n",
    "m = log['event'] == 'ride_complete'\n",
    "event_ride_comp = log[m].sample().iloc[0].to_dict()\n",
    "agent = manager.lookup_agent(event_ride_comp['agent_uuid'])\n",
    "l = log[log['agent_uuid'] == agent.agent_uuid]\n",
    "idx = (exp['time'] - event_ride_comp['time']).dt.total_seconds().abs().idxmin()\n",
    "e = exp.loc[idx].to_dict()"
   ]
  },
  {
   "cell_type": "code",
   "execution_count": 14,
   "id": "5af4c7fb-b551-4a24-ac66-9babe1868113",
   "metadata": {},
   "outputs": [
    {
     "name": "stdout",
     "output_type": "stream",
     "text": [
      "# Experience Log \n",
      "\n",
      "exp_id: 4eab1919-d47e-4c6a-9adc-43f9eee18e5c\n",
      "agent_uuid: 27596a10-a9ac-48ee-aa91-c96421db4589\n",
      "return_event_uuid: 961742d5-cd10-48cd-b712-5bf11cd2524e\n",
      "\n",
      "*** \n",
      "\n",
      "\n",
      "time_spent_in_queue: 3\n",
      "time_spent_ride_lift: 5.261610974166602\n",
      "time_spent_traverse_down_mountain: 5.481852237108882\n",
      "\n",
      "***\n",
      "\n",
      "# Full Dict\n",
      "\n",
      "{\n",
      "    \"exp_id\": \"4eab1919-d47e-4c6a-9adc-43f9eee18e5c\",\n",
      "    \"return_event_uuid\": \"961742d5-cd10-48cd-b712-5bf11cd2524e\",\n",
      "    \"agent_uuid\": \"27596a10-a9ac-48ee-aa91-c96421db4589\",\n",
      "    \"agent_uuid_codename\": \"abounding-basket\",\n",
      "    \"time_spent_ride_lift\": 5.261610974166602,\n",
      "    \"time_spent_traverse_down_mountain\": 5.481852237108882,\n",
      "    \"time_spent_in_queue\": 3,\n",
      "    \"time_spent_total\": 13.743463211275483\n",
      "}\n",
      "\n",
      "# Agent Log\n",
      "\n",
      "{\n",
      "    \"787aebe4-4960-4d9f-8c3a-54ff0f20fcef\": {\n",
      "        \"return_event_uuid\": \"cf7e394b-044c-4276-9616-42961b14cbd9\",\n",
      "        \"time\": \"2025-03-12T09:24:00\",\n",
      "        \"time_offset\": 24,\n",
      "        \"event\": \"ride_complete\",\n",
      "        \"agent_id\": 3,\n",
      "        \"agent_uuid\": \"27596a10-a9ac-48ee-aa91-c96421db4589\",\n",
      "        \"agent_uuid_codename\": \"abounding-basket\",\n",
      "        \"wait_time\": 12,\n",
      "        \"wait_time_readable\": \"12 minutes\"\n",
      "    },\n",
      "    \"52ade5c6-5399-404a-abb4-f870bfb9eeab\": {\n",
      "        \"return_event_uuid\": \"\",\n",
      "        \"time\": \"2025-03-12T09:27:00\",\n",
      "        \"time_offset\": 27,\n",
      "        \"event\": \"start_wait\",\n",
      "        \"agent_id\": 3,\n",
      "        \"agent_uuid\": \"27596a10-a9ac-48ee-aa91-c96421db4589\",\n",
      "        \"agent_uuid_codename\": \"abounding-basket\"\n",
      "    },\n",
      "    \"8beab9f1-777d-420d-b2a1-bc8776fd6720\": {\n",
      "        \"return_event_uuid\": \"\",\n",
      "        \"time\": \"2025-03-12T09:27:00\",\n",
      "        \"time_offset\": 27,\n",
      "        \"event\": \"arrival\",\n",
      "        \"agent_id\": 3,\n",
      "        \"agent_uuid\": \"27596a10-a9ac-48ee-aa91-c96421db4589\",\n",
      "        \"agent_uuid_codename\": \"abounding-basket\",\n",
      "        \"queue_length\": 2,\n",
      "        \"lift_state\": \"moving\"\n",
      "    },\n",
      "    \"50cd8f67-14b2-4912-8338-47094647c71d\": {\n",
      "        \"return_event_uuid\": \"\",\n",
      "        \"time\": \"2025-03-12T09:30:00\",\n",
      "        \"time_offset\": 30,\n",
      "        \"event\": \"board\",\n",
      "        \"agent_id\": 3,\n",
      "        \"agent_uuid\": \"27596a10-a9ac-48ee-aa91-c96421db4589\",\n",
      "        \"agent_uuid_codename\": \"abounding-basket\",\n",
      "        \"queue_length\": 0,\n",
      "        \"lift_state\": \"moving\"\n",
      "    },\n",
      "    \"bb124d4a-879c-4081-911e-47570aeaa1bf\": {\n",
      "        \"return_event_uuid\": \"961742d5-cd10-48cd-b712-5bf11cd2524e\",\n",
      "        \"time\": \"2025-03-12T09:35:00\",\n",
      "        \"time_offset\": 35,\n",
      "        \"event\": \"ride_complete\",\n",
      "        \"agent_id\": 3,\n",
      "        \"agent_uuid\": \"27596a10-a9ac-48ee-aa91-c96421db4589\",\n",
      "        \"agent_uuid_codename\": \"abounding-basket\",\n",
      "        \"wait_time\": 8,\n",
      "        \"wait_time_readable\": \"8 minutes\"\n",
      "    }\n",
      "}\n"
     ]
    }
   ],
   "source": [
    "x = agent.traceback_experience(e['exp_id'])\n",
    "print(x)"
   ]
  },
  {
   "cell_type": "code",
   "execution_count": null,
   "id": "9c30c72c-c7f4-4a55-b0c6-1b045ead58a8",
   "metadata": {},
   "outputs": [],
   "source": []
  },
  {
   "cell_type": "code",
   "execution_count": null,
   "id": "08c148dc-4405-4aca-a4bf-34996b2e68f2",
   "metadata": {},
   "outputs": [],
   "source": []
  },
  {
   "cell_type": "code",
   "execution_count": null,
   "id": "d91d75e2-54f9-4683-97a2-2fec9c83da84",
   "metadata": {},
   "outputs": [],
   "source": []
  }
 ],
 "metadata": {
  "kernelspec": {
   "display_name": "Python 3 (ipykernel)",
   "language": "python",
   "name": "python3"
  },
  "language_info": {
   "codemirror_mode": {
    "name": "ipython",
    "version": 3
   },
   "file_extension": ".py",
   "mimetype": "text/x-python",
   "name": "python",
   "nbconvert_exporter": "python",
   "pygments_lexer": "ipython3",
   "version": "3.11.8"
  }
 },
 "nbformat": 4,
 "nbformat_minor": 5
}
