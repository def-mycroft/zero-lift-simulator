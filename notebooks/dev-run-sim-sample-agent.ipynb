{
 "cells": [
  {
   "cell_type": "code",
   "execution_count": 1,
   "id": "01b69f92-8043-4f9d-8045-313a0de567bb",
   "metadata": {},
   "outputs": [],
   "source": [
    "%load_ext autoreload\n",
    "%autoreload 2"
   ]
  },
  {
   "cell_type": "code",
   "execution_count": 7,
   "id": "f75d0ca8-09ca-4104-90b8-14818848dd3f",
   "metadata": {},
   "outputs": [
    {
     "data": {
      "text/plain": [
       "{'time': Timestamp('2025-03-12 09:31:00'),\n",
       " 'exp_id': '8e82b9f8-95e1-4d2c-8526-dda1139fa307',\n",
       " 'return_event_uuid': 'fd5cfa54-8a01-4eb5-8ec0-cfd3d4cd5295',\n",
       " 'agent_uuid': '94dbfaa4-97a6-4a2d-b928-eccae4938419',\n",
       " 'agent_uuid_codename': 'tasty-pitch',\n",
       " 'time_spent_ride_lift': 6.071562547769156,\n",
       " 'time_spent_traverse_down_mountain': 4.961262873092367,\n",
       " 'time_spent_in_queue': 5,\n",
       " 'time_spent_total': 16.032825420861524}"
      ]
     },
     "execution_count": 7,
     "metadata": {},
     "output_type": "execute_result"
    }
   ],
   "source": [
    "e"
   ]
  },
  {
   "cell_type": "code",
   "execution_count": 2,
   "id": "416e239b-bf74-47d5-a70c-ba151f324c65",
   "metadata": {},
   "outputs": [],
   "source": [
    "from zero_helpers.imports import * \n",
    "from zero_liftsim.simmanager import SimulationManager\n",
    "from zero_liftsim.helpers import base_config\n",
    "from zero_liftsim.experience import AgentRideLoopExperience\n",
    "from zero_liftsim.helpers import load_asset_template\n",
    "from zero_liftsim import helpers as hp\n",
    "from zero_liftsim.lift import Lift\n",
    "\n",
    "import inspect"
   ]
  },
  {
   "cell_type": "markdown",
   "id": "1e4f5e7d-b909-4059-b226-198171709472",
   "metadata": {},
   "source": [
    "# Run Simulation"
   ]
  },
  {
   "cell_type": "code",
   "execution_count": 3,
   "id": "62e11d5f-031e-4c14-8de8-b725bb31fd49",
   "metadata": {},
   "outputs": [
    {
     "name": "stdout",
     "output_type": "stream",
     "text": [
      "{'total_rides': 12, 'average_wait': 2.75, 'agents': [Agent(1) tacit-user 1be840dc-1140-4947-b6f0-2dcc233c0023, Agent(2) seemly-tackle 780a20a8-3427-48df-8e02-ad3b9251f5ce, Agent(3) tangible-maintenance e65ea3cc-6c36-4bf0-9a61-93701546163e]}\n"
     ]
    }
   ],
   "source": [
    "cfg = base_config()\n",
    "cfg[\"SimulationManager\"][\"__init__\"].update({\"n_agents\": 3, \"lift_capacity\": 2})\n",
    "manager = SimulationManager(cfg)\n",
    "result = manager.run(runtime_minutes=60)\n",
    "print(result)"
   ]
  },
  {
   "cell_type": "code",
   "execution_count": 4,
   "id": "a78f7302-113b-4017-b18b-96feb148d9f3",
   "metadata": {},
   "outputs": [
    {
     "data": {
      "text/plain": [
       "50"
      ]
     },
     "execution_count": 4,
     "metadata": {},
     "output_type": "execute_result"
    }
   ],
   "source": [
    "lift = manager.lift\n",
    "lift.total_chairs()"
   ]
  },
  {
   "cell_type": "markdown",
   "id": "c07b3eb9-8e31-4808-9347-4fe4f43337dc",
   "metadata": {},
   "source": [
    "## Retrieve Data from Simulation"
   ]
  },
  {
   "cell_type": "code",
   "execution_count": 5,
   "id": "b008fd77-98be-47ac-84a9-a0d5f3db87a6",
   "metadata": {},
   "outputs": [],
   "source": [
    "# get rideloop explogs and agent event log\n",
    "exp_log_data = manager.retrieve_data()\n",
    "exp = exp_log_data['exp_rideloop']\n",
    "log = exp_log_data['agent_log']"
   ]
  },
  {
   "cell_type": "markdown",
   "id": "2dbff9e8-c7f4-49bf-a1ea-dc8c41cf4caa",
   "metadata": {},
   "source": [
    "# Dev"
   ]
  },
  {
   "cell_type": "code",
   "execution_count": 6,
   "id": "30e3f530-81ed-4030-83ef-1aca505be7c1",
   "metadata": {},
   "outputs": [],
   "source": [
    "# sample agent and subset exp/log to e/l for agent subset of those\n",
    "m = log['event'] == 'ride_complete'\n",
    "event_ride_comp = log[m].sample().iloc[0].to_dict()\n",
    "agent = manager.lookup_agent(event_ride_comp['agent_uuid'])\n",
    "l = log[log['agent_uuid'] == agent.agent_uuid]\n",
    "idx = (exp['time'] - event_ride_comp['time']).dt.total_seconds().abs().idxmin()\n",
    "e = exp.loc[idx].to_dict()"
   ]
  },
  {
   "cell_type": "code",
   "execution_count": 7,
   "id": "5af4c7fb-b551-4a24-ac66-9babe1868113",
   "metadata": {},
   "outputs": [
    {
     "name": "stdout",
     "output_type": "stream",
     "text": [
      "# Experience Log \n",
      "\n",
      "exp_id: 24da8952-5247-45dd-a68c-8c9bdbecc30c\n",
      "agent_uuid: e65ea3cc-6c36-4bf0-9a61-93701546163e\n",
      "return_event_uuid: eb85fd4c-9d0f-4c9e-8a8a-7ebe12b896d8\n",
      "\n",
      "*** \n",
      "\n",
      "\n",
      "time_spent_in_queue: 5\n",
      "time_spent_ride_lift: 7.284298220247956\n",
      "time_spent_traverse_down_mountain: 4.371494866232662\n",
      "\n",
      "***\n",
      "\n",
      "# Full Dict\n",
      "\n",
      "{\n",
      "    \"exp_id\": \"24da8952-5247-45dd-a68c-8c9bdbecc30c\",\n",
      "    \"return_event_uuid\": \"eb85fd4c-9d0f-4c9e-8a8a-7ebe12b896d8\",\n",
      "    \"agent_uuid\": \"e65ea3cc-6c36-4bf0-9a61-93701546163e\",\n",
      "    \"agent_uuid_codename\": \"tangible-maintenance\",\n",
      "    \"time_spent_ride_lift\": 7.284298220247956,\n",
      "    \"time_spent_traverse_down_mountain\": 4.371494866232662,\n",
      "    \"time_spent_in_queue\": 5,\n",
      "    \"time_spent_total\": 16.655793086480617\n",
      "}\n",
      "\n",
      "# Agent Log\n",
      "\n",
      "{\n",
      "    \"0941c6de-5d4f-4b2e-b296-e5f6ef2d5553\": {\n",
      "        \"return_event_uuid\": \"\",\n",
      "        \"time\": \"2025-03-12T09:02:00\",\n",
      "        \"time_offset\": 2,\n",
      "        \"event\": \"start_wait\",\n",
      "        \"agent_id\": 3,\n",
      "        \"agent_uuid\": \"e65ea3cc-6c36-4bf0-9a61-93701546163e\",\n",
      "        \"agent_uuid_codename\": \"tangible-maintenance\"\n",
      "    },\n",
      "    \"bf99971d-d6d1-4ed7-af7c-d60763d64385\": {\n",
      "        \"return_event_uuid\": \"\",\n",
      "        \"time\": \"2025-03-12T09:02:00\",\n",
      "        \"time_offset\": 2,\n",
      "        \"event\": \"arrival\",\n",
      "        \"agent_id\": 3,\n",
      "        \"agent_uuid\": \"e65ea3cc-6c36-4bf0-9a61-93701546163e\",\n",
      "        \"agent_uuid_codename\": \"tangible-maintenance\",\n",
      "        \"queue_length\": 2,\n",
      "        \"lift_state\": \"moving\"\n",
      "    },\n",
      "    \"c4c6d8a2-ed5c-4d0d-9c2a-3b6ee48b67aa\": {\n",
      "        \"return_event_uuid\": \"\",\n",
      "        \"time\": \"2025-03-12T09:07:00\",\n",
      "        \"time_offset\": 7,\n",
      "        \"event\": \"board\",\n",
      "        \"agent_id\": 3,\n",
      "        \"agent_uuid\": \"e65ea3cc-6c36-4bf0-9a61-93701546163e\",\n",
      "        \"agent_uuid_codename\": \"tangible-maintenance\",\n",
      "        \"queue_length\": 0,\n",
      "        \"lift_state\": \"moving\"\n",
      "    },\n",
      "    \"d25d750b-3852-41d6-9b0b-adbc11467728\": {\n",
      "        \"return_event_uuid\": \"eb85fd4c-9d0f-4c9e-8a8a-7ebe12b896d8\",\n",
      "        \"time\": \"2025-03-12T09:14:00\",\n",
      "        \"time_offset\": 14,\n",
      "        \"event\": \"ride_complete\",\n",
      "        \"agent_id\": 3,\n",
      "        \"agent_uuid\": \"e65ea3cc-6c36-4bf0-9a61-93701546163e\",\n",
      "        \"agent_uuid_codename\": \"tangible-maintenance\",\n",
      "        \"wait_time\": 12,\n",
      "        \"wait_time_readable\": \"12 minutes\"\n",
      "    }\n",
      "}\n"
     ]
    }
   ],
   "source": [
    "x = agent.traceback_experience(e['exp_id'])\n",
    "print(x)"
   ]
  },
  {
   "cell_type": "code",
   "execution_count": null,
   "id": "9c30c72c-c7f4-4a55-b0c6-1b045ead58a8",
   "metadata": {},
   "outputs": [],
   "source": []
  },
  {
   "cell_type": "code",
   "execution_count": null,
   "id": "08c148dc-4405-4aca-a4bf-34996b2e68f2",
   "metadata": {},
   "outputs": [],
   "source": []
  },
  {
   "cell_type": "code",
   "execution_count": null,
   "id": "d91d75e2-54f9-4683-97a2-2fec9c83da84",
   "metadata": {},
   "outputs": [],
   "source": []
  }
 ],
 "metadata": {
  "kernelspec": {
   "display_name": "Python 3 (ipykernel)",
   "language": "python",
   "name": "python3"
  },
  "language_info": {
   "codemirror_mode": {
    "name": "ipython",
    "version": 3
   },
   "file_extension": ".py",
   "mimetype": "text/x-python",
   "name": "python",
   "nbconvert_exporter": "python",
   "pygments_lexer": "ipython3",
   "version": "3.11.8"
  }
 },
 "nbformat": 4,
 "nbformat_minor": 5
}
