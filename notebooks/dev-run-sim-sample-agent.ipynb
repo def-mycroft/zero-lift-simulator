{
 "cells": [
  {
   "cell_type": "code",
   "execution_count": 7,
   "id": "01b69f92-8043-4f9d-8045-313a0de567bb",
   "metadata": {},
   "outputs": [
    {
     "name": "stdout",
     "output_type": "stream",
     "text": [
      "The autoreload extension is already loaded. To reload it, use:\n",
      "  %reload_ext autoreload\n"
     ]
    }
   ],
   "source": [
    "%load_ext autoreload\n",
    "%autoreload 2"
   ]
  },
  {
   "cell_type": "code",
   "execution_count": 8,
   "id": "55a6fee9-9370-4de3-9016-c028a6dfddbb",
   "metadata": {},
   "outputs": [],
   "source": [
    "from zero_helpers.imports import * "
   ]
  },
  {
   "cell_type": "code",
   "execution_count": 9,
   "id": "baaae9a1-2ec8-4b6b-91d8-fa6cfbe6c8e6",
   "metadata": {},
   "outputs": [],
   "source": [
    "from zero_liftsim.simmanager import SimulationManager\n",
    "from zero_liftsim.helpers import load_asset_template"
   ]
  },
  {
   "cell_type": "markdown",
   "id": "1e4f5e7d-b909-4059-b226-198171709472",
   "metadata": {},
   "source": [
    "# Run Simulation"
   ]
  },
  {
   "cell_type": "code",
   "execution_count": 10,
   "id": "d0236d85-7235-4ce4-bc75-c65a65df1d44",
   "metadata": {},
   "outputs": [
    {
     "name": "stdout",
     "output_type": "stream",
     "text": [
      "{'total_rides': 332, 'average_wait': 1.6626506024096386, 'agents': [Agent(1) abaft-situation 28a4644f-6c8f-49e2-82d0-fccac58ed43f, Agent(2) closed-psychology 6f3a5d5e-b3b1-4c90-af5f-f021f03058fd, Agent(3) energetic-negotiation 72378a31-5bb1-44f1-9fa5-3dc07445b172, Agent(4) absorbing-height b3e85f36-112c-445e-ba97-ec7e5fbb4b18, Agent(5) snotty-assistant 71680d87-455d-4834-9373-d2a1bac1b561, Agent(6) sparkling-method 27dc8d99-8ecb-49b2-af67-573c202a452d, Agent(7) didactic-price 73e3ddf0-d7db-4805-8e5e-2a652d49695f, Agent(8) five-bend 2a63d848-f5f0-45e4-a4d6-9ad08891bd2b, Agent(9) unique-excuse 80da915b-9b18-46a9-80b8-1cf3dfa311c0, Agent(10) cruel-contact 5701457a-3491-4c35-9377-392c2b3900f7]}\n"
     ]
    }
   ],
   "source": [
    "# setup and run simulation\n",
    "manager = SimulationManager(\n",
    "    n_agents=10,\n",
    "    lift_capacity=2,\n",
    ")\n",
    "result = manager.run()\n",
    "print(result)"
   ]
  },
  {
   "cell_type": "code",
   "execution_count": 11,
   "id": "a78f7302-113b-4017-b18b-96feb148d9f3",
   "metadata": {},
   "outputs": [
    {
     "data": {
      "text/plain": [
       "50"
      ]
     },
     "execution_count": 11,
     "metadata": {},
     "output_type": "execute_result"
    }
   ],
   "source": [
    "lift = manager.lift\n",
    "lift.total_chairs()"
   ]
  },
  {
   "cell_type": "markdown",
   "id": "c07b3eb9-8e31-4808-9347-4fe4f43337dc",
   "metadata": {},
   "source": [
    "## Retrieve Data from Simulation"
   ]
  },
  {
   "cell_type": "code",
   "execution_count": 12,
   "id": "b008fd77-98be-47ac-84a9-a0d5f3db87a6",
   "metadata": {},
   "outputs": [],
   "source": [
    "# get rideloop explogs and agent event log\n",
    "exp_log_data = manager.retrieve_data()\n",
    "e = exp_log_data['exp_rideloop']\n",
    "l = exp_log_data['agent_log']"
   ]
  },
  {
   "cell_type": "markdown",
   "id": "9a2868f8-8c09-4968-87fb-42ddd2b8146d",
   "metadata": {},
   "source": [
    "# Sample a Ride Event (from agent log)"
   ]
  },
  {
   "cell_type": "code",
   "execution_count": 13,
   "id": "c61aa8d9-a84d-4f98-9e6e-31b13f4d83a1",
   "metadata": {},
   "outputs": [
    {
     "data": {
      "text/plain": [
       "{'return_event_uuid': '0fa962c0-5f9e-4567-b128-247df14a0eb8',\n",
       " 'time': Timestamp('2025-03-12 11:16:00'),\n",
       " 'time_offset': 136,\n",
       " 'event': 'ride_complete',\n",
       " 'agent_id': 4,\n",
       " 'agent_uuid': 'b3e85f36-112c-445e-ba97-ec7e5fbb4b18',\n",
       " 'agent_uuid_codename': 'absorbing-height',\n",
       " 'queue_length': nan,\n",
       " 'lift_state': nan,\n",
       " 'wait_time': 8,\n",
       " 'wait_time_readable': '8 minutes'}"
      ]
     },
     "execution_count": 13,
     "metadata": {},
     "output_type": "execute_result"
    }
   ],
   "source": [
    "m = l['event'] == 'ride_complete'\n",
    "event_ride_comp =l[m].sample().iloc[0].to_dict()\n",
    "event_ride_comp"
   ]
  },
  {
   "cell_type": "markdown",
   "id": "79825b1e-423b-4dbb-afe8-d7bd38245726",
   "metadata": {},
   "source": [
    "## retrieve agent from ride event"
   ]
  },
  {
   "cell_type": "code",
   "execution_count": 14,
   "id": "7096b403-5dfe-4c43-9637-86016e486c11",
   "metadata": {},
   "outputs": [
    {
     "data": {
      "text/plain": [
       "Agent(4) absorbing-height b3e85f36-112c-445e-ba97-ec7e5fbb4b18"
      ]
     },
     "execution_count": 14,
     "metadata": {},
     "output_type": "execute_result"
    }
   ],
   "source": [
    "a = manager.lookup_agent(event_ride_comp['agent_uuid'])\n",
    "l = l[l['agent_uuid'] == a.agent_uuid]\n",
    "a"
   ]
  },
  {
   "cell_type": "markdown",
   "id": "3aa79a9f-5823-41b3-811b-7fde153f559e",
   "metadata": {},
   "source": [
    "## retrieve exp log related to event (from exp_rideloop object on agent_exp_log_data)"
   ]
  },
  {
   "cell_type": "code",
   "execution_count": 15,
   "id": "6840a954-d939-4b2b-8673-fcb0bcfa5a7a",
   "metadata": {},
   "outputs": [
    {
     "data": {
      "text/plain": [
       "{'time': Timestamp('2025-03-12 11:16:00'),\n",
       " 'exp_id': 'ba1101a2-f621-4e5d-9668-9e8fcc305c1e',\n",
       " 'return_event_uuid': '0fa962c0-5f9e-4567-b128-247df14a0eb8',\n",
       " 'agent_uuid': 'b3e85f36-112c-445e-ba97-ec7e5fbb4b18',\n",
       " 'agent_uuid_codename': 'absorbing-height',\n",
       " 'time_spent_ride_lift': 6.934697783769498,\n",
       " 'time_spent_traverse_down_mountain': 3.498429112877364,\n",
       " 'time_spent_in_queue': 2,\n",
       " 'time_spent_total': 12.433126896646861}"
      ]
     },
     "execution_count": 15,
     "metadata": {},
     "output_type": "execute_result"
    }
   ],
   "source": [
    "idx = (e['time'] - event_ride_comp['time']).dt.total_seconds().abs().idxmin()\n",
    "exp = e.loc[idx].to_dict()\n",
    "exp"
   ]
  },
  {
   "cell_type": "code",
   "execution_count": 16,
   "id": "c6e76b24",
   "metadata": {},
   "outputs": [
    {
     "data": {
      "text/plain": [
       "Agent(4) absorbing-height b3e85f36-112c-445e-ba97-ec7e5fbb4b18"
      ]
     },
     "execution_count": 16,
     "metadata": {},
     "output_type": "execute_result"
    }
   ],
   "source": [
    "a = manager.lookup_agent(event_ride_comp['agent_uuid'])\n",
    "l = l[l['agent_uuid'] == a.agent_uuid]\n",
    "a"
   ]
  },
  {
   "cell_type": "code",
   "execution_count": 17,
   "id": "fdc6b202-b131-444f-90eb-4d67370e0506",
   "metadata": {},
   "outputs": [
    {
     "name": "stdout",
     "output_type": "stream",
     "text": [
      "# Experience Log \n",
      "\n",
      "exp_id: ba1101a2-f621-4e5d-9668-9e8fcc305c1e\n",
      "agent_uuid: b3e85f36-112c-445e-ba97-ec7e5fbb4b18\n",
      "return_event_uuid: 0fa962c0-5f9e-4567-b128-247df14a0eb8\n",
      "\n",
      "*** \n",
      "\n",
      "\n",
      "time_spent_in_queue: 2\n",
      "time_spent_ride_lift: 6.934697783769498\n",
      "time_spent_traverse_down_mountain: 3.498429112877364\n",
      "\n"
     ]
    }
   ],
   "source": [
    "t = load_asset_template('agent-ride-exp.md.j2')\n",
    "print(t.render(exp))"
   ]
  }
 ],
 "metadata": {
  "kernelspec": {
   "display_name": "Python 3 (ipykernel)",
   "language": "python",
   "name": "python3"
  },
  "language_info": {
   "codemirror_mode": {
    "name": "ipython",
    "version": 3
   },
   "file_extension": ".py",
   "mimetype": "text/x-python",
   "name": "python",
   "nbconvert_exporter": "python",
   "pygments_lexer": "ipython3",
   "version": "3.11.8"
  }
 },
 "nbformat": 4,
 "nbformat_minor": 5
}
