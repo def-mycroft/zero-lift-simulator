{
 "cells": [
  {
   "cell_type": "code",
   "execution_count": 1,
   "id": "23b4bc33-2304-49b8-af8f-ad9dcae4302b",
   "metadata": {},
   "outputs": [],
   "source": [
    "%load_ext autoreload\n",
    "%autoreload 2"
   ]
  },
  {
   "cell_type": "code",
   "execution_count": 2,
   "id": "55a6fee9-9370-4de3-9016-c028a6dfddbb",
   "metadata": {},
   "outputs": [],
   "source": [
    "from zero_helpers.imports import * "
   ]
  },
  {
   "cell_type": "code",
   "execution_count": 17,
   "id": "77555181-118f-491e-9712-d3f3d0e17ccb",
   "metadata": {},
   "outputs": [
    {
     "name": "stdout",
     "output_type": "stream",
     "text": [
      "{'total_rides': 35, 'average_wait': 26.714285714285715, 'agents': [Agent(1), Agent(2), Agent(3), Agent(4), Agent(5), Agent(6), Agent(7), Agent(8), Agent(9), Agent(10), Agent(11), Agent(12), Agent(13), Agent(14), Agent(15), Agent(16), Agent(17), Agent(18), Agent(19), Agent(20), Agent(21), Agent(22), Agent(23), Agent(24), Agent(25), Agent(26), Agent(27), Agent(28), Agent(29), Agent(30), Agent(31), Agent(32), Agent(33), Agent(34), Agent(35)]}\n"
     ]
    }
   ],
   "source": [
    "from zero_liftsim.simmanager import SimulationManager\n",
    "\n",
    "manager = SimulationManager(\n",
    "    n_agents=35,\n",
    "    lift_capacity=2,\n",
    "    cycle_time=5,\n",
    ")\n",
    "result = manager.run()\n",
    "print(result)"
   ]
  },
  {
   "cell_type": "code",
   "execution_count": 13,
   "id": "383217e7-e761-404a-aeda-e9b101f4e958",
   "metadata": {},
   "outputs": [],
   "source": [
    "manager.archive_agent_rideloop_experience('/l/tmp')"
   ]
  },
  {
   "cell_type": "code",
   "execution_count": 16,
   "id": "c934dfe4-8e27-4844-89df-f55954a96096",
   "metadata": {},
   "outputs": [
    {
     "data": {
      "text/html": [
       "<div>\n",
       "<style scoped>\n",
       "    .dataframe tbody tr th:only-of-type {\n",
       "        vertical-align: middle;\n",
       "    }\n",
       "\n",
       "    .dataframe tbody tr th {\n",
       "        vertical-align: top;\n",
       "    }\n",
       "\n",
       "    .dataframe thead th {\n",
       "        text-align: right;\n",
       "    }\n",
       "</style>\n",
       "<table border=\"1\" class=\"dataframe\">\n",
       "  <thead>\n",
       "    <tr style=\"text-align: right;\">\n",
       "      <th></th>\n",
       "      <th>event</th>\n",
       "      <th>time</th>\n",
       "      <th>time_offset</th>\n",
       "      <th>agent_uuid</th>\n",
       "      <th>agent_codename</th>\n",
       "      <th>simulation_uuid</th>\n",
       "      <th>simulation_codename</th>\n",
       "      <th>description</th>\n",
       "      <th>queue_length</th>\n",
       "      <th>lift_state</th>\n",
       "    </tr>\n",
       "  </thead>\n",
       "  <tbody>\n",
       "    <tr>\n",
       "      <th>0</th>\n",
       "      <td>ArrivalEvent</td>\n",
       "      <td>2025-03-12T09:23:00</td>\n",
       "      <td>23</td>\n",
       "      <td>939eb980-377d-44da-b07f-1dbfa1650d4e</td>\n",
       "      <td>scientific-club</td>\n",
       "      <td>2090185d-ff82-4812-9c19-dea2dd6f7502</td>\n",
       "      <td>easy-adult</td>\n",
       "      <td>arrival</td>\n",
       "      <td>15</td>\n",
       "      <td>moving</td>\n",
       "    </tr>\n",
       "    <tr>\n",
       "      <th>1</th>\n",
       "      <td>BoardingEvent</td>\n",
       "      <td>2025-03-12T10:00:00</td>\n",
       "      <td>60</td>\n",
       "      <td>939eb980-377d-44da-b07f-1dbfa1650d4e</td>\n",
       "      <td>scientific-club</td>\n",
       "      <td>2090185d-ff82-4812-9c19-dea2dd6f7502</td>\n",
       "      <td>easy-adult</td>\n",
       "      <td>board</td>\n",
       "      <td>10</td>\n",
       "      <td>moving</td>\n",
       "    </tr>\n",
       "    <tr>\n",
       "      <th>2</th>\n",
       "      <td>ReturnEvent</td>\n",
       "      <td>2025-03-12T10:05:00</td>\n",
       "      <td>65</td>\n",
       "      <td>939eb980-377d-44da-b07f-1dbfa1650d4e</td>\n",
       "      <td>scientific-club</td>\n",
       "      <td>2090185d-ff82-4812-9c19-dea2dd6f7502</td>\n",
       "      <td>easy-adult</td>\n",
       "      <td>completed ride</td>\n",
       "      <td>10</td>\n",
       "      <td>idle</td>\n",
       "    </tr>\n",
       "  </tbody>\n",
       "</table>\n",
       "</div>"
      ],
      "text/plain": [
       "           event                 time  time_offset  \\\n",
       "0   ArrivalEvent  2025-03-12T09:23:00           23   \n",
       "1  BoardingEvent  2025-03-12T10:00:00           60   \n",
       "2    ReturnEvent  2025-03-12T10:05:00           65   \n",
       "\n",
       "                             agent_uuid   agent_codename  \\\n",
       "0  939eb980-377d-44da-b07f-1dbfa1650d4e  scientific-club   \n",
       "1  939eb980-377d-44da-b07f-1dbfa1650d4e  scientific-club   \n",
       "2  939eb980-377d-44da-b07f-1dbfa1650d4e  scientific-club   \n",
       "\n",
       "                        simulation_uuid simulation_codename     description  \\\n",
       "0  2090185d-ff82-4812-9c19-dea2dd6f7502          easy-adult         arrival   \n",
       "1  2090185d-ff82-4812-9c19-dea2dd6f7502          easy-adult           board   \n",
       "2  2090185d-ff82-4812-9c19-dea2dd6f7502          easy-adult  completed ride   \n",
       "\n",
       "   queue_length lift_state  \n",
       "0            15     moving  \n",
       "1            10     moving  \n",
       "2            10       idle  "
      ]
     },
     "execution_count": 16,
     "metadata": {},
     "output_type": "execute_result"
    }
   ],
   "source": [
    "sm = manager.sim\n",
    "uuid = pd.Series([x['agent_uuid'] for x in sm.agent_records()]).sample().iloc[0]\n",
    "pd.DataFrame([x for x in sm.agent_records() if x['agent_uuid'] == uuid])"
   ]
  },
  {
   "cell_type": "code",
   "execution_count": null,
   "id": "7b5d742d-382c-4ad9-9f4f-0e1bdfec23b4",
   "metadata": {},
   "outputs": [],
   "source": []
  },
  {
   "cell_type": "code",
   "execution_count": null,
   "id": "b89ec9d9-3c82-4269-9f11-be104511f5ac",
   "metadata": {},
   "outputs": [],
   "source": []
  },
  {
   "cell_type": "code",
   "execution_count": null,
   "id": "ee93425f-91e5-431b-bf81-fabf3beec044",
   "metadata": {},
   "outputs": [],
   "source": []
  },
  {
   "cell_type": "code",
   "execution_count": null,
   "id": "2d20ea1a-663d-48b1-9441-fd2f760c0d74",
   "metadata": {},
   "outputs": [],
   "source": []
  },
  {
   "cell_type": "markdown",
   "id": "f4e26e65-5673-4c32-bde6-b4fc1e2cd112",
   "metadata": {},
   "source": [
    "# Scratchpad"
   ]
  },
  {
   "cell_type": "code",
   "execution_count": null,
   "id": "7ffce794-48e8-4c73-a719-8603c96342fb",
   "metadata": {},
   "outputs": [],
   "source": [
    "data = run_alpha_sim(n_agents=3, lift_capacity=2, cycle_time=5)\n",
    "agents = data['agents']\n",
    "a = pd.Series(agents).sample().iloc[0]"
   ]
  }
 ],
 "metadata": {
  "kernelspec": {
   "display_name": "Python 3 (ipykernel)",
   "language": "python",
   "name": "python3"
  },
  "language_info": {
   "codemirror_mode": {
    "name": "ipython",
    "version": 3
   },
   "file_extension": ".py",
   "mimetype": "text/x-python",
   "name": "python",
   "nbconvert_exporter": "python",
   "pygments_lexer": "ipython3",
   "version": "3.11.8"
  }
 },
 "nbformat": 4,
 "nbformat_minor": 5
}
