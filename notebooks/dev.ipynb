{
 "cells": [
  {
   "cell_type": "code",
   "execution_count": 1,
   "id": "23b4bc33-2304-49b8-af8f-ad9dcae4302b",
   "metadata": {},
   "outputs": [],
   "source": [
    "%load_ext autoreload\n",
    "%autoreload 2"
   ]
  },
  {
   "cell_type": "code",
   "execution_count": null,
   "id": "55a6fee9-9370-4de3-9016-c028a6dfddbb",
   "metadata": {},
   "outputs": [],
   "source": [
    "from zero_helpers.imports import * "
   ]
  },
  {
   "cell_type": "code",
   "execution_count": 3,
   "id": "77555181-118f-491e-9712-d3f3d0e17ccb",
   "metadata": {},
   "outputs": [
    {
     "ename": "ModuleNotFoundError",
     "evalue": "No module named 'zero_liftsim.simmanager'",
     "output_type": "error",
     "traceback": [
      "\u001b[0;31m---------------------------------------------------------------------------\u001b[0m",
      "\u001b[0;31mModuleNotFoundError\u001b[0m                       Traceback (most recent call last)",
      "Cell \u001b[0;32mIn[3], line 1\u001b[0m\n\u001b[0;32m----> 1\u001b[0m \u001b[38;5;28;01mfrom\u001b[39;00m\u001b[38;5;250m \u001b[39m\u001b[38;5;21;01mzero_liftsim\u001b[39;00m\u001b[38;5;21;01m.\u001b[39;00m\u001b[38;5;21;01msimmanager\u001b[39;00m\u001b[38;5;250m \u001b[39m\u001b[38;5;28;01mimport\u001b[39;00m SimulationManager\n\u001b[1;32m      3\u001b[0m manager \u001b[38;5;241m=\u001b[39m SimulationManager(\n\u001b[1;32m      4\u001b[0m     n_agents\u001b[38;5;241m=\u001b[39m\u001b[38;5;241m3\u001b[39m,\n\u001b[1;32m      5\u001b[0m     lift_capacity\u001b[38;5;241m=\u001b[39m\u001b[38;5;241m2\u001b[39m,\n\u001b[1;32m      6\u001b[0m     cycle_time\u001b[38;5;241m=\u001b[39m\u001b[38;5;241m5\u001b[39m,\n\u001b[1;32m      7\u001b[0m )\n\u001b[1;32m      8\u001b[0m result \u001b[38;5;241m=\u001b[39m manager\u001b[38;5;241m.\u001b[39mrun()\n",
      "\u001b[0;31mModuleNotFoundError\u001b[0m: No module named 'zero_liftsim.simmanager'"
     ]
    }
   ],
   "source": [
    "from zero_liftsim.simmanager import SimulationManager\n",
    "\n",
    "manager = SimulationManager(\n",
    "    n_agents=3,\n",
    "    lift_capacity=2,\n",
    "    cycle_time=5,\n",
    ")\n",
    "result = manager.run()\n",
    "print(result)"
   ]
  },
  {
   "cell_type": "code",
   "execution_count": null,
   "id": "7b5d742d-382c-4ad9-9f4f-0e1bdfec23b4",
   "metadata": {},
   "outputs": [],
   "source": []
  },
  {
   "cell_type": "code",
   "execution_count": null,
   "id": "b89ec9d9-3c82-4269-9f11-be104511f5ac",
   "metadata": {},
   "outputs": [],
   "source": []
  },
  {
   "cell_type": "code",
   "execution_count": null,
   "id": "ee93425f-91e5-431b-bf81-fabf3beec044",
   "metadata": {},
   "outputs": [],
   "source": []
  },
  {
   "cell_type": "code",
   "execution_count": null,
   "id": "2d20ea1a-663d-48b1-9441-fd2f760c0d74",
   "metadata": {},
   "outputs": [],
   "source": []
  },
  {
   "cell_type": "markdown",
   "id": "f4e26e65-5673-4c32-bde6-b4fc1e2cd112",
   "metadata": {},
   "source": [
    "# Scratchpad"
   ]
  },
  {
   "cell_type": "code",
   "execution_count": null,
   "id": "7ffce794-48e8-4c73-a719-8603c96342fb",
   "metadata": {},
   "outputs": [],
   "source": [
    "data = run_alpha_sim(n_agents=3, lift_capacity=2, cycle_time=5)\n",
    "agents = data['agents']\n",
    "a = pd.Series(agents).sample().iloc[0]"
   ]
  }
 ],
 "metadata": {
  "kernelspec": {
   "display_name": "Python 3 (ipykernel)",
   "language": "python",
   "name": "python3"
  },
  "language_info": {
   "codemirror_mode": {
    "name": "ipython",
    "version": 3
   },
   "file_extension": ".py",
   "mimetype": "text/x-python",
   "name": "python",
   "nbconvert_exporter": "python",
   "pygments_lexer": "ipython3",
   "version": "3.11.8"
  }
 },
 "nbformat": 4,
 "nbformat_minor": 5
}
