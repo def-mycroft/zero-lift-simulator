{
 "cells": [
  {
   "cell_type": "code",
   "execution_count": 80,
   "id": "23b4bc33-2304-49b8-af8f-ad9dcae4302b",
   "metadata": {},
   "outputs": [
    {
     "name": "stdout",
     "output_type": "stream",
     "text": [
      "The autoreload extension is already loaded. To reload it, use:\n",
      "  %reload_ext autoreload\n"
     ]
    }
   ],
   "source": [
    "%load_ext autoreload\n",
    "%autoreload 2"
   ]
  },
  {
   "cell_type": "code",
   "execution_count": 81,
   "id": "55a6fee9-9370-4de3-9016-c028a6dfddbb",
   "metadata": {},
   "outputs": [],
   "source": [
    "from zero_helpers.imports import * "
   ]
  },
  {
   "cell_type": "code",
   "execution_count": 83,
   "id": "baaae9a1-2ec8-4b6b-91d8-fa6cfbe6c8e6",
   "metadata": {},
   "outputs": [],
   "source": [
    "from zero_liftsim.simmanager import SimulationManager\n",
    "from zero_liftsim.helpers import load_asset_template"
   ]
  },
  {
   "cell_type": "markdown",
   "id": "1e4f5e7d-b909-4059-b226-198171709472",
   "metadata": {},
   "source": [
    "# Run Simulation"
   ]
  },
  {
   "cell_type": "code",
   "execution_count": 84,
   "id": "d0236d85-7235-4ce4-bc75-c65a65df1d44",
   "metadata": {},
   "outputs": [
    {
     "name": "stdout",
     "output_type": "stream",
     "text": [
      "{'total_rides': 127, 'average_wait': 20.866141732283463, 'agents': [Agent(1) tested-bicycle 30c385ea-bdb2-43e1-8164-3ebec8f4230b, Agent(2) glib-pollution d0a42e94-5b33-404e-8d63-d22955ac2b7c, Agent(3) voracious-safe ccd4f12b-e147-44c3-80a7-90a5cbdc0f55, Agent(4) marked-complaint 8264531c-ea3c-4f38-8602-65bab43b3b7a, Agent(5) swift-cable a05a2b0a-fff6-49aa-8c41-d9370cd4d4c4, Agent(6) obscene-implement ce64dded-8935-45ed-8719-8b01b7900ed6, Agent(7) penitent-train d49b1b03-0e0b-4ad1-a81f-06c95d2ea77a, Agent(8) heady-committee ae3ce3a9-a567-49cd-9f33-9ef0cf9c542f, Agent(9) green-party 978f3b91-2f50-4b1c-bd48-592610341f5f, Agent(10) recondite-temperature 557ac1f0-bfc1-435b-810a-2319446ce371]}\n"
     ]
    }
   ],
   "source": [
    "# setup and run simulation\n",
    "manager = SimulationManager(\n",
    "    n_agents=10,\n",
    "    lift_capacity=2,\n",
    ")\n",
    "result = manager.run()\n",
    "print(result)"
   ]
  },
  {
   "cell_type": "markdown",
   "id": "21ed9874-123c-4780-8b5e-6fe8475fac98",
   "metadata": {},
   "source": [
    "# Retrieve Data from Simulation"
   ]
  },
  {
   "cell_type": "code",
   "execution_count": 85,
   "id": "b008fd77-98be-47ac-84a9-a0d5f3db87a6",
   "metadata": {},
   "outputs": [],
   "source": [
    "# get rideloop explogs and agent event log\n",
    "d = manager.retrieve_data()\n",
    "e = d['exp_rideloop']\n",
    "l = d['agent_log']"
   ]
  },
  {
   "cell_type": "markdown",
   "id": "9a2868f8-8c09-4968-87fb-42ddd2b8146d",
   "metadata": {},
   "source": [
    "# Sample a Ride Event (from agent log)"
   ]
  },
  {
   "cell_type": "code",
   "execution_count": 86,
   "id": "c61aa8d9-a84d-4f98-9e6e-31b13f4d83a1",
   "metadata": {},
   "outputs": [
    {
     "data": {
      "text/plain": [
       "{'return_event_uuid': '1f137a7a-88eb-4f85-8b70-dac93bdd3e33',\n",
       " 'time': Timestamp('2025-03-12 14:25:00'),\n",
       " 'time_offset': 325,\n",
       " 'event': 'ride_complete',\n",
       " 'agent_id': 7,\n",
       " 'agent_uuid': 'd49b1b03-0e0b-4ad1-a81f-06c95d2ea77a',\n",
       " 'agent_uuid_codename': 'penitent-train',\n",
       " 'queue_length': nan,\n",
       " 'lift_state': nan,\n",
       " 'wait_time': 32,\n",
       " 'wait_time_readable': '32 minutes'}"
      ]
     },
     "execution_count": 86,
     "metadata": {},
     "output_type": "execute_result"
    }
   ],
   "source": [
    "m = l['event'] == 'ride_complete'\n",
    "event_ride_comp =l[m].sample().iloc[0].to_dict()\n",
    "event_ride_comp"
   ]
  },
  {
   "cell_type": "markdown",
   "id": "79825b1e-423b-4dbb-afe8-d7bd38245726",
   "metadata": {},
   "source": [
    "## retrieve agent from ride event"
   ]
  },
  {
   "cell_type": "code",
   "execution_count": 87,
   "id": "7096b403-5dfe-4c43-9637-86016e486c11",
   "metadata": {},
   "outputs": [
    {
     "data": {
      "text/plain": [
       "Agent(7) penitent-train d49b1b03-0e0b-4ad1-a81f-06c95d2ea77a"
      ]
     },
     "execution_count": 87,
     "metadata": {},
     "output_type": "execute_result"
    }
   ],
   "source": [
    "a = manager.lookup_agent(event_ride_comp['agent_uuid'])\n",
    "l = l[l['agent_uuid'] == a.agent_uuid]\n",
    "a"
   ]
  },
  {
   "cell_type": "markdown",
   "id": "3aa79a9f-5823-41b3-811b-7fde153f559e",
   "metadata": {},
   "source": [
    "## retrieve exp log related to event (from exp_rideloop object on agent_exp_log_data)"
   ]
  },
  {
   "cell_type": "code",
   "execution_count": 93,
   "id": "6840a954-d939-4b2b-8673-fcb0bcfa5a7a",
   "metadata": {},
   "outputs": [
    {
     "data": {
      "text/plain": [
       "{'time': Timestamp('2025-03-12 12:15:00'),\n",
       " 'exp_id': 'a9a8d8cd-0a77-432e-bd9a-a4da5c667e81',\n",
       " 'return_event_uuid': '4a54ff50-4446-4d81-8e3d-065abef60bd1',\n",
       " 'agent_uuid': '978f3b91-2f50-4b1c-bd48-592610341f5f',\n",
       " 'agent_uuid_codename': 'green-party',\n",
       " 'time_spent_ride_lift': 8.090017345076081,\n",
       " 'time_spent_traverse_down_mountain': 8.62845504161654,\n",
       " 'time_spent_in_queue': 19,\n",
       " 'time_spent_total': 35.718472386692625}"
      ]
     },
     "execution_count": 93,
     "metadata": {},
     "output_type": "execute_result"
    }
   ],
   "source": [
    "idx = (e['time'] - event_complete_ride['time']).dt.total_seconds().abs().idxmin()\n",
    "exp = e.loc[idx].to_dict()\n",
    "exp"
   ]
  },
  {
   "cell_type": "code",
   "execution_count": 95,
   "id": "fdc6b202-b131-444f-90eb-4d67370e0506",
   "metadata": {},
   "outputs": [
    {
     "name": "stdout",
     "output_type": "stream",
     "text": [
      "# Experience Log \n",
      "\n",
      "exp_id: a9a8d8cd-0a77-432e-bd9a-a4da5c667e81\n",
      "agent_uuid: 978f3b91-2f50-4b1c-bd48-592610341f5f\n",
      "return_event_uuid: 4a54ff50-4446-4d81-8e3d-065abef60bd1\n",
      "\n",
      "*** \n",
      "\n",
      "\n",
      "time_spent_in_queue: 19\n",
      "time_spent_ride_lift: 8.090017345076081\n",
      "time_spent_traverse_down_mountain: 8.62845504161654\n",
      "\n"
     ]
    }
   ],
   "source": [
    "t = load_asset_template('agent-ride-exp.md.j2')\n",
    "print(t.render(exp))"
   ]
  },
  {
   "cell_type": "code",
   "execution_count": null,
   "id": "da1bcfc5-5820-45f6-a621-296279d31659",
   "metadata": {},
   "outputs": [],
   "source": []
  },
  {
   "cell_type": "code",
   "execution_count": null,
   "id": "065a55c6-7e5f-46d6-931c-f69bd9567992",
   "metadata": {},
   "outputs": [],
   "source": []
  },
  {
   "cell_type": "code",
   "execution_count": null,
   "id": "97fda05a-ab95-47be-972f-57338c2c444e",
   "metadata": {},
   "outputs": [],
   "source": []
  },
  {
   "cell_type": "code",
   "execution_count": null,
   "id": "8607829f-9e4e-415d-aa2c-b4a137db2607",
   "metadata": {},
   "outputs": [],
   "source": []
  },
  {
   "cell_type": "code",
   "execution_count": null,
   "id": "37018b78-2b12-41c2-af77-05860f0a0060",
   "metadata": {},
   "outputs": [],
   "source": []
  },
  {
   "cell_type": "code",
   "execution_count": null,
   "id": "6d7d60b6-7217-4d46-a4cc-5d228eb3c101",
   "metadata": {},
   "outputs": [],
   "source": []
  },
  {
   "cell_type": "code",
   "execution_count": null,
   "id": "77cedb5d-8c8d-42a6-aa4a-1a0514b9ed30",
   "metadata": {},
   "outputs": [],
   "source": []
  },
  {
   "cell_type": "code",
   "execution_count": null,
   "id": "84f462c5-7394-4e50-bca6-835eb27f304e",
   "metadata": {},
   "outputs": [],
   "source": []
  }
 ],
 "metadata": {
  "kernelspec": {
   "display_name": "Python 3 (ipykernel)",
   "language": "python",
   "name": "python3"
  },
  "language_info": {
   "codemirror_mode": {
    "name": "ipython",
    "version": 3
   },
   "file_extension": ".py",
   "mimetype": "text/x-python",
   "name": "python",
   "nbconvert_exporter": "python",
   "pygments_lexer": "ipython3",
   "version": "3.11.8"
  }
 },
 "nbformat": 4,
 "nbformat_minor": 5
}
