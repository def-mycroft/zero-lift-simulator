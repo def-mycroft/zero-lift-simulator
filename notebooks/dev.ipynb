{
 "cells": [
  {
   "cell_type": "code",
   "execution_count": 106,
   "id": "23b4bc33-2304-49b8-af8f-ad9dcae4302b",
   "metadata": {},
   "outputs": [
    {
     "name": "stdout",
     "output_type": "stream",
     "text": [
      "The autoreload extension is already loaded. To reload it, use:\n",
      "  %reload_ext autoreload\n"
     ]
    }
   ],
   "source": [
    "%load_ext autoreload\n",
    "%autoreload 2"
   ]
  },
  {
   "cell_type": "code",
   "execution_count": 107,
   "id": "55a6fee9-9370-4de3-9016-c028a6dfddbb",
   "metadata": {},
   "outputs": [],
   "source": [
    "from zero_helpers.imports import * "
   ]
  },
  {
   "cell_type": "code",
   "execution_count": 108,
   "id": "baaae9a1-2ec8-4b6b-91d8-fa6cfbe6c8e6",
   "metadata": {},
   "outputs": [],
   "source": [
    "from zero_liftsim.simmanager import SimulationManager\n",
    "from zero_liftsim.helpers import load_asset_template"
   ]
  },
  {
   "cell_type": "markdown",
   "id": "1e4f5e7d-b909-4059-b226-198171709472",
   "metadata": {},
   "source": [
    "# Run Simulation"
   ]
  },
  {
   "cell_type": "code",
   "execution_count": 109,
   "id": "d0236d85-7235-4ce4-bc75-c65a65df1d44",
   "metadata": {},
   "outputs": [
    {
     "name": "stdout",
     "output_type": "stream",
     "text": [
      "{'total_rides': 129, 'average_wait': 20.449612403100776, 'agents': [Agent(1) outgoing-information aa4dce45-4a31-4857-9ea8-1c25f213e5d3, Agent(2) illustrious-length 63e9d8b8-d31b-40de-99d9-fd6eff521a7f, Agent(3) impossible-uncle 5632f4b5-cbd0-4c2d-b7c7-374d132ebf1f, Agent(4) nice-region 9e53a7b5-3c5f-4522-8658-da05409e4123, Agent(5) previous-note 71d7431d-e06c-4c39-a6f8-420065584f8b, Agent(6) young-debt 72b3641f-6203-41f3-9049-5ef54492257d, Agent(7) pathetic-ship 0abf690e-3f39-4644-aa50-8a6f90fe8497, Agent(8) friendly-bit e8b22d7f-2338-455b-82b9-1549d423338d, Agent(9) venomous-principle 1eb8c8d9-ac15-4474-a6eb-46d9699362c4, Agent(10) dreary-hour da44a968-c69b-42a3-9b77-434a1f1ecb48]}\n"
     ]
    }
   ],
   "source": [
    "# setup and run simulation\n",
    "manager = SimulationManager(\n",
    "    n_agents=10,\n",
    "    lift_capacity=2,\n",
    ")\n",
    "result = manager.run()\n",
    "print(result)"
   ]
  },
  {
   "cell_type": "markdown",
   "id": "c07b3eb9-8e31-4808-9347-4fe4f43337dc",
   "metadata": {},
   "source": [
    "## Retrieve Data from Simulation"
   ]
  },
  {
   "cell_type": "code",
   "execution_count": 100,
   "id": "b008fd77-98be-47ac-84a9-a0d5f3db87a6",
   "metadata": {},
   "outputs": [],
   "source": [
    "# get rideloop explogs and agent event log\n",
    "d = manager.retrieve_data()\n",
    "e = d['exp_rideloop']\n",
    "l = d['agent_log']"
   ]
  },
  {
   "cell_type": "markdown",
   "id": "21ed9874-123c-4780-8b5e-6fe8475fac98",
   "metadata": {},
   "source": [
    "# Visualization"
   ]
  },
  {
   "cell_type": "code",
   "execution_count": 110,
   "id": "6f048b86-0a51-4bd4-85e4-bbf0872da183",
   "metadata": {},
   "outputs": [],
   "source": [
    "from zero_liftsim import visualize as viz"
   ]
  },
  {
   "cell_type": "code",
   "execution_count": null,
   "id": "84558367-2b16-41ba-a08f-f386f1d10889",
   "metadata": {},
   "outputs": [],
   "source": [
    "x = viz.visualize_states()"
   ]
  },
  {
   "cell_type": "markdown",
   "id": "9a2868f8-8c09-4968-87fb-42ddd2b8146d",
   "metadata": {},
   "source": [
    "# Sample a Ride Event (from agent log)"
   ]
  },
  {
   "cell_type": "code",
   "execution_count": 101,
   "id": "c61aa8d9-a84d-4f98-9e6e-31b13f4d83a1",
   "metadata": {},
   "outputs": [
    {
     "data": {
      "text/plain": [
       "{'return_event_uuid': 'b93e410b-a465-4f28-a8e7-de65ac122ee8',\n",
       " 'time': Timestamp('2025-03-12 11:57:00'),\n",
       " 'time_offset': 177,\n",
       " 'event': 'ride_complete',\n",
       " 'agent_id': 7,\n",
       " 'agent_uuid': '8e2d497b-0d06-4ccf-8ab6-0f8f017f018d',\n",
       " 'agent_uuid_codename': 'pumped-charity',\n",
       " 'queue_length': nan,\n",
       " 'lift_state': nan,\n",
       " 'wait_time': 27,\n",
       " 'wait_time_readable': '27 minutes'}"
      ]
     },
     "execution_count": 101,
     "metadata": {},
     "output_type": "execute_result"
    }
   ],
   "source": [
    "m = l['event'] == 'ride_complete'\n",
    "event_ride_comp =l[m].sample().iloc[0].to_dict()\n",
    "event_ride_comp"
   ]
  },
  {
   "cell_type": "markdown",
   "id": "79825b1e-423b-4dbb-afe8-d7bd38245726",
   "metadata": {},
   "source": [
    "## retrieve agent from ride event"
   ]
  },
  {
   "cell_type": "code",
   "execution_count": 102,
   "id": "7096b403-5dfe-4c43-9637-86016e486c11",
   "metadata": {},
   "outputs": [
    {
     "data": {
      "text/plain": [
       "Agent(7) pumped-charity 8e2d497b-0d06-4ccf-8ab6-0f8f017f018d"
      ]
     },
     "execution_count": 102,
     "metadata": {},
     "output_type": "execute_result"
    }
   ],
   "source": [
    "a = manager.lookup_agent(event_ride_comp['agent_uuid'])\n",
    "l = l[l['agent_uuid'] == a.agent_uuid]\n",
    "a"
   ]
  },
  {
   "cell_type": "markdown",
   "id": "3aa79a9f-5823-41b3-811b-7fde153f559e",
   "metadata": {},
   "source": [
    "## retrieve exp log related to event (from exp_rideloop object on agent_exp_log_data)"
   ]
  },
  {
   "cell_type": "code",
   "execution_count": 103,
   "id": "6840a954-d939-4b2b-8673-fcb0bcfa5a7a",
   "metadata": {},
   "outputs": [
    {
     "data": {
      "text/plain": [
       "{'time': Timestamp('2025-03-12 12:13:00'),\n",
       " 'exp_id': 'd285edf4-b889-4633-ad4d-a96238899908',\n",
       " 'return_event_uuid': '8246aea6-8011-4135-8c84-3ff274e61983',\n",
       " 'agent_uuid': '3bb3268b-ab41-4443-a623-9532409f61c2',\n",
       " 'agent_uuid_codename': 'oval-worth',\n",
       " 'time_spent_ride_lift': 5.826359547699456,\n",
       " 'time_spent_traverse_down_mountain': 1.005474358142088,\n",
       " 'time_spent_in_queue': 21,\n",
       " 'time_spent_total': 27.831833905841542}"
      ]
     },
     "execution_count": 103,
     "metadata": {},
     "output_type": "execute_result"
    }
   ],
   "source": [
    "idx = (e['time'] - event_complete_ride['time']).dt.total_seconds().abs().idxmin()\n",
    "exp = e.loc[idx].to_dict()\n",
    "exp"
   ]
  },
  {
   "cell_type": "code",
   "execution_count": 104,
   "id": "135d359b",
   "metadata": {},
   "outputs": [
    {
     "data": {
      "text/plain": [
       "Agent(7) pumped-charity 8e2d497b-0d06-4ccf-8ab6-0f8f017f018d"
      ]
     },
     "execution_count": 104,
     "metadata": {},
     "output_type": "execute_result"
    }
   ],
   "source": [
    "a = manager.lookup_agent(event_ride_comp['agent_uuid'])\n",
    "l = l[l['agent_uuid'] == a.agent_uuid]\n",
    "a"
   ]
  },
  {
   "cell_type": "code",
   "execution_count": 105,
   "id": "fdc6b202-b131-444f-90eb-4d67370e0506",
   "metadata": {},
   "outputs": [
    {
     "name": "stdout",
     "output_type": "stream",
     "text": [
      "# Experience Log \n",
      "\n",
      "exp_id: d285edf4-b889-4633-ad4d-a96238899908\n",
      "agent_uuid: 3bb3268b-ab41-4443-a623-9532409f61c2\n",
      "return_event_uuid: 8246aea6-8011-4135-8c84-3ff274e61983\n",
      "\n",
      "*** \n",
      "\n",
      "\n",
      "time_spent_in_queue: 21\n",
      "time_spent_ride_lift: 5.826359547699456\n",
      "time_spent_traverse_down_mountain: 1.005474358142088\n",
      "\n"
     ]
    }
   ],
   "source": [
    "t = load_asset_template('agent-ride-exp.md.j2')\n",
    "print(t.render(exp))"
   ]
  },
  {
   "cell_type": "code",
   "execution_count": null,
   "id": "da1bcfc5-5820-45f6-a621-296279d31659",
   "metadata": {},
   "outputs": [],
   "source": []
  },
  {
   "cell_type": "code",
   "execution_count": null,
   "id": "065a55c6-7e5f-46d6-931c-f69bd9567992",
   "metadata": {},
   "outputs": [],
   "source": []
  },
  {
   "cell_type": "code",
   "execution_count": null,
   "id": "97fda05a-ab95-47be-972f-57338c2c444e",
   "metadata": {},
   "outputs": [],
   "source": []
  },
  {
   "cell_type": "code",
   "execution_count": null,
   "id": "8607829f-9e4e-415d-aa2c-b4a137db2607",
   "metadata": {},
   "outputs": [],
   "source": []
  },
  {
   "cell_type": "code",
   "execution_count": null,
   "id": "37018b78-2b12-41c2-af77-05860f0a0060",
   "metadata": {},
   "outputs": [],
   "source": []
  },
  {
   "cell_type": "code",
   "execution_count": null,
   "id": "6d7d60b6-7217-4d46-a4cc-5d228eb3c101",
   "metadata": {},
   "outputs": [],
   "source": []
  },
  {
   "cell_type": "code",
   "execution_count": null,
   "id": "77cedb5d-8c8d-42a6-aa4a-1a0514b9ed30",
   "metadata": {},
   "outputs": [],
   "source": []
  },
  {
   "cell_type": "code",
   "execution_count": null,
   "id": "84f462c5-7394-4e50-bca6-835eb27f304e",
   "metadata": {},
   "outputs": [],
   "source": []
  }
 ],
 "metadata": {
  "kernelspec": {
   "display_name": "Python 3 (ipykernel)",
   "language": "python",
   "name": "python3"
  },
  "language_info": {
   "codemirror_mode": {
    "name": "ipython",
    "version": 3
   },
   "file_extension": ".py",
   "mimetype": "text/x-python",
   "name": "python",
   "nbconvert_exporter": "python",
   "pygments_lexer": "ipython3",
   "version": "3.11.8"
  }
 },
 "nbformat": 4,
 "nbformat_minor": 5
}
