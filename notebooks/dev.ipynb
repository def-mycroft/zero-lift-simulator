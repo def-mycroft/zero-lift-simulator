{
 "cells": [
  {
   "cell_type": "code",
   "execution_count": 13,
   "id": "23b4bc33-2304-49b8-af8f-ad9dcae4302b",
   "metadata": {},
   "outputs": [
    {
     "name": "stdout",
     "output_type": "stream",
     "text": [
      "The autoreload extension is already loaded. To reload it, use:\n",
      "  %reload_ext autoreload\n"
     ]
    }
   ],
   "source": [
    "%load_ext autoreload\n",
    "%autoreload 2"
   ]
  },
  {
   "cell_type": "code",
   "execution_count": 14,
   "id": "c746c7f1-02db-47e3-8f55-1f4148faeb99",
   "metadata": {},
   "outputs": [],
   "source": [
    "from zero_helpers.imports import * "
   ]
  },
  {
   "cell_type": "code",
   "execution_count": 22,
   "id": "a327b105-1a91-47c5-8692-be865890589b",
   "metadata": {},
   "outputs": [],
   "source": [
    "from zero_liftsim.main import run_alpha_sim\n",
    "\n",
    "data = run_alpha_sim(n_agents=3, lift_capacity=2, cycle_time=5)\n",
    "agents = data['agents']\n",
    "a = pd.Series(agents).sample().iloc[0]"
   ]
  },
  {
   "cell_type": "code",
   "execution_count": 17,
   "id": "b3cb12f6-4076-4e42-add1-402dee7b401d",
   "metadata": {},
   "outputs": [
    {
     "data": {
      "text/plain": [
       "['__class__',\n",
       " '__delattr__',\n",
       " '__dict__',\n",
       " '__dir__',\n",
       " '__doc__',\n",
       " '__eq__',\n",
       " '__format__',\n",
       " '__ge__',\n",
       " '__getattribute__',\n",
       " '__getstate__',\n",
       " '__gt__',\n",
       " '__hash__',\n",
       " '__init__',\n",
       " '__init_subclass__',\n",
       " '__le__',\n",
       " '__lt__',\n",
       " '__module__',\n",
       " '__ne__',\n",
       " '__new__',\n",
       " '__reduce__',\n",
       " '__reduce_ex__',\n",
       " '__repr__',\n",
       " '__setattr__',\n",
       " '__sizeof__',\n",
       " '__str__',\n",
       " '__subclasshook__',\n",
       " '__weakref__',\n",
       " 'agent_id',\n",
       " 'board_time',\n",
       " 'boarded',\n",
       " 'finish_ride',\n",
       " 'rides_completed',\n",
       " 'start_wait',\n",
       " 'wait_start']"
      ]
     },
     "execution_count": 17,
     "metadata": {},
     "output_type": "execute_result"
    }
   ],
   "source": [
    "dir(a)"
   ]
  },
  {
   "cell_type": "code",
   "execution_count": null,
   "id": "31872ace-ee46-4151-b58c-016dd0455ad6",
   "metadata": {},
   "outputs": [],
   "source": []
  },
  {
   "cell_type": "code",
   "execution_count": null,
   "id": "5d96dfbf-a912-4913-8e0c-a9833d3df454",
   "metadata": {},
   "outputs": [],
   "source": []
  },
  {
   "cell_type": "code",
   "execution_count": null,
   "id": "dc725114-4730-4e18-9db9-a412538ae607",
   "metadata": {},
   "outputs": [],
   "source": []
  },
  {
   "cell_type": "code",
   "execution_count": null,
   "id": "2a4725a7-ed59-4742-9da0-4f66255bdb16",
   "metadata": {},
   "outputs": [],
   "source": []
  },
  {
   "cell_type": "code",
   "execution_count": null,
   "id": "2d20ea1a-663d-48b1-9441-fd2f760c0d74",
   "metadata": {},
   "outputs": [],
   "source": []
  },
  {
   "cell_type": "code",
   "execution_count": null,
   "id": "cbd2150c-1a59-44a0-864a-503bb938f86d",
   "metadata": {},
   "outputs": [],
   "source": []
  }
 ],
 "metadata": {
  "kernelspec": {
   "display_name": "Python 3 (ipykernel)",
   "language": "python",
   "name": "python3"
  },
  "language_info": {
   "codemirror_mode": {
    "name": "ipython",
    "version": 3
   },
   "file_extension": ".py",
   "mimetype": "text/x-python",
   "name": "python",
   "nbconvert_exporter": "python",
   "pygments_lexer": "ipython3",
   "version": "3.11.8"
  }
 },
 "nbformat": 4,
 "nbformat_minor": 5
}
