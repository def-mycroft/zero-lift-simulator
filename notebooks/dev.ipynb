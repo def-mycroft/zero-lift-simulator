{
 "cells": [
  {
   "cell_type": "code",
   "execution_count": 48,
   "id": "23b4bc33-2304-49b8-af8f-ad9dcae4302b",
   "metadata": {},
   "outputs": [
    {
     "name": "stdout",
     "output_type": "stream",
     "text": [
      "The autoreload extension is already loaded. To reload it, use:\n",
      "  %reload_ext autoreload\n"
     ]
    }
   ],
   "source": [
    "%load_ext autoreload\n",
    "%autoreload 2"
   ]
  },
  {
   "cell_type": "code",
   "execution_count": 49,
   "id": "55a6fee9-9370-4de3-9016-c028a6dfddbb",
   "metadata": {},
   "outputs": [],
   "source": [
    "from zero_helpers.imports import * "
   ]
  },
  {
   "cell_type": "code",
   "execution_count": 50,
   "id": "f32a5bd3-e2b2-4c80-b3f6-c296ae4f4183",
   "metadata": {},
   "outputs": [],
   "source": [
    "from zero_liftsim.simmanager import SimulationManager"
   ]
  },
  {
   "cell_type": "code",
   "execution_count": 51,
   "id": "d0236d85-7235-4ce4-bc75-c65a65df1d44",
   "metadata": {},
   "outputs": [
    {
     "name": "stdout",
     "output_type": "stream",
     "text": [
      "{'total_rides': 129, 'average_wait': 20.728682170542637, 'agents': [Agent(1), Agent(2), Agent(3), Agent(4), Agent(5), Agent(6), Agent(7), Agent(8), Agent(9), Agent(10)]}\n"
     ]
    }
   ],
   "source": [
    "manager = SimulationManager(\n",
    "    n_agents=10,\n",
    "    lift_capacity=2,\n",
    ")\n",
    "result = manager.run()\n",
    "print(result)"
   ]
  },
  {
   "cell_type": "code",
   "execution_count": 53,
   "id": "f56a63c9-d0e4-45dd-86d3-5bcc33231072",
   "metadata": {},
   "outputs": [
    {
     "data": {
      "text/plain": [
       "Agent(6)"
      ]
     },
     "execution_count": 53,
     "metadata": {},
     "output_type": "execute_result"
    }
   ],
   "source": [
    "agents = manager.agents\n",
    "a = pd.Series(agents).sample(1).iloc[0]\n",
    "a"
   ]
  },
  {
   "cell_type": "code",
   "execution_count": 56,
   "id": "b008fd77-98be-47ac-84a9-a0d5f3db87a6",
   "metadata": {},
   "outputs": [
    {
     "data": {
      "text/plain": [
       "{datetime.datetime(2025, 3, 12, 9, 22): {'agent_uuid': '0788a677-71ff-44a6-8ddf-3b1666233c07',\n",
       "  'agent_uuid_codename': 'abnormal-document',\n",
       "  'time_spent_ride_lift': 4.749616343525748,\n",
       "  'time_spent_traverse_down_mountain': 3.674838594338264,\n",
       "  'time_spent_in_queue': 13,\n",
       "  'time_spent_total': 21.424454937864013},\n",
       " datetime.datetime(2025, 3, 12, 9, 52): {'agent_uuid': '0788a677-71ff-44a6-8ddf-3b1666233c07',\n",
       "  'agent_uuid_codename': 'abnormal-document',\n",
       "  'time_spent_ride_lift': 6.526547322299679,\n",
       "  'time_spent_traverse_down_mountain': 5.376443137748931,\n",
       "  'time_spent_in_queue': 21,\n",
       "  'time_spent_total': 32.90299046004861},\n",
       " datetime.datetime(2025, 3, 12, 10, 25): {'agent_uuid': '0788a677-71ff-44a6-8ddf-3b1666233c07',\n",
       "  'agent_uuid_codename': 'abnormal-document',\n",
       "  'time_spent_ride_lift': 9.72710062485322,\n",
       "  'time_spent_traverse_down_mountain': 1.8799039796792298,\n",
       "  'time_spent_in_queue': 19,\n",
       "  'time_spent_total': 30.60700460453245},\n",
       " datetime.datetime(2025, 3, 12, 11, 0): {'agent_uuid': '0788a677-71ff-44a6-8ddf-3b1666233c07',\n",
       "  'agent_uuid_codename': 'abnormal-document',\n",
       "  'time_spent_ride_lift': 7.9129350215619105,\n",
       "  'time_spent_traverse_down_mountain': 3.2185176596478606,\n",
       "  'time_spent_in_queue': 27,\n",
       "  'time_spent_total': 38.13145268120977},\n",
       " datetime.datetime(2025, 3, 12, 11, 33): {'agent_uuid': '0788a677-71ff-44a6-8ddf-3b1666233c07',\n",
       "  'agent_uuid_codename': 'abnormal-document',\n",
       "  'time_spent_ride_lift': 7.506655722978988,\n",
       "  'time_spent_traverse_down_mountain': 5.263431533250594,\n",
       "  'time_spent_in_queue': 23,\n",
       "  'time_spent_total': 35.77008725622958},\n",
       " datetime.datetime(2025, 3, 12, 12, 6): {'agent_uuid': '0788a677-71ff-44a6-8ddf-3b1666233c07',\n",
       "  'agent_uuid_codename': 'abnormal-document',\n",
       "  'time_spent_ride_lift': 7.514757773917702,\n",
       "  'time_spent_traverse_down_mountain': 5.051212268094162,\n",
       "  'time_spent_in_queue': 21,\n",
       "  'time_spent_total': 33.56597004201186},\n",
       " datetime.datetime(2025, 3, 12, 12, 38): {'agent_uuid': '0788a677-71ff-44a6-8ddf-3b1666233c07',\n",
       "  'agent_uuid_codename': 'abnormal-document',\n",
       "  'time_spent_ride_lift': 7.859156668818716,\n",
       "  'time_spent_traverse_down_mountain': 6.447140351174236,\n",
       "  'time_spent_in_queue': 20,\n",
       "  'time_spent_total': 34.306297019992954},\n",
       " datetime.datetime(2025, 3, 12, 13, 10): {'agent_uuid': '0788a677-71ff-44a6-8ddf-3b1666233c07',\n",
       "  'agent_uuid_codename': 'abnormal-document',\n",
       "  'time_spent_ride_lift': 8.29109111833363,\n",
       "  'time_spent_traverse_down_mountain': 4.246621749721859,\n",
       "  'time_spent_in_queue': 18,\n",
       "  'time_spent_total': 30.53771286805549},\n",
       " datetime.datetime(2025, 3, 12, 13, 41): {'agent_uuid': '0788a677-71ff-44a6-8ddf-3b1666233c07',\n",
       "  'agent_uuid_codename': 'abnormal-document',\n",
       "  'time_spent_ride_lift': 6.331456339438454,\n",
       "  'time_spent_traverse_down_mountain': 6.583682424132457,\n",
       "  'time_spent_in_queue': 21,\n",
       "  'time_spent_total': 33.91513876357091},\n",
       " datetime.datetime(2025, 3, 12, 14, 12): {'agent_uuid': '0788a677-71ff-44a6-8ddf-3b1666233c07',\n",
       "  'agent_uuid_codename': 'abnormal-document',\n",
       "  'time_spent_ride_lift': 6.13680346820533,\n",
       "  'time_spent_traverse_down_mountain': 3.9010146650361754,\n",
       "  'time_spent_in_queue': 19,\n",
       "  'time_spent_total': 29.037818133241505},\n",
       " datetime.datetime(2025, 3, 12, 14, 43): {'agent_uuid': '0788a677-71ff-44a6-8ddf-3b1666233c07',\n",
       "  'agent_uuid_codename': 'abnormal-document',\n",
       "  'time_spent_ride_lift': 6.386973781109585,\n",
       "  'time_spent_traverse_down_mountain': 5.392985552946191,\n",
       "  'time_spent_in_queue': 22,\n",
       "  'time_spent_total': 33.779959334055775},\n",
       " datetime.datetime(2025, 3, 12, 15, 16): {'agent_uuid': '0788a677-71ff-44a6-8ddf-3b1666233c07',\n",
       "  'agent_uuid_codename': 'abnormal-document',\n",
       "  'time_spent_ride_lift': 7.144741270080337,\n",
       "  'time_spent_traverse_down_mountain': 5.59271204972674,\n",
       "  'time_spent_in_queue': 21,\n",
       "  'time_spent_total': 33.737453319807074},\n",
       " datetime.datetime(2025, 3, 12, 15, 53): {'agent_uuid': '0788a677-71ff-44a6-8ddf-3b1666233c07',\n",
       "  'agent_uuid_codename': 'abnormal-document',\n",
       "  'time_spent_ride_lift': 8.679065096446962,\n",
       "  'time_spent_traverse_down_mountain': 6.238019186597981,\n",
       "  'time_spent_in_queue': 24,\n",
       "  'time_spent_total': 38.91708428304494}}"
      ]
     },
     "execution_count": 56,
     "metadata": {},
     "output_type": "execute_result"
    }
   ],
   "source": [
    "a.experience_rideloop.log"
   ]
  },
  {
   "cell_type": "code",
   "execution_count": null,
   "id": "7b5d742d-382c-4ad9-9f4f-0e1bdfec23b4",
   "metadata": {},
   "outputs": [],
   "source": []
  },
  {
   "cell_type": "code",
   "execution_count": null,
   "id": "b89ec9d9-3c82-4269-9f11-be104511f5ac",
   "metadata": {},
   "outputs": [],
   "source": []
  },
  {
   "cell_type": "code",
   "execution_count": null,
   "id": "ee93425f-91e5-431b-bf81-fabf3beec044",
   "metadata": {},
   "outputs": [],
   "source": []
  },
  {
   "cell_type": "code",
   "execution_count": null,
   "id": "2d20ea1a-663d-48b1-9441-fd2f760c0d74",
   "metadata": {},
   "outputs": [],
   "source": []
  },
  {
   "cell_type": "markdown",
   "id": "f4e26e65-5673-4c32-bde6-b4fc1e2cd112",
   "metadata": {},
   "source": [
    "# Scratchpad"
   ]
  },
  {
   "cell_type": "code",
   "execution_count": null,
   "id": "7ffce794-48e8-4c73-a719-8603c96342fb",
   "metadata": {},
   "outputs": [],
   "source": [
    "data = run_alpha_sim(n_agents=3, lift_capacity=2, cycle_time=5)\n",
    "agents = data['agents']\n",
    "a = pd.Series(agents).sample().iloc[0]"
   ]
  }
 ],
 "metadata": {
  "kernelspec": {
   "display_name": "Python 3 (ipykernel)",
   "language": "python",
   "name": "python3"
  },
  "language_info": {
   "codemirror_mode": {
    "name": "ipython",
    "version": 3
   },
   "file_extension": ".py",
   "mimetype": "text/x-python",
   "name": "python",
   "nbconvert_exporter": "python",
   "pygments_lexer": "ipython3",
   "version": "3.11.8"
  }
 },
 "nbformat": 4,
 "nbformat_minor": 5
}
