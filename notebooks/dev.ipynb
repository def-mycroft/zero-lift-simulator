{
 "cells": [
  {
   "cell_type": "code",
   "execution_count": 18,
   "id": "55a6fee9-9370-4de3-9016-c028a6dfddbb",
   "metadata": {},
   "outputs": [],
   "source": [
    "from zero_helpers.imports import * "
   ]
  },
  {
   "cell_type": "code",
   "execution_count": 19,
   "id": "baaae9a1-2ec8-4b6b-91d8-fa6cfbe6c8e6",
   "metadata": {},
   "outputs": [],
   "source": [
    "from zero_liftsim.simmanager import SimulationManager\n",
    "from zero_liftsim.helpers import load_asset_template"
   ]
  },
  {
   "cell_type": "markdown",
   "id": "1e4f5e7d-b909-4059-b226-198171709472",
   "metadata": {},
   "source": [
    "# Run Simulation"
   ]
  },
  {
   "cell_type": "code",
   "execution_count": 20,
   "id": "d0236d85-7235-4ce4-bc75-c65a65df1d44",
   "metadata": {},
   "outputs": [
    {
     "name": "stdout",
     "output_type": "stream",
     "text": [
      "{'total_rides': 378, 'average_wait': 0.0, 'agents': [Agent(1) beautiful-sentence 69bbb6d2-3726-492c-97d3-2456330ccba3, Agent(2) quirky-man b4142bd9-7b38-4ab8-8b5a-d48353ba009f, Agent(3) entertaining-elevator 15d7fa80-51e9-4f82-b4f0-d249d65baf47, Agent(4) ablaze-attempt 650f8e30-8b7b-4434-b255-8f6712d95ded, Agent(5) deep-fee 8f59f3e6-ce58-4266-9df1-0cbd7f8bc374, Agent(6) ragged-gene b32485d3-5f7c-48e5-a50e-6c9980b7a64d, Agent(7) periodic-sentence 06ba54dd-80e8-4823-a7bf-24842e9af46a, Agent(8) cultured-world d5894fca-f9b0-46cb-a2ab-c71653fcb4e9, Agent(9) crabby-fire 78f56c88-f542-45e8-8dbc-d55593a9c79b, Agent(10) cloistered-lift 623e0578-5005-4ee8-96fd-fd40a79fcac0]}\n"
     ]
    }
   ],
   "source": [
    "# setup and run simulation\n",
    "manager = SimulationManager(\n",
    "    n_agents=10,\n",
    "    lift_capacity=2,\n",
    ")\n",
    "result = manager.run()\n",
    "print(result)"
   ]
  },
  {
   "cell_type": "code",
   "execution_count": 21,
   "id": "a78f7302-113b-4017-b18b-96feb148d9f3",
   "metadata": {},
   "outputs": [
    {
     "data": {
      "text/plain": [
       "100"
      ]
     },
     "execution_count": 21,
     "metadata": {},
     "output_type": "execute_result"
    }
   ],
   "source": [
    "lift = manager.lift\n",
    "lift.total_chairs()"
   ]
  },
  {
   "cell_type": "markdown",
   "id": "c07b3eb9-8e31-4808-9347-4fe4f43337dc",
   "metadata": {},
   "source": [
    "## Retrieve Data from Simulation"
   ]
  },
  {
   "cell_type": "code",
   "execution_count": 22,
   "id": "b008fd77-98be-47ac-84a9-a0d5f3db87a6",
   "metadata": {},
   "outputs": [],
   "source": [
    "# get rideloop explogs and agent event log\n",
    "d = manager.retrieve_data()\n",
    "e = d['exp_rideloop']\n",
    "l = d['agent_log']"
   ]
  },
  {
   "cell_type": "markdown",
   "id": "21ed9874-123c-4780-8b5e-6fe8475fac98",
   "metadata": {},
   "source": [
    "# Visualization"
   ]
  },
  {
   "cell_type": "code",
   "execution_count": 23,
   "id": "509a4202-c5a9-4a15-ab47-42abc4c30359",
   "metadata": {},
   "outputs": [
    {
     "ename": "ValueError",
     "evalue": "agent_log missing columns: event",
     "output_type": "error",
     "traceback": [
      "\u001b[0;31m---------------------------------------------------------------------------\u001b[0m",
      "\u001b[0;31mValueError\u001b[0m                                Traceback (most recent call last)",
      "Cell \u001b[0;32mIn[23], line 2\u001b[0m\n\u001b[1;32m      1\u001b[0m \u001b[38;5;28;01mfrom\u001b[39;00m\u001b[38;5;250m \u001b[39m\u001b[38;5;21;01mzero_liftsim\u001b[39;00m\u001b[38;5;250m \u001b[39m\u001b[38;5;28;01mimport\u001b[39;00m visualize \u001b[38;5;28;01mas\u001b[39;00m viz\n\u001b[0;32m----> 2\u001b[0m x \u001b[38;5;241m=\u001b[39m \u001b[43mviz\u001b[49m\u001b[38;5;241;43m.\u001b[39;49m\u001b[43mvisualize_states\u001b[49m\u001b[43m(\u001b[49m\u001b[43me\u001b[49m\u001b[43m,\u001b[49m\u001b[43m \u001b[49m\u001b[43mpd\u001b[49m\u001b[38;5;241;43m.\u001b[39;49m\u001b[43mto_datetime\u001b[49m\u001b[43m(\u001b[49m\u001b[38;5;124;43m'\u001b[39;49m\u001b[38;5;124;43m2025-03-12 11:57:00\u001b[39;49m\u001b[38;5;124;43m'\u001b[39;49m\u001b[43m)\u001b[49m\u001b[43m)\u001b[49m\n",
      "File \u001b[0;32m~/code-repos/zero-lift-simulator/zero_liftsim/visualize.py:44\u001b[0m, in \u001b[0;36mvisualize_states\u001b[0;34m(agent_exp_log_data, time, out_path)\u001b[0m\n\u001b[1;32m     42\u001b[0m missing \u001b[38;5;241m=\u001b[39m required_cols \u001b[38;5;241m-\u001b[39m \u001b[38;5;28mset\u001b[39m(df\u001b[38;5;241m.\u001b[39mcolumns)\n\u001b[1;32m     43\u001b[0m \u001b[38;5;28;01mif\u001b[39;00m missing:\n\u001b[0;32m---> 44\u001b[0m     \u001b[38;5;28;01mraise\u001b[39;00m \u001b[38;5;167;01mValueError\u001b[39;00m(\u001b[38;5;124mf\u001b[39m\u001b[38;5;124m\"\u001b[39m\u001b[38;5;124magent_log missing columns: \u001b[39m\u001b[38;5;132;01m{\u001b[39;00m\u001b[38;5;124m'\u001b[39m\u001b[38;5;124m, \u001b[39m\u001b[38;5;124m'\u001b[39m\u001b[38;5;241m.\u001b[39mjoin(\u001b[38;5;28msorted\u001b[39m(missing))\u001b[38;5;132;01m}\u001b[39;00m\u001b[38;5;124m\"\u001b[39m)\n\u001b[1;32m     46\u001b[0m df \u001b[38;5;241m=\u001b[39m df\u001b[38;5;241m.\u001b[39msort_values(\u001b[38;5;124m\"\u001b[39m\u001b[38;5;124mtime\u001b[39m\u001b[38;5;124m\"\u001b[39m)\n\u001b[1;32m     47\u001b[0m latest \u001b[38;5;241m=\u001b[39m df[df[\u001b[38;5;124m\"\u001b[39m\u001b[38;5;124mtime\u001b[39m\u001b[38;5;124m\"\u001b[39m] \u001b[38;5;241m<\u001b[39m\u001b[38;5;241m=\u001b[39m time]\u001b[38;5;241m.\u001b[39mgroupby(\u001b[38;5;124m\"\u001b[39m\u001b[38;5;124magent_uuid\u001b[39m\u001b[38;5;124m\"\u001b[39m)\u001b[38;5;241m.\u001b[39mtail(\u001b[38;5;241m1\u001b[39m)\n",
      "\u001b[0;31mValueError\u001b[0m: agent_log missing columns: event"
     ]
    }
   ],
   "source": [
    "from zero_liftsim import visualize as viz\n",
    "x = viz.visualize_states(e, pd.to_datetime('2025-03-12 11:57:00'))"
   ]
  },
  {
   "cell_type": "markdown",
   "id": "9a2868f8-8c09-4968-87fb-42ddd2b8146d",
   "metadata": {},
   "source": [
    "# Sample a Ride Event (from agent log)"
   ]
  },
  {
   "cell_type": "code",
   "execution_count": 24,
   "id": "c61aa8d9-a84d-4f98-9e6e-31b13f4d83a1",
   "metadata": {},
   "outputs": [
    {
     "data": {
      "text/plain": [
       "{'return_event_uuid': '4e0aad4a-e0f5-42db-b518-0c801cf47916',\n",
       " 'time': Timestamp('2025-03-12 15:38:00'),\n",
       " 'time_offset': 398,\n",
       " 'event': 'ride_complete',\n",
       " 'agent_id': 8,\n",
       " 'agent_uuid': 'd5894fca-f9b0-46cb-a2ab-c71653fcb4e9',\n",
       " 'agent_uuid_codename': 'cultured-world',\n",
       " 'queue_length': nan,\n",
       " 'lift_state': nan,\n",
       " 'wait_time': 7,\n",
       " 'wait_time_readable': '7 minutes'}"
      ]
     },
     "execution_count": 24,
     "metadata": {},
     "output_type": "execute_result"
    }
   ],
   "source": [
    "m = l['event'] == 'ride_complete'\n",
    "event_ride_comp =l[m].sample().iloc[0].to_dict()\n",
    "event_ride_comp"
   ]
  },
  {
   "cell_type": "markdown",
   "id": "79825b1e-423b-4dbb-afe8-d7bd38245726",
   "metadata": {},
   "source": [
    "## retrieve agent from ride event"
   ]
  },
  {
   "cell_type": "code",
   "execution_count": 25,
   "id": "7096b403-5dfe-4c43-9637-86016e486c11",
   "metadata": {},
   "outputs": [
    {
     "data": {
      "text/plain": [
       "Agent(8) cultured-world d5894fca-f9b0-46cb-a2ab-c71653fcb4e9"
      ]
     },
     "execution_count": 25,
     "metadata": {},
     "output_type": "execute_result"
    }
   ],
   "source": [
    "a = manager.lookup_agent(event_ride_comp['agent_uuid'])\n",
    "l = l[l['agent_uuid'] == a.agent_uuid]\n",
    "a"
   ]
  },
  {
   "cell_type": "markdown",
   "id": "3aa79a9f-5823-41b3-811b-7fde153f559e",
   "metadata": {},
   "source": [
    "## retrieve exp log related to event (from exp_rideloop object on agent_exp_log_data)"
   ]
  },
  {
   "cell_type": "code",
   "execution_count": 26,
   "id": "6840a954-d939-4b2b-8673-fcb0bcfa5a7a",
   "metadata": {},
   "outputs": [
    {
     "data": {
      "text/plain": [
       "{'time': Timestamp('2025-03-12 15:38:00'),\n",
       " 'exp_id': '102c6fd4-4f2e-47c9-ac01-1009997141c5',\n",
       " 'return_event_uuid': '4e0aad4a-e0f5-42db-b518-0c801cf47916',\n",
       " 'agent_uuid': 'd5894fca-f9b0-46cb-a2ab-c71653fcb4e9',\n",
       " 'agent_uuid_codename': 'cultured-world',\n",
       " 'time_spent_ride_lift': 7.081516683900326,\n",
       " 'time_spent_traverse_down_mountain': 5.105487412214335,\n",
       " 'time_spent_in_queue': 0,\n",
       " 'time_spent_total': 12.187004096114661}"
      ]
     },
     "execution_count": 26,
     "metadata": {},
     "output_type": "execute_result"
    }
   ],
   "source": [
    "idx = (e['time'] - event_ride_comp['time']).dt.total_seconds().abs().idxmin()\n",
    "exp = e.loc[idx].to_dict()\n",
    "exp"
   ]
  },
  {
   "cell_type": "code",
   "execution_count": 27,
   "id": "59e985fd",
   "metadata": {},
   "outputs": [
    {
     "data": {
      "text/plain": [
       "Agent(8) cultured-world d5894fca-f9b0-46cb-a2ab-c71653fcb4e9"
      ]
     },
     "execution_count": 27,
     "metadata": {},
     "output_type": "execute_result"
    }
   ],
   "source": [
    "a = manager.lookup_agent(event_ride_comp['agent_uuid'])\n",
    "l = l[l['agent_uuid'] == a.agent_uuid]\n",
    "a"
   ]
  },
  {
   "cell_type": "code",
   "execution_count": 28,
   "id": "fdc6b202-b131-444f-90eb-4d67370e0506",
   "metadata": {},
   "outputs": [
    {
     "name": "stdout",
     "output_type": "stream",
     "text": [
      "# Experience Log \n",
      "\n",
      "exp_id: 102c6fd4-4f2e-47c9-ac01-1009997141c5\n",
      "agent_uuid: d5894fca-f9b0-46cb-a2ab-c71653fcb4e9\n",
      "return_event_uuid: 4e0aad4a-e0f5-42db-b518-0c801cf47916\n",
      "\n",
      "*** \n",
      "\n",
      "\n",
      "time_spent_in_queue: 0\n",
      "time_spent_ride_lift: 7.081516683900326\n",
      "time_spent_traverse_down_mountain: 5.105487412214335\n",
      "\n"
     ]
    }
   ],
   "source": [
    "t = load_asset_template('agent-ride-exp.md.j2')\n",
    "print(t.render(exp))"
   ]
  },
  {
   "cell_type": "code",
   "execution_count": null,
   "id": "a63cefd6-739a-40a1-8eb3-8a1219dbfd5a",
   "metadata": {},
   "outputs": [],
   "source": []
  },
  {
   "cell_type": "code",
   "execution_count": null,
   "id": "a0ce9638-b95c-42f4-b0d4-4ac10222bd21",
   "metadata": {},
   "outputs": [],
   "source": []
  }
 ],
 "metadata": {
  "kernelspec": {
   "display_name": "Python 3 (ipykernel)",
   "language": "python",
   "name": "python3"
  },
  "language_info": {
   "codemirror_mode": {
    "name": "ipython",
    "version": 3
   },
   "file_extension": ".py",
   "mimetype": "text/x-python",
   "name": "python",
   "nbconvert_exporter": "python",
   "pygments_lexer": "ipython3",
   "version": "3.11.8"
  }
 },
 "nbformat": 4,
 "nbformat_minor": 5
}
