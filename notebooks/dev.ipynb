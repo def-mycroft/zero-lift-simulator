{
 "cells": [
  {
   "cell_type": "code",
   "execution_count": 1,
   "id": "55a6fee9-9370-4de3-9016-c028a6dfddbb",
   "metadata": {},
   "outputs": [],
   "source": [
    "from zero_helpers.imports import * "
   ]
  },
  {
   "cell_type": "code",
   "execution_count": 2,
   "id": "baaae9a1-2ec8-4b6b-91d8-fa6cfbe6c8e6",
   "metadata": {},
   "outputs": [],
   "source": [
    "from zero_liftsim.simmanager import SimulationManager\n",
    "from zero_liftsim.helpers import load_asset_template"
   ]
  },
  {
   "cell_type": "markdown",
   "id": "1e4f5e7d-b909-4059-b226-198171709472",
   "metadata": {},
   "source": [
    "# Run Simulation"
   ]
  },
  {
   "cell_type": "code",
   "execution_count": 3,
   "id": "d0236d85-7235-4ce4-bc75-c65a65df1d44",
   "metadata": {},
   "outputs": [
    {
     "name": "stdout",
     "output_type": "stream",
     "text": [
      "{'total_rides': 378, 'average_wait': 0.0, 'agents': [Agent(1) minor-wine 708373f6-68fc-4020-96ed-265279333762, Agent(2) sticky-appeal 7b7c9490-2830-4055-8cb4-0406a38914c0, Agent(3) flippant-mission f7fb104c-aa00-440b-be9d-5c34ef107ba5, Agent(4) faulty-share aafe2dad-9fb1-4bde-9eb0-7837673130a1, Agent(5) smoggy-knowledge 5b642d61-79ea-424f-998b-44aacb96858f, Agent(6) utopian-term f28ac3b6-330f-4263-9c14-ef8bc08fb195, Agent(7) fumbling-employ 890e0aff-220c-4538-91ac-a26a0e4ee09c, Agent(8) mountainous-wheel 03e5ba12-c9aa-47dc-ba76-56113bab9da5, Agent(9) young-ordinary f764f8fd-4485-4c0a-96cc-d3238ed6c3cd, Agent(10) early-delivery e2dab219-9b42-4003-9b4f-6a9adc952927]}\n"
     ]
    }
   ],
   "source": [
    "# setup and run simulation\n",
    "manager = SimulationManager(\n",
    "    n_agents=10,\n",
    "    lift_capacity=2,\n",
    ")\n",
    "result = manager.run()\n",
    "print(result)"
   ]
  },
  {
   "cell_type": "code",
   "execution_count": 4,
   "id": "a78f7302-113b-4017-b18b-96feb148d9f3",
   "metadata": {},
   "outputs": [
    {
     "data": {
      "text/plain": [
       "100"
      ]
     },
     "execution_count": 4,
     "metadata": {},
     "output_type": "execute_result"
    }
   ],
   "source": [
    "lift = manager.lift\n",
    "lift.total_chairs()"
   ]
  },
  {
   "cell_type": "markdown",
   "id": "c07b3eb9-8e31-4808-9347-4fe4f43337dc",
   "metadata": {},
   "source": [
    "## Retrieve Data from Simulation"
   ]
  },
  {
   "cell_type": "code",
   "execution_count": 5,
   "id": "b008fd77-98be-47ac-84a9-a0d5f3db87a6",
   "metadata": {},
   "outputs": [],
   "source": [
    "# get rideloop explogs and agent event log\n",
    "d = manager.retrieve_data()\n",
    "e = d['exp_rideloop']\n",
    "l = d['agent_log']"
   ]
  },
  {
   "cell_type": "markdown",
   "id": "21ed9874-123c-4780-8b5e-6fe8475fac98",
   "metadata": {},
   "source": [
    "# Visualization"
   ]
  },
  {
   "cell_type": "code",
   "execution_count": 6,
   "id": "509a4202-c5a9-4a15-ab47-42abc4c30359",
   "metadata": {},
   "outputs": [],
   "source": [
    "#from zero_liftsim import visualize as viz\n",
    "#x = viz.visualize_states(e, pd.to_datetime('2025-03-12 11:57:00'))"
   ]
  },
  {
   "cell_type": "markdown",
   "id": "9a2868f8-8c09-4968-87fb-42ddd2b8146d",
   "metadata": {},
   "source": [
    "# Sample a Ride Event (from agent log)"
   ]
  },
  {
   "cell_type": "code",
   "execution_count": 7,
   "id": "c61aa8d9-a84d-4f98-9e6e-31b13f4d83a1",
   "metadata": {},
   "outputs": [
    {
     "data": {
      "text/plain": [
       "{'return_event_uuid': 'c573f363-2466-47b3-ae4e-dace6881e8d2',\n",
       " 'time': Timestamp('2025-03-12 12:08:00'),\n",
       " 'time_offset': 188,\n",
       " 'event': 'ride_complete',\n",
       " 'agent_id': 8,\n",
       " 'agent_uuid': '03e5ba12-c9aa-47dc-ba76-56113bab9da5',\n",
       " 'agent_uuid_codename': 'mountainous-wheel',\n",
       " 'queue_length': nan,\n",
       " 'lift_state': nan,\n",
       " 'wait_time': 5,\n",
       " 'wait_time_readable': '5 minutes'}"
      ]
     },
     "execution_count": 7,
     "metadata": {},
     "output_type": "execute_result"
    }
   ],
   "source": [
    "m = l['event'] == 'ride_complete'\n",
    "event_ride_comp =l[m].sample().iloc[0].to_dict()\n",
    "event_ride_comp"
   ]
  },
  {
   "cell_type": "markdown",
   "id": "79825b1e-423b-4dbb-afe8-d7bd38245726",
   "metadata": {},
   "source": [
    "## retrieve agent from ride event"
   ]
  },
  {
   "cell_type": "code",
   "execution_count": 8,
   "id": "7096b403-5dfe-4c43-9637-86016e486c11",
   "metadata": {},
   "outputs": [
    {
     "data": {
      "text/plain": [
       "Agent(8) mountainous-wheel 03e5ba12-c9aa-47dc-ba76-56113bab9da5"
      ]
     },
     "execution_count": 8,
     "metadata": {},
     "output_type": "execute_result"
    }
   ],
   "source": [
    "a = manager.lookup_agent(event_ride_comp['agent_uuid'])\n",
    "l = l[l['agent_uuid'] == a.agent_uuid]\n",
    "a"
   ]
  },
  {
   "cell_type": "code",
   "execution_count": 37,
   "id": "4b0533fe-6582-4c08-b0d1-e3af384f21d7",
   "metadata": {},
   "outputs": [
    {
     "data": {
      "text/html": [
       "<div>\n",
       "<style scoped>\n",
       "    .dataframe tbody tr th:only-of-type {\n",
       "        vertical-align: middle;\n",
       "    }\n",
       "\n",
       "    .dataframe tbody tr th {\n",
       "        vertical-align: top;\n",
       "    }\n",
       "\n",
       "    .dataframe thead th {\n",
       "        text-align: right;\n",
       "    }\n",
       "</style>\n",
       "<table border=\"1\" class=\"dataframe\">\n",
       "  <thead>\n",
       "    <tr style=\"text-align: right;\">\n",
       "      <th></th>\n",
       "      <th>return_event_uuid</th>\n",
       "      <th>time</th>\n",
       "      <th>time_offset</th>\n",
       "      <th>event</th>\n",
       "      <th>agent_id</th>\n",
       "      <th>agent_uuid</th>\n",
       "      <th>agent_uuid_codename</th>\n",
       "      <th>queue_length</th>\n",
       "      <th>lift_state</th>\n",
       "      <th>wait_time</th>\n",
       "      <th>wait_time_readable</th>\n",
       "    </tr>\n",
       "  </thead>\n",
       "  <tbody>\n",
       "    <tr>\n",
       "      <th>0</th>\n",
       "      <td></td>\n",
       "      <td>2025-03-12 09:00:00</td>\n",
       "      <td>0</td>\n",
       "      <td>start_wait</td>\n",
       "      <td>1</td>\n",
       "      <td>65500743-51eb-48bd-8f65-3e5660fb794a</td>\n",
       "      <td>roasted-professional</td>\n",
       "      <td>NaN</td>\n",
       "      <td>NaN</td>\n",
       "      <td>NaN</td>\n",
       "      <td>NaN</td>\n",
       "    </tr>\n",
       "    <tr>\n",
       "      <th>1</th>\n",
       "      <td></td>\n",
       "      <td>2025-03-12 09:00:00</td>\n",
       "      <td>0</td>\n",
       "      <td>arrival</td>\n",
       "      <td>1</td>\n",
       "      <td>65500743-51eb-48bd-8f65-3e5660fb794a</td>\n",
       "      <td>roasted-professional</td>\n",
       "      <td>1</td>\n",
       "      <td>idle</td>\n",
       "      <td>NaN</td>\n",
       "      <td>NaN</td>\n",
       "    </tr>\n",
       "    <tr>\n",
       "      <th>2</th>\n",
       "      <td></td>\n",
       "      <td>2025-03-12 09:00:00</td>\n",
       "      <td>0</td>\n",
       "      <td>board</td>\n",
       "      <td>1</td>\n",
       "      <td>65500743-51eb-48bd-8f65-3e5660fb794a</td>\n",
       "      <td>roasted-professional</td>\n",
       "      <td>0</td>\n",
       "      <td>moving</td>\n",
       "      <td>NaN</td>\n",
       "      <td>NaN</td>\n",
       "    </tr>\n",
       "    <tr>\n",
       "      <th>3</th>\n",
       "      <td>d4f37a31-6a26-4c30-b32a-3c73b833b799</td>\n",
       "      <td>2025-03-12 09:06:00</td>\n",
       "      <td>6</td>\n",
       "      <td>ride_complete</td>\n",
       "      <td>1</td>\n",
       "      <td>65500743-51eb-48bd-8f65-3e5660fb794a</td>\n",
       "      <td>roasted-professional</td>\n",
       "      <td>NaN</td>\n",
       "      <td>NaN</td>\n",
       "      <td>6</td>\n",
       "      <td>6 minutes</td>\n",
       "    </tr>\n",
       "    <tr>\n",
       "      <th>4</th>\n",
       "      <td></td>\n",
       "      <td>2025-03-12 09:10:00</td>\n",
       "      <td>10</td>\n",
       "      <td>start_wait</td>\n",
       "      <td>1</td>\n",
       "      <td>65500743-51eb-48bd-8f65-3e5660fb794a</td>\n",
       "      <td>roasted-professional</td>\n",
       "      <td>NaN</td>\n",
       "      <td>NaN</td>\n",
       "      <td>NaN</td>\n",
       "      <td>NaN</td>\n",
       "    </tr>\n",
       "    <tr>\n",
       "      <th>...</th>\n",
       "      <td>...</td>\n",
       "      <td>...</td>\n",
       "      <td>...</td>\n",
       "      <td>...</td>\n",
       "      <td>...</td>\n",
       "      <td>...</td>\n",
       "      <td>...</td>\n",
       "      <td>...</td>\n",
       "      <td>...</td>\n",
       "      <td>...</td>\n",
       "      <td>...</td>\n",
       "    </tr>\n",
       "    <tr>\n",
       "      <th>150</th>\n",
       "      <td></td>\n",
       "      <td>2025-03-12 15:45:00</td>\n",
       "      <td>405</td>\n",
       "      <td>board</td>\n",
       "      <td>1</td>\n",
       "      <td>65500743-51eb-48bd-8f65-3e5660fb794a</td>\n",
       "      <td>roasted-professional</td>\n",
       "      <td>0</td>\n",
       "      <td>moving</td>\n",
       "      <td>NaN</td>\n",
       "      <td>NaN</td>\n",
       "    </tr>\n",
       "    <tr>\n",
       "      <th>151</th>\n",
       "      <td>a641fd94-190a-4797-922f-b0d1bc92660e</td>\n",
       "      <td>2025-03-12 15:53:00</td>\n",
       "      <td>413</td>\n",
       "      <td>ride_complete</td>\n",
       "      <td>1</td>\n",
       "      <td>65500743-51eb-48bd-8f65-3e5660fb794a</td>\n",
       "      <td>roasted-professional</td>\n",
       "      <td>NaN</td>\n",
       "      <td>NaN</td>\n",
       "      <td>8</td>\n",
       "      <td>8 minutes</td>\n",
       "    </tr>\n",
       "    <tr>\n",
       "      <th>152</th>\n",
       "      <td></td>\n",
       "      <td>2025-03-12 15:57:00</td>\n",
       "      <td>417</td>\n",
       "      <td>start_wait</td>\n",
       "      <td>1</td>\n",
       "      <td>65500743-51eb-48bd-8f65-3e5660fb794a</td>\n",
       "      <td>roasted-professional</td>\n",
       "      <td>NaN</td>\n",
       "      <td>NaN</td>\n",
       "      <td>NaN</td>\n",
       "      <td>NaN</td>\n",
       "    </tr>\n",
       "    <tr>\n",
       "      <th>153</th>\n",
       "      <td></td>\n",
       "      <td>2025-03-12 15:57:00</td>\n",
       "      <td>417</td>\n",
       "      <td>arrival</td>\n",
       "      <td>1</td>\n",
       "      <td>65500743-51eb-48bd-8f65-3e5660fb794a</td>\n",
       "      <td>roasted-professional</td>\n",
       "      <td>1</td>\n",
       "      <td>moving</td>\n",
       "      <td>NaN</td>\n",
       "      <td>NaN</td>\n",
       "    </tr>\n",
       "    <tr>\n",
       "      <th>154</th>\n",
       "      <td></td>\n",
       "      <td>2025-03-12 15:57:00</td>\n",
       "      <td>417</td>\n",
       "      <td>board</td>\n",
       "      <td>1</td>\n",
       "      <td>65500743-51eb-48bd-8f65-3e5660fb794a</td>\n",
       "      <td>roasted-professional</td>\n",
       "      <td>0</td>\n",
       "      <td>moving</td>\n",
       "      <td>NaN</td>\n",
       "      <td>NaN</td>\n",
       "    </tr>\n",
       "  </tbody>\n",
       "</table>\n",
       "<p>155 rows × 11 columns</p>\n",
       "</div>"
      ],
      "text/plain": [
       "                        return_event_uuid                time time_offset  \\\n",
       "0                                         2025-03-12 09:00:00           0   \n",
       "1                                         2025-03-12 09:00:00           0   \n",
       "2                                         2025-03-12 09:00:00           0   \n",
       "3    d4f37a31-6a26-4c30-b32a-3c73b833b799 2025-03-12 09:06:00           6   \n",
       "4                                         2025-03-12 09:10:00          10   \n",
       "..                                    ...                 ...         ...   \n",
       "150                                       2025-03-12 15:45:00         405   \n",
       "151  a641fd94-190a-4797-922f-b0d1bc92660e 2025-03-12 15:53:00         413   \n",
       "152                                       2025-03-12 15:57:00         417   \n",
       "153                                       2025-03-12 15:57:00         417   \n",
       "154                                       2025-03-12 15:57:00         417   \n",
       "\n",
       "             event agent_id                            agent_uuid  \\\n",
       "0       start_wait        1  65500743-51eb-48bd-8f65-3e5660fb794a   \n",
       "1          arrival        1  65500743-51eb-48bd-8f65-3e5660fb794a   \n",
       "2            board        1  65500743-51eb-48bd-8f65-3e5660fb794a   \n",
       "3    ride_complete        1  65500743-51eb-48bd-8f65-3e5660fb794a   \n",
       "4       start_wait        1  65500743-51eb-48bd-8f65-3e5660fb794a   \n",
       "..             ...      ...                                   ...   \n",
       "150          board        1  65500743-51eb-48bd-8f65-3e5660fb794a   \n",
       "151  ride_complete        1  65500743-51eb-48bd-8f65-3e5660fb794a   \n",
       "152     start_wait        1  65500743-51eb-48bd-8f65-3e5660fb794a   \n",
       "153        arrival        1  65500743-51eb-48bd-8f65-3e5660fb794a   \n",
       "154          board        1  65500743-51eb-48bd-8f65-3e5660fb794a   \n",
       "\n",
       "      agent_uuid_codename queue_length lift_state wait_time wait_time_readable  \n",
       "0    roasted-professional          NaN        NaN       NaN                NaN  \n",
       "1    roasted-professional            1       idle       NaN                NaN  \n",
       "2    roasted-professional            0     moving       NaN                NaN  \n",
       "3    roasted-professional          NaN        NaN         6          6 minutes  \n",
       "4    roasted-professional          NaN        NaN       NaN                NaN  \n",
       "..                    ...          ...        ...       ...                ...  \n",
       "150  roasted-professional            0     moving       NaN                NaN  \n",
       "151  roasted-professional          NaN        NaN         8          8 minutes  \n",
       "152  roasted-professional          NaN        NaN       NaN                NaN  \n",
       "153  roasted-professional            1     moving       NaN                NaN  \n",
       "154  roasted-professional            0     moving       NaN                NaN  \n",
       "\n",
       "[155 rows x 11 columns]"
      ]
     },
     "execution_count": 37,
     "metadata": {},
     "output_type": "execute_result"
    }
   ],
   "source": [
    "l"
   ]
  },
  {
   "cell_type": "markdown",
   "id": "3aa79a9f-5823-41b3-811b-7fde153f559e",
   "metadata": {},
   "source": [
    "## retrieve exp log related to event (from exp_rideloop object on agent_exp_log_data)"
   ]
  },
  {
   "cell_type": "code",
   "execution_count": 9,
   "id": "6840a954-d939-4b2b-8673-fcb0bcfa5a7a",
   "metadata": {},
   "outputs": [
    {
     "data": {
      "text/plain": [
       "{'time': Timestamp('2025-03-12 12:08:00'),\n",
       " 'exp_id': '135bbe28-4b5d-4e6b-a86d-d80d69a5d39e',\n",
       " 'return_event_uuid': 'c573f363-2466-47b3-ae4e-dace6881e8d2',\n",
       " 'agent_uuid': '03e5ba12-c9aa-47dc-ba76-56113bab9da5',\n",
       " 'agent_uuid_codename': 'mountainous-wheel',\n",
       " 'time_spent_ride_lift': 5.355634694696491,\n",
       " 'time_spent_traverse_down_mountain': 7.094888856339736,\n",
       " 'time_spent_in_queue': 0,\n",
       " 'time_spent_total': 12.450523551036227}"
      ]
     },
     "execution_count": 9,
     "metadata": {},
     "output_type": "execute_result"
    }
   ],
   "source": [
    "idx = (e['time'] - event_ride_comp['time']).dt.total_seconds().abs().idxmin()\n",
    "exp = e.loc[idx].to_dict()\n",
    "exp"
   ]
  },
  {
   "cell_type": "code",
   "execution_count": 10,
   "id": "c9d268a2",
   "metadata": {},
   "outputs": [
    {
     "data": {
      "text/plain": [
       "Agent(8) mountainous-wheel 03e5ba12-c9aa-47dc-ba76-56113bab9da5"
      ]
     },
     "execution_count": 10,
     "metadata": {},
     "output_type": "execute_result"
    }
   ],
   "source": [
    "a = manager.lookup_agent(event_ride_comp['agent_uuid'])\n",
    "l = l[l['agent_uuid'] == a.agent_uuid]\n",
    "a"
   ]
  },
  {
   "cell_type": "code",
   "execution_count": 11,
   "id": "fdc6b202-b131-444f-90eb-4d67370e0506",
   "metadata": {},
   "outputs": [
    {
     "name": "stdout",
     "output_type": "stream",
     "text": [
      "# Experience Log \n",
      "\n",
      "exp_id: 135bbe28-4b5d-4e6b-a86d-d80d69a5d39e\n",
      "agent_uuid: 03e5ba12-c9aa-47dc-ba76-56113bab9da5\n",
      "return_event_uuid: c573f363-2466-47b3-ae4e-dace6881e8d2\n",
      "\n",
      "*** \n",
      "\n",
      "\n",
      "time_spent_in_queue: 0\n",
      "time_spent_ride_lift: 5.355634694696491\n",
      "time_spent_traverse_down_mountain: 7.094888856339736\n",
      "\n"
     ]
    }
   ],
   "source": [
    "t = load_asset_template('agent-ride-exp.md.j2')\n",
    "print(t.render(exp))"
   ]
  },
  {
   "cell_type": "code",
   "execution_count": 13,
   "id": "a63cefd6-739a-40a1-8eb3-8a1219dbfd5a",
   "metadata": {},
   "outputs": [
    {
     "data": {
      "text/plain": [
       "event\n",
       "start_wait       38\n",
       "arrival          38\n",
       "board            38\n",
       "ride_complete    37\n",
       "Name: count, dtype: int64"
      ]
     },
     "execution_count": 13,
     "metadata": {},
     "output_type": "execute_result"
    }
   ],
   "source": [
    "l['event'].value_counts()['39']"
   ]
  },
  {
   "cell_type": "code",
   "execution_count": null,
   "id": "a0ce9638-b95c-42f4-b0d4-4ac10222bd21",
   "metadata": {},
   "outputs": [],
   "source": []
  },
  {
   "cell_type": "code",
   "execution_count": null,
   "id": "d6326dc6-0d54-4c8a-96fd-220ae2966e96",
   "metadata": {},
   "outputs": [],
   "source": []
  }
 ],
 "metadata": {
  "kernelspec": {
   "display_name": "Python 3 (ipykernel)",
   "language": "python",
   "name": "python3"
  },
  "language_info": {
   "codemirror_mode": {
    "name": "ipython",
    "version": 3
   },
   "file_extension": ".py",
   "mimetype": "text/x-python",
   "name": "python",
   "nbconvert_exporter": "python",
   "pygments_lexer": "ipython3",
   "version": "3.11.8"
  }
 },
 "nbformat": 4,
 "nbformat_minor": 5
}
