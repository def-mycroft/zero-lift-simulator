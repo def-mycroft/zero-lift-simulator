{
 "cells": [
  {
   "cell_type": "code",
   "execution_count": 1,
   "id": "23b4bc33-2304-49b8-af8f-ad9dcae4302b",
   "metadata": {},
   "outputs": [],
   "source": [
    "%load_ext autoreload\n",
    "%autoreload 2"
   ]
  },
  {
   "cell_type": "code",
   "execution_count": 2,
   "id": "a3c080bb-ef9b-46e8-a103-b9746dead6ba",
   "metadata": {},
   "outputs": [],
   "source": [
    "from zero_helpers.imports import * \n",
    "\n",
    "from zero_liftsim.main import run_alpha_sim\n",
    "\n",
    "data = run_alpha_sim(n_agents=3, lift_capacity=2, cycle_time=5)\n",
    "agents = data['agents']\n",
    "a = pd.Series(agents).sample().iloc[0]"
   ]
  },
  {
   "cell_type": "code",
   "execution_count": 3,
   "id": "dc725114-4730-4e18-9db9-a412538ae607",
   "metadata": {},
   "outputs": [
    {
     "data": {
      "text/plain": [
       "{0: {'time': '2025-03-12T09:01:00',\n",
       "  'time_offset': 1,\n",
       "  'event': 'start_wait',\n",
       "  'agent_id': 2,\n",
       "  'agent_uuid': '66ddc5ac-793e-4cc6-8ef6-c9943c722a15',\n",
       "  'agent_uuid_codename': 'clammy-click'},\n",
       " 1: {'time': '2025-03-12T09:01:00',\n",
       "  'time_offset': 1,\n",
       "  'event': 'arrival',\n",
       "  'agent_id': 2,\n",
       "  'agent_uuid': '66ddc5ac-793e-4cc6-8ef6-c9943c722a15',\n",
       "  'agent_uuid_codename': 'clammy-click',\n",
       "  'queue_length': 1,\n",
       "  'lift_state': 'moving'},\n",
       " 2: {'time': '2025-03-12T09:05:00',\n",
       "  'time_offset': 5,\n",
       "  'event': 'board',\n",
       "  'agent_id': 2,\n",
       "  'agent_uuid': '66ddc5ac-793e-4cc6-8ef6-c9943c722a15',\n",
       "  'agent_uuid_codename': 'clammy-click',\n",
       "  'queue_length': 0,\n",
       "  'lift_state': 'moving'},\n",
       " 3: {'time': '2025-03-12T09:10:00',\n",
       "  'time_offset': 10,\n",
       "  'event': 'ride_complete',\n",
       "  'agent_id': 2,\n",
       "  'agent_uuid': '66ddc5ac-793e-4cc6-8ef6-c9943c722a15',\n",
       "  'agent_uuid_codename': 'clammy-click',\n",
       "  'wait_time': 9,\n",
       "  'wait_time_readable': '9 minutes'}}"
      ]
     },
     "execution_count": 3,
     "metadata": {},
     "output_type": "execute_result"
    }
   ],
   "source": [
    "a.activity_log"
   ]
  },
  {
   "cell_type": "code",
   "execution_count": 4,
   "id": "2a4725a7-ed59-4742-9da0-4f66255bdb16",
   "metadata": {},
   "outputs": [
    {
     "data": {
      "text/plain": [
       "'2025-06-12T14:05:05.451742'"
      ]
     },
     "execution_count": 4,
     "metadata": {},
     "output_type": "execute_result"
    }
   ],
   "source": [
    "pd.Timestamp.now().isoformat()"
   ]
  },
  {
   "cell_type": "code",
   "execution_count": null,
   "id": "2d20ea1a-663d-48b1-9441-fd2f760c0d74",
   "metadata": {},
   "outputs": [],
   "source": []
  },
  {
   "cell_type": "code",
   "execution_count": null,
   "id": "cbd2150c-1a59-44a0-864a-503bb938f86d",
   "metadata": {},
   "outputs": [],
   "source": []
  }
 ],
 "metadata": {
  "kernelspec": {
   "display_name": "Python 3 (ipykernel)",
   "language": "python",
   "name": "python3"
  },
  "language_info": {
   "codemirror_mode": {
    "name": "ipython",
    "version": 3
   },
   "file_extension": ".py",
   "mimetype": "text/x-python",
   "name": "python",
   "nbconvert_exporter": "python",
   "pygments_lexer": "ipython3",
   "version": "3.11.8"
  }
 },
 "nbformat": 4,
 "nbformat_minor": 5
}
