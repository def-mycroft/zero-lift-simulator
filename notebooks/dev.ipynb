{
 "cells": [
  {
   "cell_type": "code",
   "execution_count": 35,
   "id": "23b4bc33-2304-49b8-af8f-ad9dcae4302b",
   "metadata": {},
   "outputs": [
    {
     "name": "stdout",
     "output_type": "stream",
     "text": [
      "The autoreload extension is already loaded. To reload it, use:\n",
      "  %reload_ext autoreload\n"
     ]
    }
   ],
   "source": [
    "%load_ext autoreload\n",
    "%autoreload 2"
   ]
  },
  {
   "cell_type": "code",
   "execution_count": 36,
   "id": "a3c080bb-ef9b-46e8-a103-b9746dead6ba",
   "metadata": {},
   "outputs": [],
   "source": [
    "from zero_helpers.imports import * \n",
    "\n",
    "from zero_liftsim.main import run_alpha_sim\n",
    "\n",
    "data = run_alpha_sim(n_agents=3, lift_capacity=2, cycle_time=5)\n",
    "agents = data['agents']\n",
    "a = pd.Series(agents).sample().iloc[0]"
   ]
  },
  {
   "cell_type": "code",
   "execution_count": 37,
   "id": "dc725114-4730-4e18-9db9-a412538ae607",
   "metadata": {},
   "outputs": [
    {
     "data": {
      "text/plain": [
       "\u001b[0;31mType:\u001b[0m        AgentRideLoopExperience\n",
       "\u001b[0;31mString form:\u001b[0m <zero_liftsim.experience.AgentRideLoopExperience object at 0x7d7054aae1d0>\n",
       "\u001b[0;31mFile:\u001b[0m        ~/code-repos/zero-lift-simulator/zero_liftsim/experience.py\n",
       "\u001b[0;31mDocstring:\u001b[0m  \n",
       "Record time costs for a single ride loop.\n",
       "\n",
       "This log is intended to serve as a measurement collector and \n",
       "will be a primary one for the codebase for the conceivable \n",
       "future of the project. For example, if we want to infer a prob\n",
       "distribution of the time spent in queue for a day per rider, \n",
       "then we're going to generate a simulation and retrieve agent \n",
       "log here and sum time_spent_in_queue. \n",
       "\n",
       "This class extends `AgentExperienceHistory` to log detailed timing\n",
       "information for each segment of an agent's lift ride loop. Each\n",
       "log entry includes time spent riding the lift, descending the\n",
       "mountain, and waiting in queue.\n",
       "\n",
       "Entries are stored in `self.log` using timestamps as keys. The\n",
       "recorded values enable time-based analysis of per-agent flow\n",
       "through the lift system.\n",
       "\n",
       "Parameters\n",
       "----------\n",
       "dt : datetime\n",
       "    Timestamp marking when the ride loop completed or was\n",
       "    recorded.\n",
       "ride : float\n",
       "    Time spent riding the lift, in minutes.\n",
       "traverse : float\n",
       "    Time spent traversing or descending after lift exit, in\n",
       "    minutes.\n",
       "queue : float\n",
       "    Time spent waiting in queue for the lift, in minutes."
      ]
     },
     "metadata": {},
     "output_type": "display_data"
    }
   ],
   "source": [
    "rle = a.experience_rideloop\n",
    "?rle"
   ]
  },
  {
   "cell_type": "code",
   "execution_count": null,
   "id": "77555181-118f-491e-9712-d3f3d0e17ccb",
   "metadata": {},
   "outputs": [],
   "source": []
  },
  {
   "cell_type": "code",
   "execution_count": null,
   "id": "7b5d742d-382c-4ad9-9f4f-0e1bdfec23b4",
   "metadata": {},
   "outputs": [],
   "source": []
  },
  {
   "cell_type": "code",
   "execution_count": null,
   "id": "b89ec9d9-3c82-4269-9f11-be104511f5ac",
   "metadata": {},
   "outputs": [],
   "source": []
  },
  {
   "cell_type": "code",
   "execution_count": null,
   "id": "ee93425f-91e5-431b-bf81-fabf3beec044",
   "metadata": {},
   "outputs": [],
   "source": []
  },
  {
   "cell_type": "code",
   "execution_count": null,
   "id": "2d20ea1a-663d-48b1-9441-fd2f760c0d74",
   "metadata": {},
   "outputs": [],
   "source": []
  },
  {
   "cell_type": "code",
   "execution_count": null,
   "id": "cbd2150c-1a59-44a0-864a-503bb938f86d",
   "metadata": {},
   "outputs": [],
   "source": []
  }
 ],
 "metadata": {
  "kernelspec": {
   "display_name": "Python 3 (ipykernel)",
   "language": "python",
   "name": "python3"
  },
  "language_info": {
   "codemirror_mode": {
    "name": "ipython",
    "version": 3
   },
   "file_extension": ".py",
   "mimetype": "text/x-python",
   "name": "python",
   "nbconvert_exporter": "python",
   "pygments_lexer": "ipython3",
   "version": "3.11.8"
  }
 },
 "nbformat": 4,
 "nbformat_minor": 5
}
