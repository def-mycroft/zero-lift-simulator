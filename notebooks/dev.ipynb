{
 "cells": [
  {
   "cell_type": "code",
   "execution_count": 1,
   "id": "01b69f92-8043-4f9d-8045-313a0de567bb",
   "metadata": {},
   "outputs": [],
   "source": [
    "%load_ext autoreload\n",
    "%autoreload 2"
   ]
  },
  {
   "cell_type": "code",
   "execution_count": 2,
   "id": "55a6fee9-9370-4de3-9016-c028a6dfddbb",
   "metadata": {},
   "outputs": [],
   "source": [
    "from zero_helpers.imports import * "
   ]
  },
  {
   "cell_type": "code",
   "execution_count": 3,
   "id": "baaae9a1-2ec8-4b6b-91d8-fa6cfbe6c8e6",
   "metadata": {},
   "outputs": [],
   "source": [
    "from zero_liftsim.simmanager import SimulationManager\n",
    "from zero_liftsim.helpers import load_asset_template"
   ]
  },
  {
   "cell_type": "markdown",
   "id": "1e4f5e7d-b909-4059-b226-198171709472",
   "metadata": {},
   "source": [
    "# Run Simulation"
   ]
  },
  {
   "cell_type": "code",
   "execution_count": 4,
   "id": "d0236d85-7235-4ce4-bc75-c65a65df1d44",
   "metadata": {},
   "outputs": [
    {
     "name": "stdout",
     "output_type": "stream",
     "text": [
      "{'total_rides': 127, 'average_wait': 20.606299212598426, 'agents': [Agent(1) unwieldy-net 4a409e03-2ae1-4044-81f4-6e4378a1c39c, Agent(2) learned-dealer 58a25cb1-e892-4a77-ba54-ce31f9249284, Agent(3) previous-primary 82fb4435-0130-4626-b1f6-2f37da987686, Agent(4) spotless-ground fa633d31-8f22-42e6-adb3-33490b7e3e73, Agent(5) shrill-water 12e96c46-3281-4646-b118-c96ff00fd3b3, Agent(6) limping-button ca9681c6-20bf-4ede-971c-821ab4e15537, Agent(7) cloistered-regret 97698fc1-220a-47c2-b51e-669f364cbe10, Agent(8) adventurous-fly ef79afcd-ad2f-45c5-80ed-529f2494a67a, Agent(9) moaning-flight 60aa25bf-7410-45b7-a397-3adf2e396192, Agent(10) righteous-jump fa726a42-3721-413b-b6c1-949935dba389]}\n"
     ]
    }
   ],
   "source": [
    "# setup and run simulation\n",
    "manager = SimulationManager(\n",
    "    n_agents=10,\n",
    "    lift_capacity=2,\n",
    ")\n",
    "result = manager.run()\n",
    "print(result)"
   ]
  },
  {
   "cell_type": "code",
   "execution_count": 5,
   "id": "a78f7302-113b-4017-b18b-96feb148d9f3",
   "metadata": {},
   "outputs": [
    {
     "data": {
      "text/plain": [
       "1"
      ]
     },
     "execution_count": 5,
     "metadata": {},
     "output_type": "execute_result"
    }
   ],
   "source": [
    "lift = manager.lift\n",
    "lift.total_chairs()"
   ]
  },
  {
   "cell_type": "markdown",
   "id": "c07b3eb9-8e31-4808-9347-4fe4f43337dc",
   "metadata": {},
   "source": [
    "## Retrieve Data from Simulation"
   ]
  },
  {
   "cell_type": "code",
   "execution_count": null,
   "id": "b008fd77-98be-47ac-84a9-a0d5f3db87a6",
   "metadata": {},
   "outputs": [],
   "source": [
    "# get rideloop explogs and agent event log\n",
    "exp_log_data = manager.retrieve_data()\n",
    "e = exp_log_data['exp_rideloop']\n",
    "l = exp_log_data['agent_log']"
   ]
  },
  {
   "cell_type": "markdown",
   "id": "9a2868f8-8c09-4968-87fb-42ddd2b8146d",
   "metadata": {},
   "source": [
    "# Sample a Ride Event (from agent log)"
   ]
  },
  {
   "cell_type": "code",
   "execution_count": null,
   "id": "c61aa8d9-a84d-4f98-9e6e-31b13f4d83a1",
   "metadata": {},
   "outputs": [],
   "source": [
    "m = l['event'] == 'ride_complete'\n",
    "event_ride_comp =l[m].sample().iloc[0].to_dict()\n",
    "event_ride_comp"
   ]
  },
  {
   "cell_type": "markdown",
   "id": "79825b1e-423b-4dbb-afe8-d7bd38245726",
   "metadata": {},
   "source": [
    "## retrieve agent from ride event"
   ]
  },
  {
   "cell_type": "code",
   "execution_count": null,
   "id": "7096b403-5dfe-4c43-9637-86016e486c11",
   "metadata": {},
   "outputs": [],
   "source": [
    "a = manager.lookup_agent(event_ride_comp['agent_uuid'])\n",
    "l = l[l['agent_uuid'] == a.agent_uuid]\n",
    "a"
   ]
  },
  {
   "cell_type": "markdown",
   "id": "3aa79a9f-5823-41b3-811b-7fde153f559e",
   "metadata": {},
   "source": [
    "## retrieve exp log related to event (from exp_rideloop object on agent_exp_log_data)"
   ]
  },
  {
   "cell_type": "code",
   "execution_count": null,
   "id": "6840a954-d939-4b2b-8673-fcb0bcfa5a7a",
   "metadata": {},
   "outputs": [],
   "source": [
    "idx = (e['time'] - event_ride_comp['time']).dt.total_seconds().abs().idxmin()\n",
    "exp = e.loc[idx].to_dict()\n",
    "exp"
   ]
  },
  {
   "cell_type": "code",
   "execution_count": null,
   "id": "cfbf0c72",
   "metadata": {},
   "outputs": [],
   "source": [
    "a = manager.lookup_agent(event_ride_comp['agent_uuid'])\n",
    "l = l[l['agent_uuid'] == a.agent_uuid]\n",
    "a"
   ]
  },
  {
   "cell_type": "code",
   "execution_count": null,
   "id": "fdc6b202-b131-444f-90eb-4d67370e0506",
   "metadata": {},
   "outputs": [],
   "source": [
    "t = load_asset_template('agent-ride-exp.md.j2')\n",
    "print(t.render(exp))"
   ]
  },
  {
   "cell_type": "code",
   "execution_count": null,
   "id": "a63cefd6-739a-40a1-8eb3-8a1219dbfd5a",
   "metadata": {},
   "outputs": [],
   "source": [
    "l['event'].value_counts()"
   ]
  },
  {
   "cell_type": "code",
   "execution_count": null,
   "id": "a0ce9638-b95c-42f4-b0d4-4ac10222bd21",
   "metadata": {},
   "outputs": [],
   "source": []
  },
  {
   "cell_type": "code",
   "execution_count": null,
   "id": "d6326dc6-0d54-4c8a-96fd-220ae2966e96",
   "metadata": {},
   "outputs": [],
   "source": []
  }
 ],
 "metadata": {
  "kernelspec": {
   "display_name": "Python 3 (ipykernel)",
   "language": "python",
   "name": "python3"
  },
  "language_info": {
   "codemirror_mode": {
    "name": "ipython",
    "version": 3
   },
   "file_extension": ".py",
   "mimetype": "text/x-python",
   "name": "python",
   "nbconvert_exporter": "python",
   "pygments_lexer": "ipython3",
   "version": "3.11.8"
  }
 },
 "nbformat": 4,
 "nbformat_minor": 5
}
