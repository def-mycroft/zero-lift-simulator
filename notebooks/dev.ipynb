{
 "cells": [
  {
   "cell_type": "code",
   "execution_count": 13,
   "id": "23b4bc33-2304-49b8-af8f-ad9dcae4302b",
   "metadata": {},
   "outputs": [
    {
     "name": "stdout",
     "output_type": "stream",
     "text": [
      "The autoreload extension is already loaded. To reload it, use:\n",
      "  %reload_ext autoreload\n"
     ]
    }
   ],
   "source": [
    "%load_ext autoreload\n",
    "%autoreload 2"
   ]
  },
  {
   "cell_type": "code",
   "execution_count": 14,
   "id": "c746c7f1-02db-47e3-8f55-1f4148faeb99",
   "metadata": {},
   "outputs": [],
   "source": [
    "from zero_helpers.imports import * "
   ]
  },
  {
   "cell_type": "code",
   "execution_count": 23,
   "id": "a327b105-1a91-47c5-8692-be865890589b",
   "metadata": {},
   "outputs": [],
   "source": [
    "from zero_liftsim.main import run_alpha_sim\n",
    "\n",
    "data = run_alpha_sim(n_agents=3, lift_capacity=2, cycle_time=5)\n",
    "agents = data['agents']\n",
    "a = pd.Series(agents).sample().iloc[0]"
   ]
  },
  {
   "cell_type": "code",
   "execution_count": null,
   "id": "5d96dfbf-a912-4913-8e0c-a9833d3df454",
   "metadata": {},
   "outputs": [],
   "source": []
  },
  {
   "cell_type": "code",
   "execution_count": null,
   "id": "dc725114-4730-4e18-9db9-a412538ae607",
   "metadata": {},
   "outputs": [],
   "source": []
  },
  {
   "cell_type": "code",
   "execution_count": null,
   "id": "2a4725a7-ed59-4742-9da0-4f66255bdb16",
   "metadata": {},
   "outputs": [],
   "source": []
  },
  {
   "cell_type": "code",
   "execution_count": null,
   "id": "2d20ea1a-663d-48b1-9441-fd2f760c0d74",
   "metadata": {},
   "outputs": [],
   "source": []
  },
  {
   "cell_type": "code",
   "execution_count": null,
   "id": "cbd2150c-1a59-44a0-864a-503bb938f86d",
   "metadata": {},
   "outputs": [],
   "source": []
  }
 ],
 "metadata": {
  "kernelspec": {
   "display_name": "Python 3 (ipykernel)",
   "language": "python",
   "name": "python3"
  },
  "language_info": {
   "codemirror_mode": {
    "name": "ipython",
    "version": 3
   },
   "file_extension": ".py",
   "mimetype": "text/x-python",
   "name": "python",
   "nbconvert_exporter": "python",
   "pygments_lexer": "ipython3",
   "version": "3.11.8"
  }
 },
 "nbformat": 4,
 "nbformat_minor": 5
}
