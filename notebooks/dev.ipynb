{
 "cells": [
  {
   "cell_type": "code",
   "execution_count": 4,
   "id": "23b4bc33-2304-49b8-af8f-ad9dcae4302b",
   "metadata": {},
   "outputs": [
    {
     "name": "stdout",
     "output_type": "stream",
     "text": [
      "The autoreload extension is already loaded. To reload it, use:\n",
      "  %reload_ext autoreload\n"
     ]
    }
   ],
   "source": [
    "%load_ext autoreload\n",
    "%autoreload 2"
   ]
  },
  {
   "cell_type": "code",
   "execution_count": 5,
   "id": "55a6fee9-9370-4de3-9016-c028a6dfddbb",
   "metadata": {},
   "outputs": [],
   "source": [
    "from zero_helpers.imports import * "
   ]
  },
  {
   "cell_type": "code",
   "execution_count": 11,
   "id": "77555181-118f-491e-9712-d3f3d0e17ccb",
   "metadata": {},
   "outputs": [
    {
     "name": "stdout",
     "output_type": "stream",
     "text": [
      "{'total_rides': 3, 'average_wait': 2.3333333333333335, 'agents': [Agent(1), Agent(2), Agent(3)]}\n"
     ]
    }
   ],
   "source": [
    "from zero_liftsim.simmanager import SimulationManager\n",
    "\n",
    "manager = SimulationManager(\n",
    "    n_agents=3,\n",
    "    lift_capacity=2,\n",
    "    cycle_time=5,\n",
    ")\n",
    "result = manager.run()\n",
    "print(result)"
   ]
  },
  {
   "cell_type": "code",
   "execution_count": 12,
   "id": "383217e7-e761-404a-aeda-e9b101f4e958",
   "metadata": {},
   "outputs": [],
   "source": [
    "manager.archive_agent_rideloop_experience('/l/tmp')"
   ]
  },
  {
   "cell_type": "code",
   "execution_count": 17,
   "id": "c934dfe4-8e27-4844-89df-f55954a96096",
   "metadata": {},
   "outputs": [
    {
     "data": {
      "text/plain": [
       "[{'event': 'ArrivalEvent',\n",
       "  'time': '2025-03-12T09:00:00',\n",
       "  'time_offset': 0,\n",
       "  'agent_uuid': '9b246c86-4592-4b8e-8c5c-3a269b7420bc',\n",
       "  'agent_codename': 'possible-advice',\n",
       "  'simulation_uuid': '3b66aaaa-3015-4926-8ea5-537273fef5e2',\n",
       "  'simulation_codename': 'lowly-hand',\n",
       "  'description': 'arrival',\n",
       "  'queue_length': 1,\n",
       "  'lift_state': 'idle'},\n",
       " {'event': 'BoardingEvent',\n",
       "  'time': '2025-03-12T09:00:00',\n",
       "  'time_offset': 0,\n",
       "  'agent_uuid': '9b246c86-4592-4b8e-8c5c-3a269b7420bc',\n",
       "  'agent_codename': 'possible-advice',\n",
       "  'simulation_uuid': '3b66aaaa-3015-4926-8ea5-537273fef5e2',\n",
       "  'simulation_codename': 'lowly-hand',\n",
       "  'description': 'board',\n",
       "  'queue_length': 0,\n",
       "  'lift_state': 'moving'},\n",
       " {'event': 'ArrivalEvent',\n",
       "  'time': '2025-03-12T09:01:00',\n",
       "  'time_offset': 1,\n",
       "  'agent_uuid': 'dd1def75-4299-479e-9d99-1019deecbf39',\n",
       "  'agent_codename': 'little-freedom',\n",
       "  'simulation_uuid': '3b66aaaa-3015-4926-8ea5-537273fef5e2',\n",
       "  'simulation_codename': 'lowly-hand',\n",
       "  'description': 'arrival',\n",
       "  'queue_length': 1,\n",
       "  'lift_state': 'moving'},\n",
       " {'event': 'ArrivalEvent',\n",
       "  'time': '2025-03-12T09:02:00',\n",
       "  'time_offset': 2,\n",
       "  'agent_uuid': '01374d10-65d1-4b10-ad86-042e50fe9c9f',\n",
       "  'agent_codename': 'oval-weather',\n",
       "  'simulation_uuid': '3b66aaaa-3015-4926-8ea5-537273fef5e2',\n",
       "  'simulation_codename': 'lowly-hand',\n",
       "  'description': 'arrival',\n",
       "  'queue_length': 2,\n",
       "  'lift_state': 'moving'},\n",
       " {'event': 'ReturnEvent',\n",
       "  'time': '2025-03-12T09:05:00',\n",
       "  'time_offset': 5,\n",
       "  'agent_uuid': '9b246c86-4592-4b8e-8c5c-3a269b7420bc',\n",
       "  'agent_codename': 'possible-advice',\n",
       "  'simulation_uuid': '3b66aaaa-3015-4926-8ea5-537273fef5e2',\n",
       "  'simulation_codename': 'lowly-hand',\n",
       "  'description': 'completed ride',\n",
       "  'queue_length': 2,\n",
       "  'lift_state': 'idle'},\n",
       " {'event': 'BoardingEvent',\n",
       "  'time': '2025-03-12T09:05:00',\n",
       "  'time_offset': 5,\n",
       "  'agent_uuid': 'dd1def75-4299-479e-9d99-1019deecbf39',\n",
       "  'agent_codename': 'little-freedom',\n",
       "  'simulation_uuid': '3b66aaaa-3015-4926-8ea5-537273fef5e2',\n",
       "  'simulation_codename': 'lowly-hand',\n",
       "  'description': 'board',\n",
       "  'queue_length': 0,\n",
       "  'lift_state': 'moving'},\n",
       " {'event': 'BoardingEvent',\n",
       "  'time': '2025-03-12T09:05:00',\n",
       "  'time_offset': 5,\n",
       "  'agent_uuid': '01374d10-65d1-4b10-ad86-042e50fe9c9f',\n",
       "  'agent_codename': 'oval-weather',\n",
       "  'simulation_uuid': '3b66aaaa-3015-4926-8ea5-537273fef5e2',\n",
       "  'simulation_codename': 'lowly-hand',\n",
       "  'description': 'board',\n",
       "  'queue_length': 0,\n",
       "  'lift_state': 'moving'},\n",
       " {'event': 'ReturnEvent',\n",
       "  'time': '2025-03-12T09:10:00',\n",
       "  'time_offset': 10,\n",
       "  'agent_uuid': 'dd1def75-4299-479e-9d99-1019deecbf39',\n",
       "  'agent_codename': 'little-freedom',\n",
       "  'simulation_uuid': '3b66aaaa-3015-4926-8ea5-537273fef5e2',\n",
       "  'simulation_codename': 'lowly-hand',\n",
       "  'description': 'completed ride',\n",
       "  'queue_length': 0,\n",
       "  'lift_state': 'idle'},\n",
       " {'event': 'ReturnEvent',\n",
       "  'time': '2025-03-12T09:10:00',\n",
       "  'time_offset': 10,\n",
       "  'agent_uuid': '01374d10-65d1-4b10-ad86-042e50fe9c9f',\n",
       "  'agent_codename': 'oval-weather',\n",
       "  'simulation_uuid': '3b66aaaa-3015-4926-8ea5-537273fef5e2',\n",
       "  'simulation_codename': 'lowly-hand',\n",
       "  'description': 'completed ride',\n",
       "  'queue_length': 0,\n",
       "  'lift_state': 'idle'}]"
      ]
     },
     "execution_count": 17,
     "metadata": {},
     "output_type": "execute_result"
    }
   ],
   "source": [
    "sm = manager.sim\n",
    "sm.agent_records()"
   ]
  },
  {
   "cell_type": "code",
   "execution_count": null,
   "id": "7b5d742d-382c-4ad9-9f4f-0e1bdfec23b4",
   "metadata": {},
   "outputs": [],
   "source": []
  },
  {
   "cell_type": "code",
   "execution_count": null,
   "id": "b89ec9d9-3c82-4269-9f11-be104511f5ac",
   "metadata": {},
   "outputs": [],
   "source": []
  },
  {
   "cell_type": "code",
   "execution_count": null,
   "id": "ee93425f-91e5-431b-bf81-fabf3beec044",
   "metadata": {},
   "outputs": [],
   "source": []
  },
  {
   "cell_type": "code",
   "execution_count": null,
   "id": "2d20ea1a-663d-48b1-9441-fd2f760c0d74",
   "metadata": {},
   "outputs": [],
   "source": []
  },
  {
   "cell_type": "markdown",
   "id": "f4e26e65-5673-4c32-bde6-b4fc1e2cd112",
   "metadata": {},
   "source": [
    "# Scratchpad"
   ]
  },
  {
   "cell_type": "code",
   "execution_count": null,
   "id": "7ffce794-48e8-4c73-a719-8603c96342fb",
   "metadata": {},
   "outputs": [],
   "source": [
    "data = run_alpha_sim(n_agents=3, lift_capacity=2, cycle_time=5)\n",
    "agents = data['agents']\n",
    "a = pd.Series(agents).sample().iloc[0]"
   ]
  }
 ],
 "metadata": {
  "kernelspec": {
   "display_name": "Python 3 (ipykernel)",
   "language": "python",
   "name": "python3"
  },
  "language_info": {
   "codemirror_mode": {
    "name": "ipython",
    "version": 3
   },
   "file_extension": ".py",
   "mimetype": "text/x-python",
   "name": "python",
   "nbconvert_exporter": "python",
   "pygments_lexer": "ipython3",
   "version": "3.11.8"
  }
 },
 "nbformat": 4,
 "nbformat_minor": 5
}
