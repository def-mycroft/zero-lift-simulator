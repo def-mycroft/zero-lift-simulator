{
 "cells": [
  {
   "cell_type": "code",
   "execution_count": 48,
   "id": "01b69f92-8043-4f9d-8045-313a0de567bb",
   "metadata": {},
   "outputs": [
    {
     "name": "stdout",
     "output_type": "stream",
     "text": [
      "The autoreload extension is already loaded. To reload it, use:\n",
      "  %reload_ext autoreload\n"
     ]
    }
   ],
   "source": [
    "%load_ext autoreload\n",
    "%autoreload 2"
   ]
  },
  {
   "cell_type": "code",
   "execution_count": 49,
   "id": "55a6fee9-9370-4de3-9016-c028a6dfddbb",
   "metadata": {},
   "outputs": [],
   "source": [
    "from zero_helpers.imports import * "
   ]
  },
  {
   "cell_type": "code",
   "execution_count": 50,
   "id": "baaae9a1-2ec8-4b6b-91d8-fa6cfbe6c8e6",
   "metadata": {},
   "outputs": [],
   "source": [
    "from zero_liftsim.simmanager import SimulationManager\n",
    "from zero_liftsim.helpers import load_asset_template"
   ]
  },
  {
   "cell_type": "markdown",
   "id": "1e4f5e7d-b909-4059-b226-198171709472",
   "metadata": {},
   "source": [
    "# Run Simulation"
   ]
  },
  {
   "cell_type": "code",
   "execution_count": 51,
   "id": "d0236d85-7235-4ce4-bc75-c65a65df1d44",
   "metadata": {},
   "outputs": [
    {
     "name": "stdout",
     "output_type": "stream",
     "text": [
      "{'total_rides': 333, 'average_wait': 1.6006006006006006, 'agents': [Agent(1) wonderful-possible d9bf78b3-ba49-434c-8d4b-55ed5887723f, Agent(2) frequent-economy e05cbd76-81f8-4af4-ae1b-103bf3b8b264, Agent(3) easy-song 462c0449-8685-4cbb-8b3f-bd431e3cef78, Agent(4) nimble-high 5d4c5cdc-871a-435e-a67b-04da1f27e326, Agent(5) jumpy-border 61c905cd-0d9b-429e-b204-9fd631cdfb2f, Agent(6) small-dog 63fa7ed7-fded-4d83-a908-66545ae2b441, Agent(7) chivalrous-lie 8ef51c98-2889-494a-abb4-818bff9eab4d, Agent(8) afraid-loan 9d857605-897a-4f64-b3c4-a81b183928a7, Agent(9) useless-impress 1e730aa4-569d-4543-ae28-ddc4136def32, Agent(10) foamy-teacher 36fb7933-801f-4dd1-9840-ee2bbf38a09f]}\n"
     ]
    }
   ],
   "source": [
    "# setup and run simulation\n",
    "manager = SimulationManager(\n",
    "    n_agents=10,\n",
    "    lift_capacity=2,\n",
    ")\n",
    "result = manager.run()\n",
    "print(result)"
   ]
  },
  {
   "cell_type": "code",
   "execution_count": 52,
   "id": "a78f7302-113b-4017-b18b-96feb148d9f3",
   "metadata": {},
   "outputs": [
    {
     "data": {
      "text/plain": [
       "50"
      ]
     },
     "execution_count": 52,
     "metadata": {},
     "output_type": "execute_result"
    }
   ],
   "source": [
    "lift = manager.lift\n",
    "lift.total_chairs()"
   ]
  },
  {
   "cell_type": "markdown",
   "id": "c07b3eb9-8e31-4808-9347-4fe4f43337dc",
   "metadata": {},
   "source": [
    "## Retrieve Data from Simulation"
   ]
  },
  {
   "cell_type": "code",
   "execution_count": 53,
   "id": "b008fd77-98be-47ac-84a9-a0d5f3db87a6",
   "metadata": {},
   "outputs": [],
   "source": [
    "# get rideloop explogs and agent event log\n",
    "exp_log_data = manager.retrieve_data()\n",
    "e = exp_log_data['exp_rideloop']\n",
    "l = exp_log_data['agent_log']"
   ]
  },
  {
   "cell_type": "markdown",
   "id": "2dbff9e8-c7f4-49bf-a1ea-dc8c41cf4caa",
   "metadata": {},
   "source": [
    "# Identify Agent State"
   ]
  },
  {
   "cell_type": "code",
   "execution_count": 54,
   "id": "7dfe7ccc-5e24-410a-b33e-84796f45a552",
   "metadata": {},
   "outputs": [],
   "source": [
    "e = exp_log_data['exp_rideloop']\n",
    "l = exp_log_data['agent_log']"
   ]
  },
  {
   "cell_type": "code",
   "execution_count": 55,
   "id": "aaf147b1-cbe4-4e51-becb-130a64f7ea53",
   "metadata": {},
   "outputs": [
    {
     "data": {
      "text/plain": [
       "Agent(3) easy-song 462c0449-8685-4cbb-8b3f-bd431e3cef78"
      ]
     },
     "execution_count": 55,
     "metadata": {},
     "output_type": "execute_result"
    }
   ],
   "source": [
    "# get an agent\n",
    "sample_log = e.sample().iloc[0]\n",
    "index_time = sample_log['time']\n",
    "\n",
    "i = sample_log['agent_uuid']\n",
    "a = manager.lookup_agent(i)\n",
    "a"
   ]
  },
  {
   "cell_type": "code",
   "execution_count": 56,
   "id": "3f0880e7-5bae-4cbc-8932-a8f91aa478ee",
   "metadata": {},
   "outputs": [],
   "source": [
    "def get_nearest_time_index(df, time, index_time):\n",
    "    \"\"\"Return index of row where `time` is closest to `index_time`.\n",
    "\n",
    "    Parameters\n",
    "    ----------\n",
    "    df : pandas.DataFrame\n",
    "        DataFrame containing a time column.\n",
    "    time : str\n",
    "        Name of the column with datetime-like values.\n",
    "    index_time : datetime-like\n",
    "        Target time to find the nearest match for.\n",
    "\n",
    "    Returns\n",
    "    -------\n",
    "    int\n",
    "        Index of the row with the closest time value.\n",
    "    \"\"\"\n",
    "    delta = (df[time] - index_time).abs()\n",
    "    return delta.idxmin()"
   ]
  },
  {
   "cell_type": "code",
   "execution_count": 59,
   "id": "ac897992-8f48-439b-a64d-0d133b5f1f3e",
   "metadata": {},
   "outputs": [
    {
     "data": {
      "text/plain": [
       "np.int64(10)"
      ]
     },
     "execution_count": 59,
     "metadata": {},
     "output_type": "execute_result"
    }
   ],
   "source": [
    "idx = get_nearest_time_index(l, 'time', index_time)\n",
    "idx"
   ]
  },
  {
   "cell_type": "code",
   "execution_count": 58,
   "id": "f741c2a5-88a5-48b1-b18c-13568672a6b2",
   "metadata": {},
   "outputs": [
    {
     "data": {
      "text/plain": [
       "np.int64(10)"
      ]
     },
     "execution_count": 58,
     "metadata": {},
     "output_type": "execute_result"
    }
   ],
   "source": [
    "idx"
   ]
  },
  {
   "cell_type": "code",
   "execution_count": null,
   "id": "3912e9f3-da24-47f9-9615-ace682e33b53",
   "metadata": {},
   "outputs": [],
   "source": []
  },
  {
   "cell_type": "code",
   "execution_count": null,
   "id": "e11305d8-0052-4b0d-94c6-8e3184911c02",
   "metadata": {},
   "outputs": [],
   "source": []
  },
  {
   "cell_type": "code",
   "execution_count": 46,
   "id": "c953d32e-8c71-4fe7-aaf1-48b8268f472e",
   "metadata": {},
   "outputs": [],
   "source": [
    "#l[l['agent_uuid'] == a.agent_uuid]"
   ]
  },
  {
   "cell_type": "markdown",
   "id": "9a2868f8-8c09-4968-87fb-42ddd2b8146d",
   "metadata": {},
   "source": [
    "# Sample a Ride Event (from agent log)"
   ]
  },
  {
   "cell_type": "code",
   "execution_count": null,
   "id": "c61aa8d9-a84d-4f98-9e6e-31b13f4d83a1",
   "metadata": {},
   "outputs": [],
   "source": [
    "m = l['event'] == 'ride_complete'\n",
    "event_ride_comp =l[m].sample().iloc[0].to_dict()\n",
    "event_ride_comp"
   ]
  },
  {
   "cell_type": "markdown",
   "id": "79825b1e-423b-4dbb-afe8-d7bd38245726",
   "metadata": {},
   "source": [
    "## retrieve agent from ride event"
   ]
  },
  {
   "cell_type": "code",
   "execution_count": null,
   "id": "7096b403-5dfe-4c43-9637-86016e486c11",
   "metadata": {},
   "outputs": [],
   "source": [
    "a = manager.lookup_agent(event_ride_comp['agent_uuid'])\n",
    "l = l[l['agent_uuid'] == a.agent_uuid]\n",
    "a"
   ]
  },
  {
   "cell_type": "markdown",
   "id": "3aa79a9f-5823-41b3-811b-7fde153f559e",
   "metadata": {},
   "source": [
    "## retrieve exp log related to event (from exp_rideloop object on agent_exp_log_data)"
   ]
  },
  {
   "cell_type": "code",
   "execution_count": null,
   "id": "6840a954-d939-4b2b-8673-fcb0bcfa5a7a",
   "metadata": {},
   "outputs": [],
   "source": [
    "idx = (e['time'] - event_ride_comp['time']).dt.total_seconds().abs().idxmin()\n",
    "exp = e.loc[idx].to_dict()\n",
    "exp"
   ]
  },
  {
   "cell_type": "code",
   "execution_count": null,
   "id": "c6e76b24",
   "metadata": {},
   "outputs": [],
   "source": [
    "a = manager.lookup_agent(event_ride_comp['agent_uuid'])\n",
    "l = l[l['agent_uuid'] == a.agent_uuid]\n",
    "a"
   ]
  },
  {
   "cell_type": "code",
   "execution_count": null,
   "id": "fdc6b202-b131-444f-90eb-4d67370e0506",
   "metadata": {},
   "outputs": [],
   "source": [
    "t = load_asset_template('agent-ride-exp.md.j2')\n",
    "print(t.render(exp))"
   ]
  },
  {
   "cell_type": "code",
   "execution_count": null,
   "id": "a0ce9638-b95c-42f4-b0d4-4ac10222bd21",
   "metadata": {},
   "outputs": [],
   "source": []
  },
  {
   "cell_type": "code",
   "execution_count": null,
   "id": "d6326dc6-0d54-4c8a-96fd-220ae2966e96",
   "metadata": {},
   "outputs": [],
   "source": []
  },
  {
   "cell_type": "code",
   "execution_count": null,
   "id": "53ac4273-1d78-4e2a-bcb8-f644fea44f18",
   "metadata": {},
   "outputs": [],
   "source": []
  }
 ],
 "metadata": {
  "kernelspec": {
   "display_name": "Python 3 (ipykernel)",
   "language": "python",
   "name": "python3"
  },
  "language_info": {
   "codemirror_mode": {
    "name": "ipython",
    "version": 3
   },
   "file_extension": ".py",
   "mimetype": "text/x-python",
   "name": "python",
   "nbconvert_exporter": "python",
   "pygments_lexer": "ipython3",
   "version": "3.11.8"
  }
 },
 "nbformat": 4,
 "nbformat_minor": 5
}
