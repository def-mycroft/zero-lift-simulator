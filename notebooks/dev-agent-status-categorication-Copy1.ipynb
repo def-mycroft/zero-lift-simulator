{
 "cells": [
  {
   "cell_type": "code",
   "execution_count": 1,
   "id": "311f09db-71fc-467f-85e1-b9869be10d64",
   "metadata": {},
   "outputs": [
    {
     "ename": "KeyError",
     "evalue": "'40d8a0dc-529a-4307-91f2-64c63861eb1d'",
     "output_type": "error",
     "traceback": [
      "\u001b[0;31m---------------------------------------------------------------------------\u001b[0m",
      "\u001b[0;31mKeyError\u001b[0m                                  Traceback (most recent call last)",
      "Cell \u001b[0;32mIn[1], line 37\u001b[0m\n\u001b[1;32m     34\u001b[0m     \u001b[38;5;28;01mreturn\u001b[39;00m agent, l, e\n\u001b[1;32m     36\u001b[0m agent, l, e \u001b[38;5;241m=\u001b[39m sample_agent(manager, log, exp)\n\u001b[0;32m---> 37\u001b[0m \u001b[43magent\u001b[49m\u001b[38;5;241;43m.\u001b[39;49m\u001b[43mtraceback_experience\u001b[49m\u001b[43m(\u001b[49m\u001b[43me\u001b[49m\u001b[43m[\u001b[49m\u001b[38;5;124;43m'\u001b[39;49m\u001b[38;5;124;43mexp_id\u001b[39;49m\u001b[38;5;124;43m'\u001b[39;49m\u001b[43m]\u001b[49m\u001b[43m)\u001b[49m\n",
      "File \u001b[0;32m~/code-repos/zero-lift-simulator/zero_liftsim/agent.py:250\u001b[0m, in \u001b[0;36mAgent.traceback_experience\u001b[0;34m(self, experience_id)\u001b[0m\n\u001b[1;32m    247\u001b[0m             \u001b[38;5;28;01mreturn\u001b[39;00m tmpl\u001b[38;5;241m.\u001b[39mrender(\u001b[38;5;241m*\u001b[39m\u001b[38;5;241m*\u001b[39mcontext)\n\u001b[1;32m    248\u001b[0m         \u001b[38;5;28;01mreturn\u001b[39;00m tmpl\u001b[38;5;241m.\u001b[39mformat(\u001b[38;5;241m*\u001b[39m\u001b[38;5;241m*\u001b[39mcontext)\n\u001b[0;32m--> 250\u001b[0m \u001b[38;5;28;01mraise\u001b[39;00m \u001b[38;5;167;01mKeyError\u001b[39;00m(experience_id)\n",
      "\u001b[0;31mKeyError\u001b[0m: '40d8a0dc-529a-4307-91f2-64c63861eb1d'"
     ]
    }
   ],
   "source": [
    "%load_ext autoreload\n",
    "%autoreload 2\n",
    "\n",
    "from zero_helpers.imports import * \n",
    "from zero_liftsim.simmanager import SimulationManager\n",
    "from zero_liftsim.helpers import base_config\n",
    "from zero_liftsim.experience import AgentRideLoopExperience\n",
    "from zero_liftsim.helpers import load_asset_template\n",
    "from zero_liftsim import helpers as hp\n",
    "from zero_liftsim.lift import Lift\n",
    "\n",
    "import inspect\n",
    "\n",
    "cfg = base_config()\n",
    "cfg[\"SimulationManager\"][\"__init__\"].update({\"n_agents\": 25, \"lift_capacity\": 4})\n",
    "cfg['Lift']['num_chairs'] = 35\n",
    "\n",
    "manager = SimulationManager(cfg)\n",
    "result = manager.run(runtime_minutes=60*4)\n",
    "\n",
    "# get rideloop explogs and agent event log\n",
    "exp_log_data = manager.retrieve_data()\n",
    "exp = exp_log_data['exp_rideloop']\n",
    "log = exp_log_data['agent_log']\n",
    "\n",
    "def sample_agent(manager, log, exp):\n",
    "    # sample agent and subset exp/log to e/l for agent subset of those\n",
    "    m = log['event'] == 'ride_complete'\n",
    "    event_ride_comp = log[m].sample().iloc[0].to_dict()\n",
    "    agent = manager.lookup_agent(event_ride_comp['agent_uuid'])\n",
    "    l = log[log['agent_uuid'] == agent.agent_uuid]\n",
    "    idx = (exp['time'] - event_ride_comp['time']).dt.total_seconds().abs().idxmin()\n",
    "    e = exp.loc[idx].to_dict()\n",
    "    return agent, l, e\n",
    "\n",
    "agent, l, e = sample_agent(manager, log, exp)\n",
    "agent.traceback_experience(e['exp_id'])"
   ]
  },
  {
   "cell_type": "code",
   "execution_count": null,
   "id": "43520462-cd5f-4ce4-b621-42b8cbdafa55",
   "metadata": {},
   "outputs": [],
   "source": []
  },
  {
   "cell_type": "code",
   "execution_count": null,
   "id": "8243ccd2-40a2-49e6-868e-47b695a1ddd5",
   "metadata": {},
   "outputs": [],
   "source": []
  },
  {
   "cell_type": "code",
   "execution_count": null,
   "id": "3d244e74-b451-4f1c-a11d-920d908815db",
   "metadata": {},
   "outputs": [],
   "source": []
  },
  {
   "cell_type": "code",
   "execution_count": null,
   "id": "c66033bb-0fc1-42a0-8b1a-a6d53702a0e9",
   "metadata": {},
   "outputs": [],
   "source": []
  },
  {
   "cell_type": "code",
   "execution_count": null,
   "id": "80cd5e66-2c8e-41da-8506-7d64514c616e",
   "metadata": {},
   "outputs": [],
   "source": []
  },
  {
   "cell_type": "code",
   "execution_count": null,
   "id": "412ba951-7a30-4b35-8bcf-5271e586ad5f",
   "metadata": {},
   "outputs": [],
   "source": []
  },
  {
   "cell_type": "markdown",
   "id": "e968ed5e-382c-41f2-8869-840836c5ba51",
   "metadata": {},
   "source": [
    "# Scratchpad"
   ]
  },
  {
   "cell_type": "code",
   "execution_count": 14,
   "id": "e490e733-d7ee-4a8c-bd1c-535edbfd0cf0",
   "metadata": {},
   "outputs": [
    {
     "ename": "Exception",
     "evalue": "",
     "output_type": "error",
     "traceback": [
      "\u001b[0;31m---------------------------------------------------------------------------\u001b[0m",
      "\u001b[0;31mException\u001b[0m                                 Traceback (most recent call last)",
      "Cell \u001b[0;32mIn[14], line 1\u001b[0m\n\u001b[0;32m----> 1\u001b[0m \u001b[38;5;28;01mraise\u001b[39;00m \u001b[38;5;167;01mException\u001b[39;00m()\n",
      "\u001b[0;31mException\u001b[0m: "
     ]
    }
   ],
   "source": [
    "raise Exception()"
   ]
  },
  {
   "cell_type": "code",
   "execution_count": null,
   "id": "99545656-fbaf-44fd-9326-403d5de36d3c",
   "metadata": {},
   "outputs": [],
   "source": []
  },
  {
   "cell_type": "markdown",
   "id": "8c0d9eb3-9944-474b-80c2-aca40ff3b3a8",
   "metadata": {},
   "source": [
    "# Agent State Identification (ride loop exp)"
   ]
  },
  {
   "cell_type": "markdown",
   "id": "ec96d3f5-76d6-42d3-9378-10be411e71b8",
   "metadata": {},
   "source": [
    "for the ride loop agent experience, the total time is broken down into riding the lift, traversing down the mountain and waiting in the queue, i.e. \"time_spent_total\": ride + traverse + queue below:\n",
    "\n",
    "sample a random time within the time range of the simulation:"
   ]
  },
  {
   "cell_type": "code",
   "execution_count": 7,
   "id": "e05a2b69-6b43-4e6a-b371-bb77638925b0",
   "metadata": {},
   "outputs": [],
   "source": [
    "# sample a random timestamp within the agent log timeframe\n",
    "INDEX_TIME = pd.Series(pd.date_range(log['time'].min(), log['time'].max(), freq='1s')).sample().iloc[0]"
   ]
  },
  {
   "cell_type": "code",
   "execution_count": 8,
   "id": "0d482bf4-2d50-4a9f-9f9a-7df9bedd60f4",
   "metadata": {},
   "outputs": [
    {
     "name": "stdout",
     "output_type": "stream",
     "text": [
      "    def add_entry(self, agent, return_event_uuid, dt: datetime, ride: float, traverse: float, \n",
      "                  queue: float) -> None:\n",
      "        self.log[dt] = {\n",
      "            \"exp_id\": str(uuid()), \n",
      "            \"return_event_uuid\": return_event_uuid,\n",
      "            \"agent_uuid\": agent.agent_uuid,\n",
      "            \"agent_uuid_codename\": agent.agent_uuid_codename,\n",
      "            \"time_spent_ride_lift\": ride,\n",
      "            \"time_spent_traverse_down_mountain\": traverse,\n",
      "            \"time_spent_in_queue\": queue,\n",
      "            \"time_spent_total\": ride + traverse + queue,\n",
      "        }\n",
      "\n"
     ]
    }
   ],
   "source": [
    "s = inspect.getsource(AgentRideLoopExperience)\n",
    "lines = s.split('\\n')\n",
    "idx = [i for i,x in enumerate(lines) if x.strip() == '\"\"\"'][-1]\n",
    "print('\\n'.join(lines[idx+1:]))"
   ]
  },
  {
   "cell_type": "markdown",
   "id": "2ed33a0c-09fe-442c-b4f1-21230b84f7cc",
   "metadata": {},
   "source": [
    "...and we can see in the source code above how `time_spent_total` is constructed. "
   ]
  },
  {
   "cell_type": "code",
   "execution_count": 9,
   "id": "f9e26c10-eb56-4244-81b7-90d0595c4582",
   "metadata": {},
   "outputs": [
    {
     "name": "stdout",
     "output_type": "stream",
     "text": [
      "{'b9890cbc-9990-4f70-81e5-6f568a0cce5a': 'traversing_down'}\n"
     ]
    }
   ],
   "source": [
    "from zero_liftsim.agent_state_id import infer_agent_states\n",
    "\n",
    "# func \n",
    "r = infer_agent_states([agent], INDEX_TIME)\n",
    "\n",
    "i = agent.agent_uuid\n",
    "msg = 'func infer state should return agent uuid'\n",
    "assert i in r, msg\n",
    "print(r)"
   ]
  },
  {
   "cell_type": "markdown",
   "id": "7a63f74d-ed9b-4e3a-bd34-b72fa46d4e29",
   "metadata": {},
   "source": [
    "# Sample and Manually Review Examples\n",
    "\n",
    "We need to evaluate how well the simulation is representing the actual constrained behavior that we see in the real world. Simply manually reviewing some examples here helps with that need. "
   ]
  },
  {
   "cell_type": "code",
   "execution_count": 10,
   "id": "da17632c-5928-4d31-bc85-a3171aef7658",
   "metadata": {},
   "outputs": [],
   "source": [
    "def sample_time(log):\n",
    "    return pd.Series(pd.date_range(log['time'].min(), log['time'].max(), freq='1s')).sample().iloc[0]"
   ]
  },
  {
   "cell_type": "code",
   "execution_count": 15,
   "id": "ecaea386-10e9-458a-8f11-ce2b5934d299",
   "metadata": {},
   "outputs": [
    {
     "ename": "KeyError",
     "evalue": "'4a63d7aa-60d1-41c9-b75d-ecec4e0230e3'",
     "output_type": "error",
     "traceback": [
      "\u001b[0;31m---------------------------------------------------------------------------\u001b[0m",
      "\u001b[0;31mKeyError\u001b[0m                                  Traceback (most recent call last)",
      "Cell \u001b[0;32mIn[15], line 6\u001b[0m\n\u001b[1;32m      3\u001b[0m agent\u001b[38;5;241m.\u001b[39mget_state(time)\n\u001b[1;32m      4\u001b[0m agent\u001b[38;5;241m.\u001b[39mcurrent_state\n\u001b[0;32m----> 6\u001b[0m x \u001b[38;5;241m=\u001b[39m \u001b[43magent\u001b[49m\u001b[38;5;241;43m.\u001b[39;49m\u001b[43mtraceback_experience\u001b[49m\u001b[43m(\u001b[49m\u001b[43me\u001b[49m\u001b[43m[\u001b[49m\u001b[38;5;124;43m'\u001b[39;49m\u001b[38;5;124;43mexp_id\u001b[39;49m\u001b[38;5;124;43m'\u001b[39;49m\u001b[43m]\u001b[49m\u001b[43m)\u001b[49m\n\u001b[1;32m      7\u001b[0m \u001b[38;5;28mprint\u001b[39m(x)\n",
      "File \u001b[0;32m~/code-repos/zero-lift-simulator/zero_liftsim/agent.py:249\u001b[0m, in \u001b[0;36mAgent.traceback_experience\u001b[0;34m(self, experience_id)\u001b[0m\n\u001b[1;32m    246\u001b[0m             \u001b[38;5;28;01mreturn\u001b[39;00m tmpl\u001b[38;5;241m.\u001b[39mrender(\u001b[38;5;241m*\u001b[39m\u001b[38;5;241m*\u001b[39mcontext)\n\u001b[1;32m    247\u001b[0m         \u001b[38;5;28;01mreturn\u001b[39;00m tmpl\u001b[38;5;241m.\u001b[39mformat(\u001b[38;5;241m*\u001b[39m\u001b[38;5;241m*\u001b[39mcontext)\n\u001b[0;32m--> 249\u001b[0m \u001b[38;5;28;01mraise\u001b[39;00m \u001b[38;5;167;01mKeyError\u001b[39;00m(experience_id)\n",
      "\u001b[0;31mKeyError\u001b[0m: '4a63d7aa-60d1-41c9-b75d-ecec4e0230e3'"
     ]
    }
   ],
   "source": [
    "time = sample_time(log)\n",
    "agent, l, e = sample_agent(manager, log, exp)\n",
    "agent.get_state(time)\n",
    "agent.current_state\n",
    "\n",
    "x = agent.traceback_experience(e['exp_id'])\n",
    "print(x)"
   ]
  },
  {
   "cell_type": "code",
   "execution_count": null,
   "id": "c32dfbaa-d3b5-4bce-ba27-2d86368cd884",
   "metadata": {},
   "outputs": [],
   "source": []
  },
  {
   "cell_type": "code",
   "execution_count": null,
   "id": "a18b170b-73d7-44bc-a983-b654fd3ccfdd",
   "metadata": {},
   "outputs": [],
   "source": []
  },
  {
   "cell_type": "code",
   "execution_count": null,
   "id": "3dae9458-b7d9-4491-b896-74178fc6e9c2",
   "metadata": {},
   "outputs": [],
   "source": []
  },
  {
   "cell_type": "code",
   "execution_count": null,
   "id": "09082d8d-d28a-4905-ad3f-9871550ab4df",
   "metadata": {},
   "outputs": [],
   "source": []
  },
  {
   "cell_type": "code",
   "execution_count": null,
   "id": "31859605-bdeb-4af8-a4d9-72e1e74d2ada",
   "metadata": {},
   "outputs": [],
   "source": []
  }
 ],
 "metadata": {
  "kernelspec": {
   "display_name": "Python 3 (ipykernel)",
   "language": "python",
   "name": "python3"
  },
  "language_info": {
   "codemirror_mode": {
    "name": "ipython",
    "version": 3
   },
   "file_extension": ".py",
   "mimetype": "text/x-python",
   "name": "python",
   "nbconvert_exporter": "python",
   "pygments_lexer": "ipython3",
   "version": "3.11.8"
  }
 },
 "nbformat": 4,
 "nbformat_minor": 5
}
