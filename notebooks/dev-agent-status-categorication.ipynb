{
 "cells": [
  {
   "cell_type": "raw",
   "id": "0dcb1973-cabd-41d5-92f0-8aac30e6a2c7",
   "metadata": {},
   "source": [
    "%load_ext autoreload\n",
    "%autoreload 2"
   ]
  },
  {
   "cell_type": "code",
   "execution_count": 8,
   "id": "afe1850a-2136-432e-a874-a73cd8168f3e",
   "metadata": {},
   "outputs": [],
   "source": [
    "def sanitize_for_obsidian(text: str) -> str:\n",
    "    \"\"\"Escape markdown so text is treated as plain in Obsidian.\"\"\"\n",
    "    lines = text.splitlines()\n",
    "    escaped_lines = []\n",
    "    special_chars = r'\\`*_{}[]()#+-.!|>'\n",
    "    for line in lines:\n",
    "        escaped_line = ''.join(f'\\\\{c}' if c in special_chars else c for c in line)\n",
    "        if escaped_line.lstrip().startswith('#'):\n",
    "            # prevent heading by adding a zero-width space\n",
    "            escaped_line = '\\u200b' + escaped_line\n",
    "        escaped_lines.append(escaped_line)\n",
    "    return '\\n'.join(escaped_lines)\n"
   ]
  },
  {
   "cell_type": "code",
   "execution_count": 9,
   "id": "b83269f9-1285-4bad-a2ae-69db3bf4d5a5",
   "metadata": {},
   "outputs": [],
   "source": [
    "from zero_liftsim import sandbox as sb\n",
    "from codenamize import codenamize\n",
    "from zero_helpers.imports import *\n",
    "# sample time and agent, generate data. \n",
    "d = sb.get_sample()\n",
    "\n",
    "fp = \"/l/obs-chaotic/full context clear wipe prompt courageous-senior 467c6d36.md\"\n",
    "assert exists(fp)\n",
    "with open(fp, 'r') as f:\n",
    "    prompt = f.read()\n",
    "with open('/l/m/m/sandbox.py', 'r') as f:\n",
    "    sc = f.read()\n",
    "\n",
    "prompt_data = {}\n",
    "prompt_data['sc'] = sc\n",
    "prompt_data['printme'] = d['printme']\n",
    "printme = d['printme']\n",
    "\n",
    "from jinja2 import Template"
   ]
  },
  {
   "cell_type": "code",
   "execution_count": 10,
   "id": "483d5950-41b3-4b0b-aa2f-44c5bace9241",
   "metadata": {},
   "outputs": [],
   "source": [
    "fp = \"/l/obs-chaotic/prompt wrong-pleasure 908a7085.md\"\n",
    "with open(fp, 'r')  as f:\n",
    "    template = Template(f.read())\n",
    "prompt = template.render({'sc':sc, 'printme':d['printme'], 'keyParameters':d['keyParameters']})\n",
    "\n",
    "i = d['keyParameters']['exp']['agent_uuid']\n",
    "c = codenamize(i)"
   ]
  },
  {
   "cell_type": "code",
   "execution_count": null,
   "id": "7df0da3f-8603-4214-8450-b9b479e7dd95",
   "metadata": {},
   "outputs": [],
   "source": []
  },
  {
   "cell_type": "code",
   "execution_count": null,
   "id": "1c26dfa1-b22e-4bf4-8f74-194d1c2ea0d3",
   "metadata": {},
   "outputs": [],
   "source": [
    "from zero_consult_clouds import ChatGPT\n",
    "#chat = ChatGPT()\n",
    "#response = chat.send(prompt)\n",
    "\n",
    "with open('/l/m/docs/unnamed-gruesome-church-737d4eba.md', 'a') as f:\n",
    "    f.write(f'\\n***\\n# Example agent={c} {i}\\n')\n",
    "    f.write('\\n***\\n## response \\n')\n",
    "    f.write('xxx response here')\n",
    "    f.write('\\n***\\n## Prompt \\n')\n",
    "    f.write('\\n```prompt\\n')\n",
    "    f.write(sanitize_for_obsidian(prompt))\n",
    "    f.write('\\n```\\n')\n",
    "    f.write('\\n***\\n## Data \\n')\n",
    "    f.write('\\n```data\\n')\n",
    "    f.write(sanitize_for_obsidian(printme))\n",
    "    f.write('\\n```\\n')\n",
    "    f.write('\\n***\\n')\n",
    "\n",
    "with open('/l/obs-chaotic/prompt.md', 'w') as f:\n",
    "    f.write(prompt)"
   ]
  },
  {
   "cell_type": "code",
   "execution_count": null,
   "id": "a325eb46-fa79-47d5-9cd4-c593dad7bc8d",
   "metadata": {},
   "outputs": [],
   "source": []
  },
  {
   "cell_type": "code",
   "execution_count": null,
   "id": "fb99e162-4e83-434d-9ddd-4dac2c8cd222",
   "metadata": {},
   "outputs": [],
   "source": []
  },
  {
   "cell_type": "code",
   "execution_count": null,
   "id": "c757c456-fa36-4d0c-ae23-7bbd74ae9ded",
   "metadata": {},
   "outputs": [],
   "source": []
  },
  {
   "cell_type": "code",
   "execution_count": null,
   "id": "1e789192-8787-4608-a04d-abc8ad9fdab4",
   "metadata": {},
   "outputs": [],
   "source": []
  },
  {
   "cell_type": "code",
   "execution_count": null,
   "id": "58688b0d-fdca-41cd-9009-bf241b05b6f6",
   "metadata": {},
   "outputs": [],
   "source": []
  },
  {
   "cell_type": "code",
   "execution_count": null,
   "id": "60a2f9b4-ad87-4182-a93c-5e7413cc7bab",
   "metadata": {},
   "outputs": [],
   "source": []
  },
  {
   "cell_type": "code",
   "execution_count": 46,
   "id": "73669686-fa0a-48b5-903c-586d396c9bf8",
   "metadata": {},
   "outputs": [],
   "source": [
    "sc = '{{ sc }}'\n",
    "printme = '{{ printme }}'\n",
    "prompt += f\"\\n***\\n# simulation sample generation code\\nthis code generates a sample of an agent and a time within a simulation. \\n```python{sc}\\n````\\n is the output of that: \\n***\\n{printme}\\n***\\n\\nnow, analyze values of `keyParams`. return a list of keys of keyParamaters that you think you can prove to be invalid. describe how each is provably invalid given what I've shared here. make sure to refer to the full signature of the value, e.g. keyParameters['a']['b''] or something ike that. next, as a separate task, generate a bullet point list for each value of keyParameters, but instead replace each with True (if the value can be provably possible)\"\n",
    "\n",
    "with open('/l/obs-chaotic/prompt.md', 'w') as f:\n",
    "    f.write(prompt)"
   ]
  },
  {
   "cell_type": "code",
   "execution_count": 34,
   "id": "6e650e7d-015b-4132-815a-7472160c1168",
   "metadata": {},
   "outputs": [
    {
     "name": "stdout",
     "output_type": "stream",
     "text": [
      "* <here you'll include True if you can prove this to be false, given the information given here. > keyParameters['cfg']['git_commit'] = ({{keyParameters['cfg']['git_commit']}})\n",
      "* <here you'll include True if you can prove this to be false, given the information given here. > keyParameters['cfg']['SimulationManager']['__init__']['n_agents'] = ({{keyParameters['cfg']['SimulationManager']['__init__']['n_agents']}})\n",
      "* <here you'll include True if you can prove this to be false, given the information given here. > keyParameters['cfg']['SimulationManager']['__init__']['lift_capacity'] = ({{keyParameters['cfg']['SimulationManager']['__init__']['lift_capacity']}})\n",
      "* <here you'll include True if you can prove this to be false, given the information given here. > keyParameters['cfg']['SimulationManager']['__init__']['start_datetime'] = ({{keyParameters['cfg']['SimulationManager']['__init__']['start_datetime']}})\n",
      "* <here you'll include True if you can prove this to be false, given the information given here. > keyParameters['cfg']['SimulationManager']['__init__']['logger'] = ({{keyParameters['cfg']['SimulationManager']['__init__']['logger']}})\n",
      "* <here you'll include True if you can prove this to be false, given the information given here. > keyParameters['cfg']['SimulationManager']['run']['end_datetime'] = ({{keyParameters['cfg']['SimulationManager']['run']['end_datetime']}})\n",
      "* <here you'll include True if you can prove this to be false, given the information given here. > keyParameters['cfg']['SimulationManager']['run']['runtime_minutes'] = ({{keyParameters['cfg']['SimulationManager']['run']['runtime_minutes']}})\n",
      "* <here you'll include True if you can prove this to be false, given the information given here. > keyParameters['cfg']['Simulation']['run']['stop_time'] = ({{keyParameters['cfg']['Simulation']['run']['stop_time']}})\n",
      "* <here you'll include True if you can prove this to be false, given the information given here. > keyParameters['cfg']['Simulation']['run']['logger'] = ({{keyParameters['cfg']['Simulation']['run']['logger']}})\n",
      "* <here you'll include True if you can prove this to be false, given the information given here. > keyParameters['cfg']['Simulation']['run']['full_agent_logging'] = ({{keyParameters['cfg']['Simulation']['run']['full_agent_logging']}})\n",
      "* <here you'll include True if you can prove this to be false, given the information given here. > keyParameters['cfg']['Simulation']['run']['start_datetime'] = ({{keyParameters['cfg']['Simulation']['run']['start_datetime']}})\n",
      "* <here you'll include True if you can prove this to be false, given the information given here. > keyParameters['cfg']['Lift']['num_chairs'] = ({{keyParameters['cfg']['Lift']['num_chairs']}})\n",
      "* <here you'll include True if you can prove this to be false, given the information given here. > keyParameters['cfg']['Lift']['ride_mean'] = ({{keyParameters['cfg']['Lift']['ride_mean']}})\n",
      "* <here you'll include True if you can prove this to be false, given the information given here. > keyParameters['cfg']['Lift']['ride_sd'] = ({{keyParameters['cfg']['Lift']['ride_sd']}})\n",
      "* <here you'll include True if you can prove this to be false, given the information given here. > keyParameters['cfg']['Lift']['traverse_mean'] = ({{keyParameters['cfg']['Lift']['traverse_mean']}})\n",
      "* <here you'll include True if you can prove this to be false, given the information given here. > keyParameters['cfg']['Lift']['traverse_sd'] = ({{keyParameters['cfg']['Lift']['traverse_sd']}})\n",
      "* <here you'll include True if you can prove this to be false, given the information given here. > keyParameters['cfg']['Agent']['__init__']['logger'] = ({{keyParameters['cfg']['Agent']['__init__']['logger']}})\n",
      "* <here you'll include True if you can prove this to be false, given the information given here. > keyParameters['cfg']['Agent']['__init__']['self_logging'] = ({{keyParameters['cfg']['Agent']['__init__']['self_logging']}})\n",
      "* <here you'll include True if you can prove this to be false, given the information given here. > keyParameters['sample_time'] = ({{keyParameters['sample_time']}})\n",
      "* <here you'll include True if you can prove this to be false, given the information given here. > keyParameters['exp']['time'] = ({{keyParameters['exp']['time']}})\n",
      "* <here you'll include True if you can prove this to be false, given the information given here. > keyParameters['exp']['return_event_uuid'] = ({{keyParameters['exp']['return_event_uuid']}})\n",
      "* <here you'll include True if you can prove this to be false, given the information given here. > keyParameters['exp']['agent_uuid'] = ({{keyParameters['exp']['agent_uuid']}})\n",
      "* <here you'll include True if you can prove this to be false, given the information given here. > keyParameters['exp']['agent_uuid_codename'] = ({{keyParameters['exp']['agent_uuid_codename']}})\n",
      "* <here you'll include True if you can prove this to be false, given the information given here. > keyParameters['exp']['time_spent_ride_lift'] = ({{keyParameters['exp']['time_spent_ride_lift']}})\n",
      "* <here you'll include True if you can prove this to be false, given the information given here. > keyParameters['exp']['time_spent_traverse_down_mountain'] = ({{keyParameters['exp']['time_spent_traverse_down_mountain']}})\n",
      "* <here you'll include True if you can prove this to be false, given the information given here. > keyParameters['exp']['time_spent_in_queue'] = ({{keyParameters['exp']['time_spent_in_queue']}})\n",
      "* <here you'll include True if you can prove this to be false, given the information given here. > keyParameters['exp']['time_spent_total'] = ({{keyParameters['exp']['time_spent_total']}})\n",
      "* <here you'll include True if you can prove this to be false, given the information given here. > keyParameters['state_map']['board'] = ({{keyParameters['state_map']['board']}})\n",
      "* <here you'll include True if you can prove this to be false, given the information given here. > keyParameters['state_map']['ride_complete'] = ({{keyParameters['state_map']['ride_complete']}})\n",
      "* <here you'll include True if you can prove this to be false, given the information given here. > keyParameters['state_map']['start_wait'] = ({{keyParameters['state_map']['start_wait']}})\n",
      "* <here you'll include True if you can prove this to be false, given the information given here. > keyParameters['state_map']['arrival'] = ({{keyParameters['state_map']['arrival']}})\n"
     ]
    }
   ],
   "source": [
    "def collect_key_signatures_and_values(d, prefix=\"keyParameters\"):\n",
    "    result = []\n",
    "    if isinstance(d, dict):\n",
    "        for k, v in d.items():\n",
    "            key_repr = f\"{prefix}[{repr(k)}]\"\n",
    "            result.extend(collect_key_signatures_and_values(v, key_repr))\n",
    "    else:\n",
    "        result.append((prefix, d))\n",
    "    return result\n",
    "\n",
    "# Example usage:\n",
    "signatures_and_values = collect_key_signatures_and_values(d['keyParameters'])\n",
    "\n",
    "for k,v in dict(signatures_and_values).items():\n",
    "    print(f\"* <here you'll include True if you can prove this to be false, given the information given here. > {k} \"+'= ({{'+f\"{k}\"+'}})'+'')"
   ]
  },
  {
   "cell_type": "code",
   "execution_count": 25,
   "id": "57b1e976-cead-4c52-8609-c38bf42ed383",
   "metadata": {},
   "outputs": [
    {
     "data": {
      "text/plain": [
       "35"
      ]
     },
     "execution_count": 25,
     "metadata": {},
     "output_type": "execute_result"
    }
   ],
   "source": [
    "d['keyParameters']['cfg']['Lift']['num_chairs']"
   ]
  },
  {
   "cell_type": "code",
   "execution_count": null,
   "id": "b2e2f31c-2cc5-4f57-8892-88f6c2d9fff0",
   "metadata": {},
   "outputs": [],
   "source": []
  },
  {
   "cell_type": "code",
   "execution_count": null,
   "id": "b4347126-797e-4e51-9ed8-21fa5ee20ec3",
   "metadata": {},
   "outputs": [],
   "source": []
  },
  {
   "cell_type": "code",
   "execution_count": null,
   "id": "e250136a-8b98-4c2c-bc13-7a8009f2f5f7",
   "metadata": {},
   "outputs": [],
   "source": []
  },
  {
   "cell_type": "code",
   "execution_count": null,
   "id": "912b3d1d-8a80-4bf0-b5ef-21196c99863d",
   "metadata": {},
   "outputs": [],
   "source": []
  },
  {
   "cell_type": "code",
   "execution_count": null,
   "id": "683889c2-f2b9-4a27-86f7-3d03ce18be6c",
   "metadata": {},
   "outputs": [],
   "source": [
    "from zero_helpers.imports import * \n",
    "from codenamize import codenamize as cd\n",
    "from copy import deepcopy as copy\n",
    "from zero_liftsim.simmanager import SimulationManager\n",
    "from zero_liftsim.helpers import base_config\n",
    "from zero_liftsim.experience import AgentRideLoopExperience\n",
    "from zero_liftsim.helpers import load_asset_template\n",
    "from zero_liftsim import helpers as hp\n",
    "from zero_liftsim.lift import Lift\n",
    "\n",
    "import inspect\n",
    "\n",
    "cfg = base_config()\n",
    "cfg[\"SimulationManager\"][\"__init__\"].update({\"n_agents\": 25, \"lift_capacity\": 4})\n",
    "cfg['Lift']['num_chairs'] = 35\n",
    "\n",
    "manager = SimulationManager(cfg)\n",
    "result = manager.run(runtime_minutes=60*4)\n",
    "\n",
    "# get rideloop explogs and agent event log\n",
    "exp_log_data = manager.retrieve_data()\n",
    "exp = exp_log_data['exp_rideloop']\n",
    "log = exp_log_data['agent_log']\n",
    "\n",
    "# sample an agent \n",
    "agent = manager.sample_agent()\n",
    "INDEX_TIME = agent.get_activity_log_df()['time'].sample().iloc[0]\n",
    "\n",
    "# this is the agent state @ time as self-determined (based on own logs, self.activity_log via self.get_latest_event)\n",
    "state_gotten = agent.get_state(INDEX_TIME) \n",
    "event_latest = agent.get_latest_event(INDEX_TIME)\n",
    "\n",
    "from zero_liftsim.agent_state_id import _EVENT_STATE_MAP as esm\n",
    "\n",
    "edf = agent.get_rideloop_experience_log_df()\n",
    "idx = edf.zero_liftsim.get_nearest_time_index(INDEX_TIME)\n",
    "eid = edf.loc[idx]['exp_id']\n",
    "print(f\"* states are mapped to events like this: \")\n",
    "for k,v in esm.items():\n",
    "    print(f\"    * {k} (event): {v} (action)\")\n",
    "print(f\"\"\"\n",
    "* predicted agent state: {state_gotten}\n",
    "* most recent event: {event_latest}\n",
    "* experience (id): {cd(eid)} {eid}\n",
    "* INDEX_TIME: {INDEX_TIME.strftime('%H:%M')}\n",
    "\"\"\")\n",
    "assert exp['exp_id'].is_unique\n",
    "e_params = exp.set_index('exp_id').loc[eid].to_dict()\n",
    "\n",
    "ldf = agent.get_activity_log_df()\n",
    "l = agent.recent_agent_log_return_event_uuid(e_params['return_event_uuid'])\n",
    "\n",
    "for k,v in e_params.items():\n",
    "    print(f\"* {k}: {v}\")\n",
    "    \n",
    "print(f\"Recent Activity Log\")\n",
    "print(l)\n",
    "e_params\n",
    "\n",
    "## analysis vars\n",
    "keyParameters = {}\n",
    "keyParameters['cfg'] = copy(cfg)\n",
    "keyParameters['sample_time'] = INDEX_TIME\n",
    "keyParameters['exp'] = e_params\n",
    "keyParameters['state_map'] = esm\n",
    "print(keyParameters)"
   ]
  },
  {
   "cell_type": "code",
   "execution_count": null,
   "id": "1dabd6b2-6422-4c9b-a99e-9a6d6cab6f7c",
   "metadata": {},
   "outputs": [],
   "source": []
  },
  {
   "cell_type": "code",
   "execution_count": null,
   "id": "c2e088d9-f9af-4c15-9e85-4cb7f6855027",
   "metadata": {},
   "outputs": [],
   "source": []
  },
  {
   "cell_type": "code",
   "execution_count": null,
   "id": "b657d14b-8cd7-4b8f-846e-089803061cb9",
   "metadata": {},
   "outputs": [],
   "source": []
  },
  {
   "cell_type": "code",
   "execution_count": null,
   "id": "b43d8193-fc2c-4569-8bde-fce285a112a7",
   "metadata": {},
   "outputs": [],
   "source": []
  },
  {
   "cell_type": "code",
   "execution_count": null,
   "id": "026088e0-b16c-47f3-a1fd-e59b296dd7ca",
   "metadata": {},
   "outputs": [],
   "source": []
  }
 ],
 "metadata": {
  "kernelspec": {
   "display_name": "Python 3 (ipykernel)",
   "language": "python",
   "name": "python3"
  },
  "language_info": {
   "codemirror_mode": {
    "name": "ipython",
    "version": 3
   },
   "file_extension": ".py",
   "mimetype": "text/x-python",
   "name": "python",
   "nbconvert_exporter": "python",
   "pygments_lexer": "ipython3",
   "version": "3.11.8"
  }
 },
 "nbformat": 4,
 "nbformat_minor": 5
}
