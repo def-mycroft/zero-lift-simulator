{
 "cells": [
  {
   "cell_type": "code",
   "execution_count": 1,
   "id": "01b69f92-8043-4f9d-8045-313a0de567bb",
   "metadata": {},
   "outputs": [],
   "source": [
    "%load_ext autoreload\n",
    "%autoreload 2"
   ]
  },
  {
   "cell_type": "code",
   "execution_count": 2,
   "id": "416e239b-bf74-47d5-a70c-ba151f324c65",
   "metadata": {},
   "outputs": [
    {
     "ename": "ImportError",
     "evalue": "cannot import name 'Agent' from partially initialized module 'zero_liftsim.agent' (most likely due to a circular import) (/home/zero/code-repos/zero-lift-simulator/zero_liftsim/agent.py)",
     "output_type": "error",
     "traceback": [
      "\u001b[0;31m---------------------------------------------------------------------------\u001b[0m",
      "\u001b[0;31mImportError\u001b[0m                               Traceback (most recent call last)",
      "Cell \u001b[0;32mIn[2], line 2\u001b[0m\n\u001b[1;32m      1\u001b[0m \u001b[38;5;28;01mfrom\u001b[39;00m\u001b[38;5;250m \u001b[39m\u001b[38;5;21;01mzero_helpers\u001b[39;00m\u001b[38;5;21;01m.\u001b[39;00m\u001b[38;5;21;01mimports\u001b[39;00m\u001b[38;5;250m \u001b[39m\u001b[38;5;28;01mimport\u001b[39;00m \u001b[38;5;241m*\u001b[39m \n\u001b[0;32m----> 2\u001b[0m \u001b[38;5;28;01mfrom\u001b[39;00m\u001b[38;5;250m \u001b[39m\u001b[38;5;21;01mzero_liftsim\u001b[39;00m\u001b[38;5;21;01m.\u001b[39;00m\u001b[38;5;21;01msimmanager\u001b[39;00m\u001b[38;5;250m \u001b[39m\u001b[38;5;28;01mimport\u001b[39;00m SimulationManager\n\u001b[1;32m      3\u001b[0m \u001b[38;5;28;01mfrom\u001b[39;00m\u001b[38;5;250m \u001b[39m\u001b[38;5;21;01mzero_liftsim\u001b[39;00m\u001b[38;5;21;01m.\u001b[39;00m\u001b[38;5;21;01mhelpers\u001b[39;00m\u001b[38;5;250m \u001b[39m\u001b[38;5;28;01mimport\u001b[39;00m base_config\n\u001b[1;32m      4\u001b[0m \u001b[38;5;28;01mfrom\u001b[39;00m\u001b[38;5;250m \u001b[39m\u001b[38;5;21;01mzero_liftsim\u001b[39;00m\u001b[38;5;21;01m.\u001b[39;00m\u001b[38;5;21;01mexperience\u001b[39;00m\u001b[38;5;250m \u001b[39m\u001b[38;5;28;01mimport\u001b[39;00m AgentRideLoopExperience\n",
      "File \u001b[0;32m~/code-repos/zero-lift-simulator/zero_liftsim/__init__.py:3\u001b[0m\n\u001b[1;32m      1\u001b[0m \u001b[38;5;124;03m\"\"\"Top level package for zero_liftsim.\"\"\"\u001b[39;00m\n\u001b[0;32m----> 3\u001b[0m \u001b[38;5;28;01mfrom\u001b[39;00m\u001b[38;5;250m \u001b[39m\u001b[38;5;21;01m.\u001b[39;00m\u001b[38;5;21;01msimulation\u001b[39;00m\u001b[38;5;250m \u001b[39m\u001b[38;5;28;01mimport\u001b[39;00m Simulation, run_alpha_sim\n\u001b[1;32m      4\u001b[0m \u001b[38;5;28;01mfrom\u001b[39;00m\u001b[38;5;250m \u001b[39m\u001b[38;5;21;01m.\u001b[39;00m\u001b[38;5;21;01mevents\u001b[39;00m\u001b[38;5;250m \u001b[39m\u001b[38;5;28;01mimport\u001b[39;00m Event, ArrivalEvent, BoardingEvent, ReturnEvent\n\u001b[1;32m      5\u001b[0m \u001b[38;5;28;01mfrom\u001b[39;00m\u001b[38;5;250m \u001b[39m\u001b[38;5;21;01m.\u001b[39;00m\u001b[38;5;250m \u001b[39m\u001b[38;5;28;01mimport\u001b[39;00m state_viz\n",
      "File \u001b[0;32m~/code-repos/zero-lift-simulator/zero_liftsim/simulation.py:15\u001b[0m\n\u001b[1;32m     12\u001b[0m     \u001b[38;5;28;01mdef\u001b[39;00m\u001b[38;5;250m \u001b[39m\u001b[38;5;21mcodenamize\u001b[39m(value: \u001b[38;5;28mstr\u001b[39m) \u001b[38;5;241m-\u001b[39m\u001b[38;5;241m>\u001b[39m \u001b[38;5;28mstr\u001b[39m:\n\u001b[1;32m     13\u001b[0m         \u001b[38;5;28;01mreturn\u001b[39;00m value[:\u001b[38;5;241m8\u001b[39m]\n\u001b[0;32m---> 15\u001b[0m \u001b[38;5;28;01mfrom\u001b[39;00m\u001b[38;5;250m \u001b[39m\u001b[38;5;21;01m.\u001b[39;00m\u001b[38;5;21;01magent\u001b[39;00m\u001b[38;5;250m \u001b[39m\u001b[38;5;28;01mimport\u001b[39;00m Agent\n\u001b[1;32m     16\u001b[0m \u001b[38;5;28;01mfrom\u001b[39;00m\u001b[38;5;250m \u001b[39m\u001b[38;5;21;01m.\u001b[39;00m\u001b[38;5;21;01mlift\u001b[39;00m\u001b[38;5;250m \u001b[39m\u001b[38;5;28;01mimport\u001b[39;00m Lift\n\u001b[1;32m     17\u001b[0m \u001b[38;5;28;01mfrom\u001b[39;00m\u001b[38;5;250m \u001b[39m\u001b[38;5;21;01m.\u001b[39;00m\u001b[38;5;21;01mlogging\u001b[39;00m\u001b[38;5;250m \u001b[39m\u001b[38;5;28;01mimport\u001b[39;00m Logger\n",
      "File \u001b[0;32m~/code-repos/zero-lift-simulator/zero_liftsim/agent.py:18\u001b[0m\n\u001b[1;32m     16\u001b[0m \u001b[38;5;28;01mfrom\u001b[39;00m\u001b[38;5;250m \u001b[39m\u001b[38;5;21;01m.\u001b[39;00m\u001b[38;5;21;01mlogging\u001b[39;00m\u001b[38;5;250m \u001b[39m\u001b[38;5;28;01mimport\u001b[39;00m Logger\n\u001b[1;32m     17\u001b[0m \u001b[38;5;28;01mfrom\u001b[39;00m\u001b[38;5;250m \u001b[39m\u001b[38;5;21;01m.\u001b[39;00m\u001b[38;5;21;01mexperience\u001b[39;00m\u001b[38;5;250m \u001b[39m\u001b[38;5;28;01mimport\u001b[39;00m AgentRideLoopExperience\n\u001b[0;32m---> 18\u001b[0m \u001b[38;5;28;01mfrom\u001b[39;00m\u001b[38;5;250m \u001b[39m\u001b[38;5;21;01m.\u001b[39;00m\u001b[38;5;21;01magent_state_id\u001b[39;00m\u001b[38;5;250m \u001b[39m\u001b[38;5;28;01mimport\u001b[39;00m infer_agent_states\n\u001b[1;32m     21\u001b[0m \u001b[38;5;28;01mclass\u001b[39;00m\u001b[38;5;250m \u001b[39m\u001b[38;5;21;01mAgent\u001b[39;00m:\n\u001b[1;32m     22\u001b[0m \u001b[38;5;250m    \u001b[39m\u001b[38;5;124;03m\"\"\"Represents an individual participant in the Zero Lift simulation.\u001b[39;00m\n\u001b[1;32m     23\u001b[0m \n\u001b[1;32m     24\u001b[0m \u001b[38;5;124;03m    Each Agent maintains a unique identity, an internal log of events,\u001b[39;00m\n\u001b[0;32m   (...)\u001b[0m\n\u001b[1;32m     55\u001b[0m \u001b[38;5;124;03m        Stores summaries of each lift ride experience.\u001b[39;00m\n\u001b[1;32m     56\u001b[0m \u001b[38;5;124;03m    \"\"\"\u001b[39;00m\n",
      "File \u001b[0;32m~/code-repos/zero-lift-simulator/zero_liftsim/agent_state_id.py:12\u001b[0m\n\u001b[1;32m      9\u001b[0m \u001b[38;5;28;01mclass\u001b[39;00m\u001b[38;5;250m \u001b[39m\u001b[38;5;21;01mUnknownEventError\u001b[39;00m(\u001b[38;5;167;01mException\u001b[39;00m):\n\u001b[1;32m     10\u001b[0m \u001b[38;5;250m    \u001b[39m\u001b[38;5;124;03m\"\"\"Raised when :func:`infer_agent_states` encounters an unknown event.\"\"\"\u001b[39;00m\n\u001b[0;32m---> 12\u001b[0m \u001b[38;5;28;01mfrom\u001b[39;00m\u001b[38;5;250m \u001b[39m\u001b[38;5;21;01m.\u001b[39;00m\u001b[38;5;21;01magent\u001b[39;00m\u001b[38;5;250m \u001b[39m\u001b[38;5;28;01mimport\u001b[39;00m Agent\n\u001b[1;32m     14\u001b[0m \u001b[38;5;66;03m# State constants used when categorizing agents\u001b[39;00m\n\u001b[1;32m     15\u001b[0m state_riding_lift \u001b[38;5;241m=\u001b[39m \u001b[38;5;124m\"\u001b[39m\u001b[38;5;124mriding_lift\u001b[39m\u001b[38;5;124m\"\u001b[39m\n",
      "\u001b[0;31mImportError\u001b[0m: cannot import name 'Agent' from partially initialized module 'zero_liftsim.agent' (most likely due to a circular import) (/home/zero/code-repos/zero-lift-simulator/zero_liftsim/agent.py)"
     ]
    }
   ],
   "source": [
    "from zero_helpers.imports import * \n",
    "from zero_liftsim.simmanager import SimulationManager\n",
    "from zero_liftsim.helpers import base_config\n",
    "from zero_liftsim.experience import AgentRideLoopExperience\n",
    "from zero_liftsim.helpers import load_asset_template\n",
    "from zero_liftsim import helpers as hp\n",
    "from zero_liftsim.lift import Lift\n",
    "\n",
    "import inspect"
   ]
  },
  {
   "cell_type": "markdown",
   "id": "1e4f5e7d-b909-4059-b226-198171709472",
   "metadata": {},
   "source": [
    "# Run Simulation"
   ]
  },
  {
   "cell_type": "code",
   "execution_count": null,
   "id": "62e11d5f-031e-4c14-8de8-b725bb31fd49",
   "metadata": {},
   "outputs": [],
   "source": [
    "cfg = base_config()\n",
    "cfg[\"SimulationManager\"][\"__init__\"].update({\"n_agents\": 25, \"lift_capacity\": 4})\n",
    "cfg['Lift']['num_chairs'] = 35\n",
    "\n",
    "manager = SimulationManager(cfg)\n",
    "result = manager.run(runtime_minutes=60*4)\n",
    "print(result)"
   ]
  },
  {
   "cell_type": "code",
   "execution_count": null,
   "id": "b008fd77-98be-47ac-84a9-a0d5f3db87a6",
   "metadata": {},
   "outputs": [],
   "source": [
    "# get rideloop explogs and agent event log\n",
    "exp_log_data = manager.retrieve_data()\n",
    "exp = exp_log_data['exp_rideloop']\n",
    "log = exp_log_data['agent_log']"
   ]
  },
  {
   "cell_type": "markdown",
   "id": "2dbff9e8-c7f4-49bf-a1ea-dc8c41cf4caa",
   "metadata": {},
   "source": [
    "## Sample Agent and Get Exp Traceback"
   ]
  },
  {
   "cell_type": "code",
   "execution_count": null,
   "id": "30e3f530-81ed-4030-83ef-1aca505be7c1",
   "metadata": {},
   "outputs": [],
   "source": [
    "def sample_agent(manager, log, exp):\n",
    "    # sample agent and subset exp/log to e/l for agent subset of those\n",
    "    m = log['event'] == 'ride_complete'\n",
    "    event_ride_comp = log[m].sample().iloc[0].to_dict()\n",
    "    agent = manager.lookup_agent(event_ride_comp['agent_uuid'])\n",
    "    l = log[log['agent_uuid'] == agent.agent_uuid]\n",
    "    idx = (exp['time'] - event_ride_comp['time']).dt.total_seconds().abs().idxmin()\n",
    "    e = exp.loc[idx].to_dict()\n",
    "    return agent, l, e"
   ]
  },
  {
   "cell_type": "code",
   "execution_count": null,
   "id": "12ca07ff-7a1b-4c59-a755-c94a6512a179",
   "metadata": {},
   "outputs": [],
   "source": [
    "agent, l, e = sample_agent(manager, log, exp)"
   ]
  },
  {
   "cell_type": "markdown",
   "id": "f2d999ea-f848-4bb2-b183-8c9371346d10",
   "metadata": {},
   "source": [
    "# Agent State Identification (ride loop exp)"
   ]
  },
  {
   "cell_type": "markdown",
   "id": "f659cdd0-4f11-4e05-bce2-8b7e1e9c3664",
   "metadata": {},
   "source": [
    "for the ride loop agent experience, the total time is broken down into riding the lift, traversing down the mountain and waiting in the queue, i.e. \"time_spent_total\": ride + traverse + queue below:\n",
    "\n",
    "sample a random time within the time range of the simulation:"
   ]
  },
  {
   "cell_type": "code",
   "execution_count": null,
   "id": "e05a2b69-6b43-4e6a-b371-bb77638925b0",
   "metadata": {},
   "outputs": [],
   "source": [
    "# sample a random timestamp within the agent log timeframe\n",
    "INDEX_TIME = pd.Series(pd.date_range(log['time'].min(), log['time'].max(), freq='1s')).sample().iloc[0]"
   ]
  },
  {
   "cell_type": "code",
   "execution_count": null,
   "id": "0d482bf4-2d50-4a9f-9f9a-7df9bedd60f4",
   "metadata": {},
   "outputs": [],
   "source": [
    "s = inspect.getsource(AgentRideLoopExperience)\n",
    "lines = s.split('\\n')\n",
    "idx = [i for i,x in enumerate(lines) if x.strip() == '\"\"\"'][-1]\n",
    "print('\\n'.join(lines[idx+1:]))"
   ]
  },
  {
   "cell_type": "markdown",
   "id": "cb6f3f4e-4e86-4fde-8362-a3270ccf8e70",
   "metadata": {},
   "source": [
    "...and we can see in the source code above how `time_spent_total` is constructed. "
   ]
  },
  {
   "cell_type": "code",
   "execution_count": null,
   "id": "f9e26c10-eb56-4244-81b7-90d0595c4582",
   "metadata": {},
   "outputs": [],
   "source": [
    "from zero_liftsim.agent_state_id import infer_agent_states\n",
    "\n",
    "# func \n",
    "r = infer_agent_states([agent], INDEX_TIME)\n",
    "\n",
    "i = agent.agent_uuid\n",
    "msg = 'func infer state should return agent uuid'\n",
    "assert i in r, msg\n",
    "print(r)"
   ]
  },
  {
   "cell_type": "markdown",
   "id": "722247e5-41d0-4c84-84e8-778553c2e683",
   "metadata": {},
   "source": [
    "# Sample and Manually Review Examples\n",
    "\n",
    "We need to evaluate how well the simulation is representing the actual constrained behavior that we see in the real world. Simply manually reviewing some examples here helps with that need. "
   ]
  },
  {
   "cell_type": "code",
   "execution_count": null,
   "id": "da17632c-5928-4d31-bc85-a3171aef7658",
   "metadata": {},
   "outputs": [],
   "source": [
    "def sample_time(log):\n",
    "    return pd.Series(pd.date_range(log['time'].min(), log['time'].max(), freq='1s')).sample().iloc[0]"
   ]
  },
  {
   "cell_type": "code",
   "execution_count": null,
   "id": "e6f2f17d-91d3-49a3-9c6d-a1740136f18f",
   "metadata": {},
   "outputs": [],
   "source": [
    "time = sample_time(log)\n",
    "agent = sample_agent(manager, log, exp)"
   ]
  },
  {
   "cell_type": "code",
   "execution_count": null,
   "id": "23f88139-3117-4d13-99cc-ad24535af14d",
   "metadata": {},
   "outputs": [],
   "source": [
    "agent, l, e = sample_agent(manager, log, exp)"
   ]
  },
  {
   "cell_type": "code",
   "execution_count": null,
   "id": "f6dd455e-eb5d-498f-a3ea-4c638f3b843b",
   "metadata": {},
   "outputs": [],
   "source": []
  }
 ],
 "metadata": {
  "kernelspec": {
   "display_name": "Python 3 (ipykernel)",
   "language": "python",
   "name": "python3"
  },
  "language_info": {
   "codemirror_mode": {
    "name": "ipython",
    "version": 3
   },
   "file_extension": ".py",
   "mimetype": "text/x-python",
   "name": "python",
   "nbconvert_exporter": "python",
   "pygments_lexer": "ipython3",
   "version": "3.11.8"
  }
 },
 "nbformat": 4,
 "nbformat_minor": 5
}
