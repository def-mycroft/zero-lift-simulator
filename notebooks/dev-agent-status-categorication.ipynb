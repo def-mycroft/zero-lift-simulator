{
 "cells": [
  {
   "cell_type": "raw",
   "id": "0dcb1973-cabd-41d5-92f0-8aac30e6a2c7",
   "metadata": {},
   "source": [
    "%load_ext autoreload\n",
    "%autoreload 2"
   ]
  },
  {
   "cell_type": "code",
   "execution_count": 21,
   "id": "afe1850a-2136-432e-a874-a73cd8168f3e",
   "metadata": {},
   "outputs": [],
   "source": [
    "def sanitize_for_obsidian(text: str) -> str:\n",
    "    \"\"\"Escape markdown so text is treated as plain in Obsidian.\"\"\"\n",
    "    lines = text.splitlines()\n",
    "    escaped_lines = []\n",
    "    special_chars = r'\\`*_{}[]()#+-.!|>'\n",
    "    for line in lines:\n",
    "        escaped_line = ''.join(f'\\\\{c}' if c in special_chars else c for c in line)\n",
    "        if escaped_line.lstrip().startswith('#'):\n",
    "            # prevent heading by adding a zero-width space\n",
    "            escaped_line = '\\u200b' + escaped_line\n",
    "        escaped_lines.append(escaped_line)\n",
    "    return '\\n'.join(escaped_lines)\n"
   ]
  },
  {
   "cell_type": "code",
   "execution_count": 22,
   "id": "b83269f9-1285-4bad-a2ae-69db3bf4d5a5",
   "metadata": {},
   "outputs": [],
   "source": [
    "from zero_liftsim import sandbox as sb\n",
    "from codenamize import codenamize\n",
    "from zero_helpers.imports import *\n",
    "# sample time and agent, generate data. \n",
    "d = sb.get_sample()\n",
    "\n",
    "fp = \"/l/obs-chaotic/full context clear wipe prompt courageous-senior 467c6d36.md\"\n",
    "assert exists(fp)\n",
    "with open(fp, 'r') as f:\n",
    "    prompt = f.read()\n",
    "with open('/l/m/m/sandbox.py', 'r') as f:\n",
    "    sc = f.read()\n",
    "\n",
    "prompt_data = {}\n",
    "prompt_data['sc'] = sc\n",
    "prompt_data['printme'] = d['printme']\n",
    "printme = d['printme']\n",
    "\n",
    "from jinja2 import Template"
   ]
  },
  {
   "cell_type": "code",
   "execution_count": 23,
   "id": "483d5950-41b3-4b0b-aa2f-44c5bace9241",
   "metadata": {},
   "outputs": [],
   "source": [
    "fp = \"/l/obs-chaotic/prompt wrong-pleasure 908a7085.md\"\n",
    "with open(fp, 'r')  as f:\n",
    "    template = Template(f.read())\n",
    "prompt = template.render({'sc':sc, 'printme':d['printme'], 'keyParameters':d['keyParameters'], 'agent_state':d['agent_state'], 'agent_uuid':d['agent_uuid']})\n",
    "\n",
    "i = d['keyParameters']['exp']['agent_uuid']\n",
    "c = codenamize(i)"
   ]
  },
  {
   "cell_type": "code",
   "execution_count": null,
   "id": "a17221fb-66ef-47d2-a5c9-0b76cb0403be",
   "metadata": {},
   "outputs": [],
   "source": []
  },
  {
   "cell_type": "code",
   "execution_count": 24,
   "id": "1c26dfa1-b22e-4bf4-8f74-194d1c2ea0d3",
   "metadata": {},
   "outputs": [],
   "source": [
    "from zero_consult_clouds import ChatGPT\n",
    "#chat = ChatGPT()\n",
    "#response = chat.send(prompt)\n",
    "\n",
    "with open('/l/m/docs/analyze-examples-gruesome-church-737d4eba.md', 'a') as f:\n",
    "    f.write(f'\\n***\\n# Example agent={c} {i}\\n')\n",
    "    f.write('\\n***\\n## response \\n')\n",
    "    f.write('xxx response here')\n",
    "    f.write('\\n***\\n## Prompt \\n')\n",
    "    f.write('\\n```prompt\\n')\n",
    "    f.write(sanitize_for_obsidian(prompt))\n",
    "    f.write('\\n```\\n')\n",
    "    f.write('\\n***\\n## Data \\n')\n",
    "    f.write('\\n```data\\n')\n",
    "    f.write(sanitize_for_obsidian(printme))\n",
    "    f.write('\\n```\\n')\n",
    "    f.write('\\n***\\n')\n",
    "\n",
    "with open('/l/obs-chaotic/prompt.md', 'w') as f:\n",
    "    f.write(prompt)"
   ]
  },
  {
   "cell_type": "code",
   "execution_count": null,
   "id": "fb99e162-4e83-434d-9ddd-4dac2c8cd222",
   "metadata": {},
   "outputs": [],
   "source": []
  },
  {
   "cell_type": "code",
   "execution_count": null,
   "id": "c757c456-fa36-4d0c-ae23-7bbd74ae9ded",
   "metadata": {},
   "outputs": [],
   "source": []
  },
  {
   "cell_type": "code",
   "execution_count": null,
   "id": "1e789192-8787-4608-a04d-abc8ad9fdab4",
   "metadata": {},
   "outputs": [],
   "source": []
  },
  {
   "cell_type": "code",
   "execution_count": null,
   "id": "58688b0d-fdca-41cd-9009-bf241b05b6f6",
   "metadata": {},
   "outputs": [],
   "source": []
  }
 ],
 "metadata": {
  "kernelspec": {
   "display_name": "Python 3 (ipykernel)",
   "language": "python",
   "name": "python3"
  },
  "language_info": {
   "codemirror_mode": {
    "name": "ipython",
    "version": 3
   },
   "file_extension": ".py",
   "mimetype": "text/x-python",
   "name": "python",
   "nbconvert_exporter": "python",
   "pygments_lexer": "ipython3",
   "version": "3.11.8"
  }
 },
 "nbformat": 4,
 "nbformat_minor": 5
}
