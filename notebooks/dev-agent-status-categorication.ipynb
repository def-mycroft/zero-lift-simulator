{
 "cells": [
  {
   "cell_type": "code",
   "execution_count": 1,
   "id": "01b69f92-8043-4f9d-8045-313a0de567bb",
   "metadata": {},
   "outputs": [],
   "source": [
    "%load_ext autoreload\n",
    "%autoreload 2"
   ]
  },
  {
   "cell_type": "code",
   "execution_count": 2,
   "id": "416e239b-bf74-47d5-a70c-ba151f324c65",
   "metadata": {},
   "outputs": [],
   "source": [
    "from zero_helpers.imports import * \n",
    "from zero_liftsim.simmanager import SimulationManager\n",
    "from zero_liftsim.helpers import base_config\n",
    "from zero_liftsim.experience import AgentRideLoopExperience\n",
    "from zero_liftsim.helpers import load_asset_template\n",
    "from zero_liftsim import helpers as hp\n",
    "from zero_liftsim.lift import Lift\n",
    "\n",
    "import inspect"
   ]
  },
  {
   "cell_type": "markdown",
   "id": "1e4f5e7d-b909-4059-b226-198171709472",
   "metadata": {},
   "source": [
    "# Run Simulation"
   ]
  },
  {
   "cell_type": "code",
   "execution_count": 3,
   "id": "62e11d5f-031e-4c14-8de8-b725bb31fd49",
   "metadata": {},
   "outputs": [
    {
     "name": "stdout",
     "output_type": "stream",
     "text": [
      "{'total_rides': 468, 'average_wait': 0.9551282051282052, 'agents': [Agent(1) rainy-news 32580404-14eb-46c7-b40b-585125c79f77, Agent(2) incompetent-sensitive d4855e94-3b32-4a41-9de5-8bfcd39f0202, Agent(3) unaccountable-example 769dae5f-5db8-4a19-9d5d-0fc57710cf00, Agent(4) electric-fishing 96a8cbd3-f06e-4921-b71f-8f07cd940046, Agent(5) modern-girlfriend 0a6fb7a3-d04b-435e-9b39-b53048c5da95, Agent(6) reminiscent-problem b470593b-8fdd-44fc-bbb3-6b718f449434, Agent(7) optimal-tower 04f661db-1235-4c95-bc98-8c22ffc4d0f1, Agent(8) nosy-closet f9403dad-e24d-4d08-910e-ffe5307b0c60, Agent(9) safe-clothes ae167d50-79bb-4275-b344-0ac1956a3561, Agent(10) squeamish-plane badb5da8-73cb-4808-b97b-09f0159a2252, Agent(11) inconclusive-history 61f63117-d218-4ab0-97dc-4bdb85ab5cf6, Agent(12) pale-currency 7ec78775-7372-4ee0-8349-71281e958ed5, Agent(13) squalid-war dbd9b555-2acb-49e5-a1ed-6eaf1ba7516c, Agent(14) truculent-dinner 609a992e-d09c-4455-989e-f2c2424dba24, Agent(15) wealthy-conversation d2ce9a34-8d23-40c5-bb15-449291b95ee8, Agent(16) piquant-double af7a35a5-0d98-4a66-a93c-c0d2e7ecbde7, Agent(17) malicious-bottle 7cdb2bbd-c4d5-46f8-bc9e-d425ebe15cde, Agent(18) unruly-visit 6af34d95-5d5a-4ba1-a4d2-7ba39d45d4b1, Agent(19) average-reality 45e2bb50-3fc2-437e-a70c-c0ecf3db1a37, Agent(20) stingy-task ff7162a6-29a6-4b7f-9065-ebb29882c2fc, Agent(21) optimal-stay d75add02-3c8b-4c2f-84af-088404432f91, Agent(22) raspy-engineer 2a874fac-651c-4efb-8584-a145452f958d, Agent(23) slim-wine df3d5a2c-d7f6-4a57-9cb0-0957752113df, Agent(24) pale-shelter 43735b8d-3204-45da-a820-9f6f10ac39e0, Agent(25) wacky-position 68db6ced-6516-4150-8904-28f8ad57dee9]}\n"
     ]
    }
   ],
   "source": [
    "cfg = base_config()\n",
    "cfg[\"SimulationManager\"][\"__init__\"].update({\"n_agents\": 25, \"lift_capacity\": 4})\n",
    "cfg['Lift']['num_chairs'] = 35\n",
    "\n",
    "manager = SimulationManager(cfg)\n",
    "result = manager.run(runtime_minutes=60*4)\n",
    "print(result)"
   ]
  },
  {
   "cell_type": "code",
   "execution_count": 4,
   "id": "b008fd77-98be-47ac-84a9-a0d5f3db87a6",
   "metadata": {},
   "outputs": [],
   "source": [
    "# get rideloop explogs and agent event log\n",
    "exp_log_data = manager.retrieve_data()\n",
    "exp = exp_log_data['exp_rideloop']\n",
    "log = exp_log_data['agent_log']"
   ]
  },
  {
   "cell_type": "markdown",
   "id": "2dbff9e8-c7f4-49bf-a1ea-dc8c41cf4caa",
   "metadata": {},
   "source": [
    "## Sample Agent and Get Exp Traceback"
   ]
  },
  {
   "cell_type": "code",
   "execution_count": 5,
   "id": "30e3f530-81ed-4030-83ef-1aca505be7c1",
   "metadata": {},
   "outputs": [],
   "source": [
    "def sample_agent(manager, log, exp):\n",
    "    # sample agent and subset exp/log to e/l for agent subset of those\n",
    "    m = log['event'] == 'ride_complete'\n",
    "    event_ride_comp = log[m].sample().iloc[0].to_dict()\n",
    "    agent = manager.lookup_agent(event_ride_comp['agent_uuid'])\n",
    "    l = log[log['agent_uuid'] == agent.agent_uuid]\n",
    "    idx = (exp['time'] - event_ride_comp['time']).dt.total_seconds().abs().idxmin()\n",
    "    e = exp.loc[idx].to_dict()\n",
    "    return agent, l, e"
   ]
  },
  {
   "cell_type": "code",
   "execution_count": 6,
   "id": "12ca07ff-7a1b-4c59-a755-c94a6512a179",
   "metadata": {},
   "outputs": [],
   "source": [
    "agent, l, e = sample_agent(manager, log, exp)"
   ]
  },
  {
   "cell_type": "markdown",
   "id": "f2d999ea-f848-4bb2-b183-8c9371346d10",
   "metadata": {},
   "source": [
    "# Agent State Identification (ride loop exp)"
   ]
  },
  {
   "cell_type": "markdown",
   "id": "f659cdd0-4f11-4e05-bce2-8b7e1e9c3664",
   "metadata": {},
   "source": [
    "for the ride loop agent experience, the total time is broken down into riding the lift, traversing down the mountain and waiting in the queue, i.e. \"time_spent_total\": ride + traverse + queue below:\n",
    "\n",
    "sample a random time within the time range of the simulation:"
   ]
  },
  {
   "cell_type": "code",
   "execution_count": 7,
   "id": "e05a2b69-6b43-4e6a-b371-bb77638925b0",
   "metadata": {},
   "outputs": [],
   "source": [
    "# sample a random timestamp within the agent log timeframe\n",
    "INDEX_TIME = pd.Series(pd.date_range(log['time'].min(), log['time'].max(), freq='1s')).sample().iloc[0]"
   ]
  },
  {
   "cell_type": "code",
   "execution_count": 8,
   "id": "0d482bf4-2d50-4a9f-9f9a-7df9bedd60f4",
   "metadata": {},
   "outputs": [
    {
     "name": "stdout",
     "output_type": "stream",
     "text": [
      "    def add_entry(self, agent, return_event_uuid, dt: datetime, ride: float, traverse: float, \n",
      "                  queue: float) -> None:\n",
      "        self.log[dt] = {\n",
      "            \"exp_id\": str(uuid()), \n",
      "            \"return_event_uuid\": return_event_uuid,\n",
      "            \"agent_uuid\": agent.agent_uuid,\n",
      "            \"agent_uuid_codename\": agent.agent_uuid_codename,\n",
      "            \"time_spent_ride_lift\": ride,\n",
      "            \"time_spent_traverse_down_mountain\": traverse,\n",
      "            \"time_spent_in_queue\": queue,\n",
      "            \"time_spent_total\": ride + traverse + queue,\n",
      "        }\n",
      "\n"
     ]
    }
   ],
   "source": [
    "s = inspect.getsource(AgentRideLoopExperience)\n",
    "lines = s.split('\\n')\n",
    "idx = [i for i,x in enumerate(lines) if x.strip() == '\"\"\"'][-1]\n",
    "print('\\n'.join(lines[idx+1:]))"
   ]
  },
  {
   "cell_type": "markdown",
   "id": "cb6f3f4e-4e86-4fde-8362-a3270ccf8e70",
   "metadata": {},
   "source": [
    "...and we can see in the source code above how `time_spent_total` is constructed. "
   ]
  },
  {
   "cell_type": "code",
   "execution_count": 9,
   "id": "f9e26c10-eb56-4244-81b7-90d0595c4582",
   "metadata": {},
   "outputs": [
    {
     "name": "stdout",
     "output_type": "stream",
     "text": [
      "{'68db6ced-6516-4150-8904-28f8ad57dee9': 'riding_lift'}\n"
     ]
    }
   ],
   "source": [
    "from zero_liftsim.agent_state_id import infer_agent_states\n",
    "\n",
    "# func \n",
    "r = infer_agent_states([agent], INDEX_TIME)\n",
    "\n",
    "i = agent.agent_uuid\n",
    "msg = 'func infer state should return agent uuid'\n",
    "assert i in r, msg\n",
    "print(r)"
   ]
  },
  {
   "cell_type": "markdown",
   "id": "722247e5-41d0-4c84-84e8-778553c2e683",
   "metadata": {},
   "source": [
    "# Sample and Manually Review Examples\n",
    "\n",
    "We need to evaluate how well the simulation is representing the actual constrained behavior that we see in the real world. Simply manually reviewing some examples here helps with that need. "
   ]
  },
  {
   "cell_type": "code",
   "execution_count": 10,
   "id": "da17632c-5928-4d31-bc85-a3171aef7658",
   "metadata": {},
   "outputs": [],
   "source": [
    "def sample_time(log):\n",
    "    return pd.Series(pd.date_range(log['time'].min(), log['time'].max(), freq='1s')).sample().iloc[0]"
   ]
  },
  {
   "cell_type": "code",
   "execution_count": 11,
   "id": "0bfaaf0e-7a6a-4418-a863-0a5468e69c45",
   "metadata": {},
   "outputs": [
    {
     "data": {
      "text/plain": [
       "'in_queue'"
      ]
     },
     "execution_count": 11,
     "metadata": {},
     "output_type": "execute_result"
    }
   ],
   "source": [
    "time = sample_time(log)\n",
    "agent, l, e = sample_agent(manager, log, exp)\n",
    "agent.get_state(time)\n",
    "agent.current_state"
   ]
  },
  {
   "cell_type": "code",
   "execution_count": 13,
   "id": "675b16ba-4db2-49b8-9646-72c41a378710",
   "metadata": {},
   "outputs": [
    {
     "data": {
      "text/plain": [
       "\u001b[0;31mSignature:\u001b[0m \u001b[0magent\u001b[0m\u001b[0;34m.\u001b[0m\u001b[0mtraceback_experience\u001b[0m\u001b[0;34m(\u001b[0m\u001b[0mexperience_id\u001b[0m\u001b[0;34m:\u001b[0m \u001b[0;34m'str'\u001b[0m\u001b[0;34m)\u001b[0m \u001b[0;34m->\u001b[0m \u001b[0;34m'str'\u001b[0m\u001b[0;34m\u001b[0m\u001b[0;34m\u001b[0m\u001b[0m\n",
       "\u001b[0;31mDocstring:\u001b[0m\n",
       "Return a formatted summary for a specific agent experience.\n",
       "\n",
       "Retrieves the experience log matching the given ID and formats it\n",
       "into a human-readable report using a Jinja2 or string template. The\n",
       "report includes the logged metadata and a slice of recent agent\n",
       "activity for context.\n",
       "\n",
       "Parameters\n",
       "----------\n",
       "experience_id : str\n",
       "    Identifier of the experience entry to summarize.\n",
       "\n",
       "Returns\n",
       "-------\n",
       "str\n",
       "    Rendered text describing the experience and context.\n",
       "\n",
       "Raises\n",
       "------\n",
       "KeyError\n",
       "    If no experience matches the provided ID.\n",
       "\u001b[0;31mFile:\u001b[0m      ~/code-repos/zero-lift-simulator/zero_liftsim/agent.py\n",
       "\u001b[0;31mType:\u001b[0m      method"
      ]
     },
     "metadata": {},
     "output_type": "display_data"
    }
   ],
   "source": [
    "?agent.traceback_experience"
   ]
  },
  {
   "cell_type": "code",
   "execution_count": 26,
   "id": "a7eb7854-3bba-479a-820b-442a920e06db",
   "metadata": {},
   "outputs": [
    {
     "data": {
      "text/plain": [
       "0      be65f2ce-f645-4726-9a35-c2e4540309b8\n",
       "1      c20d84a7-bedc-424a-a986-441e1cfbc29b\n",
       "2      6ee67af5-1a7f-4197-abb8-aa95bbc3f896\n",
       "3      384fe3d6-805e-49b0-8430-6ff6bd311d6f\n",
       "4      769b35fc-1da8-4a49-9b40-aa570d339457\n",
       "                       ...                 \n",
       "478    ade4553c-bfa9-40fb-b9cf-30c76575dc20\n",
       "479    bb30f1f9-7913-4294-b0b8-afea99db1edb\n",
       "480    673c8b23-542f-4998-91a2-3ce58e29cbf9\n",
       "481    bb9af382-e1cc-4de7-861a-bd93e02140b5\n",
       "482    53b98aac-c426-4fcf-93d3-e0472c85eaf2\n",
       "Name: exp_id, Length: 483, dtype: object"
      ]
     },
     "execution_count": 26,
     "metadata": {},
     "output_type": "execute_result"
    }
   ],
   "source": [
    "exp['exp_id']"
   ]
  },
  {
   "cell_type": "code",
   "execution_count": null,
   "id": "c32dfbaa-d3b5-4bce-ba27-2d86368cd884",
   "metadata": {},
   "outputs": [],
   "source": []
  },
  {
   "cell_type": "code",
   "execution_count": null,
   "id": "a18b170b-73d7-44bc-a983-b654fd3ccfdd",
   "metadata": {},
   "outputs": [],
   "source": []
  },
  {
   "cell_type": "code",
   "execution_count": null,
   "id": "3dae9458-b7d9-4491-b896-74178fc6e9c2",
   "metadata": {},
   "outputs": [],
   "source": []
  },
  {
   "cell_type": "code",
   "execution_count": null,
   "id": "09082d8d-d28a-4905-ad3f-9871550ab4df",
   "metadata": {},
   "outputs": [],
   "source": []
  },
  {
   "cell_type": "code",
   "execution_count": null,
   "id": "31859605-bdeb-4af8-a4d9-72e1e74d2ada",
   "metadata": {},
   "outputs": [],
   "source": []
  }
 ],
 "metadata": {
  "kernelspec": {
   "display_name": "Python 3 (ipykernel)",
   "language": "python",
   "name": "python3"
  },
  "language_info": {
   "codemirror_mode": {
    "name": "ipython",
    "version": 3
   },
   "file_extension": ".py",
   "mimetype": "text/x-python",
   "name": "python",
   "nbconvert_exporter": "python",
   "pygments_lexer": "ipython3",
   "version": "3.11.8"
  }
 },
 "nbformat": 4,
 "nbformat_minor": 5
}
