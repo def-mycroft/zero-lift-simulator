{
 "cells": [
  {
   "cell_type": "code",
   "execution_count": 1,
   "id": "01b69f92-8043-4f9d-8045-313a0de567bb",
   "metadata": {},
   "outputs": [],
   "source": [
    "%load_ext autoreload\n",
    "%autoreload 2"
   ]
  },
  {
   "cell_type": "code",
   "execution_count": 2,
   "id": "416e239b-bf74-47d5-a70c-ba151f324c65",
   "metadata": {},
   "outputs": [],
   "source": [
    "from zero_helpers.imports import * \n",
    "from zero_liftsim.simmanager import SimulationManager\n",
    "from zero_liftsim.helpers import base_config\n",
    "from zero_liftsim.experience import AgentRideLoopExperience\n",
    "from zero_liftsim.helpers import load_asset_template\n",
    "from zero_liftsim import helpers as hp\n",
    "from zero_liftsim.lift import Lift\n",
    "\n",
    "import inspect"
   ]
  },
  {
   "cell_type": "markdown",
   "id": "1e4f5e7d-b909-4059-b226-198171709472",
   "metadata": {},
   "source": [
    "# Run Simulation"
   ]
  },
  {
   "cell_type": "code",
   "execution_count": 3,
   "id": "62e11d5f-031e-4c14-8de8-b725bb31fd49",
   "metadata": {},
   "outputs": [
    {
     "name": "stdout",
     "output_type": "stream",
     "text": [
      "{'total_rides': 13, 'average_wait': 2.076923076923077, 'agents': [Agent(1) wakeful-prior cfbc28a2-face-4c75-ac43-b35b04c327cf, Agent(2) dynamic-listen dda8b14b-cc1d-4435-88ef-956781310584, Agent(3) fluttering-region eab7798f-ba7f-4dbb-89de-da2dc80f4385]}\n"
     ]
    }
   ],
   "source": [
    "cfg = base_config()\n",
    "cfg[\"SimulationManager\"][\"__init__\"].update({\"n_agents\": 3, \"lift_capacity\": 2})\n",
    "manager = SimulationManager(cfg)\n",
    "result = manager.run(runtime_minutes=60)\n",
    "print(result)"
   ]
  },
  {
   "cell_type": "code",
   "execution_count": 4,
   "id": "a78f7302-113b-4017-b18b-96feb148d9f3",
   "metadata": {},
   "outputs": [
    {
     "data": {
      "text/plain": [
       "50"
      ]
     },
     "execution_count": 4,
     "metadata": {},
     "output_type": "execute_result"
    }
   ],
   "source": [
    "lift = manager.lift\n",
    "lift.total_chairs()"
   ]
  },
  {
   "cell_type": "markdown",
   "id": "c07b3eb9-8e31-4808-9347-4fe4f43337dc",
   "metadata": {},
   "source": [
    "## Retrieve Data from Simulation"
   ]
  },
  {
   "cell_type": "code",
   "execution_count": 5,
   "id": "b008fd77-98be-47ac-84a9-a0d5f3db87a6",
   "metadata": {},
   "outputs": [],
   "source": [
    "# get rideloop explogs and agent event log\n",
    "exp_log_data = manager.retrieve_data()\n",
    "exp = exp_log_data['exp_rideloop']\n",
    "log = exp_log_data['agent_log']"
   ]
  },
  {
   "cell_type": "markdown",
   "id": "2dbff9e8-c7f4-49bf-a1ea-dc8c41cf4caa",
   "metadata": {},
   "source": [
    "## Sample Agent and Get Exp Traceback"
   ]
  },
  {
   "cell_type": "code",
   "execution_count": 6,
   "id": "30e3f530-81ed-4030-83ef-1aca505be7c1",
   "metadata": {},
   "outputs": [],
   "source": [
    "# sample agent and subset exp/log to e/l for agent subset of those\n",
    "m = log['event'] == 'ride_complete'\n",
    "event_ride_comp = log[m].sample().iloc[0].to_dict()\n",
    "agent = manager.lookup_agent(event_ride_comp['agent_uuid'])\n",
    "l = log[log['agent_uuid'] == agent.agent_uuid]\n",
    "idx = (exp['time'] - event_ride_comp['time']).dt.total_seconds().abs().idxmin()\n",
    "e = exp.loc[idx].to_dict()"
   ]
  },
  {
   "cell_type": "code",
   "execution_count": 8,
   "id": "5af4c7fb-b551-4a24-ac66-9babe1868113",
   "metadata": {},
   "outputs": [],
   "source": [
    "x = agent.traceback_experience(e['exp_id'])\n",
    "#print(x)"
   ]
  },
  {
   "cell_type": "markdown",
   "id": "f2d999ea-f848-4bb2-b183-8c9371346d10",
   "metadata": {},
   "source": [
    "# Agent State Identification (ride loop exp)"
   ]
  },
  {
   "cell_type": "code",
   "execution_count": 9,
   "id": "87058a11-e637-4688-bbca-ef154edfc6fd",
   "metadata": {},
   "outputs": [],
   "source": [
    "# get ride loop logs and agent event logs\n",
    "log = manager.retrieve_data()\n",
    "exp = log['exp_rideloop'] # dataframe of all agent rideloop experiences \n",
    "log = log['agent_log'] # combined agent logs (i.e. activity logs for all agents)\n",
    "\n",
    "# sample a random timestamp within the agent log timeframe\n",
    "INDEX_TIME = pd.Series(pd.date_range(log['time'].min(), log['time'].max(), freq='1s')).sample().iloc[0]\n",
    "\n",
    "# sample a random agent from ride loop log\n",
    "row = exp.sample().iloc[0]\n",
    "aid = row['agent_uuid']\n",
    "agent = manager.lookup_agent(aid)\n",
    "\n",
    "# find the nearest time index in the agent log\n",
    "l = log.zero_liftsim.subset_agent_uuid(agent.agent_uuid)\n",
    "e = exp.zero_liftsim.subset_agent_uuid(agent.agent_uuid)\n",
    "idx = l.zero_liftsim.get_nearest_time_index(INDEX_TIME)"
   ]
  },
  {
   "cell_type": "markdown",
   "id": "85387168-ab1a-4a20-b081-b20a0131a59a",
   "metadata": {},
   "source": [
    "for the ride loop agent experience, the total time is broken down into riding the lift, traversing down the mountain and waiting in the queue, i.e. \"time_spent_total\": ride + traverse + queue below:"
   ]
  },
  {
   "cell_type": "code",
   "execution_count": 10,
   "id": "0d482bf4-2d50-4a9f-9f9a-7df9bedd60f4",
   "metadata": {},
   "outputs": [
    {
     "name": "stdout",
     "output_type": "stream",
     "text": [
      "    def add_entry(self, agent, return_event_uuid, dt: datetime, ride: float, traverse: float, \n",
      "                  queue: float) -> None:\n",
      "        self.log[dt] = {\n",
      "            \"exp_id\": str(uuid()), \n",
      "            \"return_event_uuid\": return_event_uuid,\n",
      "            \"agent_uuid\": agent.agent_uuid,\n",
      "            \"agent_uuid_codename\": agent.agent_uuid_codename,\n",
      "            \"time_spent_ride_lift\": ride,\n",
      "            \"time_spent_traverse_down_mountain\": traverse,\n",
      "            \"time_spent_in_queue\": queue,\n",
      "            \"time_spent_total\": ride + traverse + queue,\n",
      "        }\n",
      "\n"
     ]
    }
   ],
   "source": [
    "s = inspect.getsource(AgentRideLoopExperience)\n",
    "lines = s.split('\\n')\n",
    "idx = [i for i,x in enumerate(lines) if x.strip() == '\"\"\"'][-1]\n",
    "print('\\n'.join(lines[idx+1:]))"
   ]
  },
  {
   "cell_type": "code",
   "execution_count": null,
   "id": "08c148dc-4405-4aca-a4bf-34996b2e68f2",
   "metadata": {},
   "outputs": [],
   "source": []
  },
  {
   "cell_type": "code",
   "execution_count": null,
   "id": "d91d75e2-54f9-4683-97a2-2fec9c83da84",
   "metadata": {},
   "outputs": [],
   "source": []
  }
 ],
 "metadata": {
  "kernelspec": {
   "display_name": "Python 3 (ipykernel)",
   "language": "python",
   "name": "python3"
  },
  "language_info": {
   "codemirror_mode": {
    "name": "ipython",
    "version": 3
   },
   "file_extension": ".py",
   "mimetype": "text/x-python",
   "name": "python",
   "nbconvert_exporter": "python",
   "pygments_lexer": "ipython3",
   "version": "3.11.8"
  }
 },
 "nbformat": 4,
 "nbformat_minor": 5
}
