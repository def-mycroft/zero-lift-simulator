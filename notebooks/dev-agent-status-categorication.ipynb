{
 "cells": [
  {
   "cell_type": "code",
   "execution_count": 2,
   "id": "632ffd6e-cfe9-4956-ba06-1607bb419b20",
   "metadata": {},
   "outputs": [
    {
     "name": "stdout",
     "output_type": "stream",
     "text": [
      "The autoreload extension is already loaded. To reload it, use:\n",
      "  %reload_ext autoreload\n"
     ]
    }
   ],
   "source": [
    "%load_ext autoreload\n",
    "%autoreload 2"
   ]
  },
  {
   "cell_type": "code",
   "execution_count": 5,
   "id": "f2e92156-dd86-473f-861d-d7f4188470ce",
   "metadata": {},
   "outputs": [
    {
     "data": {
      "text/plain": [
       "Agent(16) psychotic-fail 364535ed-ec10-499e-91c8-349083e2ab41"
      ]
     },
     "execution_count": 5,
     "metadata": {},
     "output_type": "execute_result"
    }
   ],
   "source": [
    "from zero_helpers.imports import * \n",
    "from zero_liftsim.simmanager import SimulationManager\n",
    "from zero_liftsim.helpers import base_config\n",
    "from zero_liftsim.experience import AgentRideLoopExperience\n",
    "from zero_liftsim.helpers import load_asset_template\n",
    "from zero_liftsim import helpers as hp\n",
    "from zero_liftsim.lift import Lift\n",
    "\n",
    "import inspect\n",
    "\n",
    "cfg = base_config()\n",
    "cfg[\"SimulationManager\"][\"__init__\"].update({\"n_agents\": 25, \"lift_capacity\": 4})\n",
    "cfg['Lift']['num_chairs'] = 35\n",
    "\n",
    "manager = SimulationManager(cfg)\n",
    "result = manager.run(runtime_minutes=60*4)\n",
    "\n",
    "# get rideloop explogs and agent event log\n",
    "exp_log_data = manager.retrieve_data()\n",
    "exp = exp_log_data['exp_rideloop']\n",
    "log = exp_log_data['agent_log']\n",
    "\n",
    "# sample an agent \n",
    "agent = manager.sample_agent()\n",
    "INDEX_TIME = agent.get_activity_log_df()['time'].sample().iloc[0]\n",
    "# this is the agent state @ time as self-determined (based on own logs, self.activity_log via self.get_latest_event)\n",
    "state_gotten = agent.get_state(INDEX_TIME) \n",
    "agent"
   ]
  },
  {
   "cell_type": "code",
   "execution_count": null,
   "id": "b657d14b-8cd7-4b8f-846e-089803061cb9",
   "metadata": {},
   "outputs": [],
   "source": []
  },
  {
   "cell_type": "code",
   "execution_count": null,
   "id": "89db52e5-159a-4b16-94a3-9c61d6a3b4d2",
   "metadata": {},
   "outputs": [],
   "source": []
  },
  {
   "cell_type": "code",
   "execution_count": null,
   "id": "b43d8193-fc2c-4569-8bde-fce285a112a7",
   "metadata": {},
   "outputs": [],
   "source": []
  },
  {
   "cell_type": "code",
   "execution_count": null,
   "id": "026088e0-b16c-47f3-a1fd-e59b296dd7ca",
   "metadata": {},
   "outputs": [],
   "source": []
  },
  {
   "cell_type": "markdown",
   "id": "6a2a4864-8726-49b7-b4ed-ede47ca0513d",
   "metadata": {},
   "source": [
    "# Scratchpad (real)"
   ]
  },
  {
   "cell_type": "code",
   "execution_count": 6,
   "id": "b6801c67-3668-44bd-bb1e-67a5d6687cda",
   "metadata": {},
   "outputs": [
    {
     "ename": "Exception",
     "evalue": "",
     "output_type": "error",
     "traceback": [
      "\u001b[0;31m---------------------------------------------------------------------------\u001b[0m",
      "\u001b[0;31mException\u001b[0m                                 Traceback (most recent call last)",
      "Cell \u001b[0;32mIn[6], line 1\u001b[0m\n\u001b[0;32m----> 1\u001b[0m \u001b[38;5;28;01mraise\u001b[39;00m \u001b[38;5;167;01mException\u001b[39;00m()\n",
      "\u001b[0;31mException\u001b[0m: "
     ]
    }
   ],
   "source": [
    "raise Exception()"
   ]
  },
  {
   "cell_type": "code",
   "execution_count": null,
   "id": "a6541ec6-d287-40b4-a118-5ae1fd526279",
   "metadata": {},
   "outputs": [],
   "source": []
  },
  {
   "cell_type": "code",
   "execution_count": null,
   "id": "ab8f7d08-de00-43c0-9884-8c85e86d22b7",
   "metadata": {},
   "outputs": [],
   "source": []
  },
  {
   "cell_type": "code",
   "execution_count": null,
   "id": "91176580-84ed-4765-af83-77bd6ee6160f",
   "metadata": {},
   "outputs": [],
   "source": []
  },
  {
   "cell_type": "code",
   "execution_count": 24,
   "id": "664bae8f-7df3-4c99-a536-6c0ef78d8863",
   "metadata": {},
   "outputs": [
    {
     "name": "stdout",
     "output_type": "stream",
     "text": [
      "# Experience Log \n",
      "\n",
      "*** \n",
      "\n",
      "A simulation of a ski lift queue has been ran. the lift has been operated from \n",
      "time `t` to time `t_{n}`. a time, sample_time=\"\"\n",
      "\n",
      "below are some parameters related to this simulation: \n",
      "\n",
      "exp_id: 1dbbb0b5-eb57-49a0-a02c-501dffeb4b38\n",
      "agent_uuid: 791b38c3-889b-4962-a27b-d09085d7e4e4\n",
      "return_event_uuid: 4719ac59-b078-4989-96a9-b018ddd2904c\n",
      "simulation uuid: \n",
      "\n",
      "\n",
      "***\n",
      "\n",
      "\n",
      "time_spent_in_queue: 0\n",
      "time_spent_ride_lift: 6.960459961681367\n",
      "time_spent_traverse_down_mountain: 6.361611653869799\n",
      "\n",
      "***\n",
      "\n",
      "# Full Dict\n",
      "\n",
      "{\n",
      "    \"exp_id\": \"1dbbb0b5-eb57-49a0-a02c-501dffeb4b38\",\n",
      "    \"return_event_uuid\": \"4719ac59-b078-4989-96a9-b018ddd2904c\",\n",
      "    \"agent_uuid\": \"791b38c3-889b-4962-a27b-d09085d7e4e4\",\n",
      "    \"agent_uuid_codename\": \"broken-phrase\",\n",
      "    \"time_spent_ride_lift\": 6.960459961681367,\n",
      "    \"time_spent_traverse_down_mountain\": 6.361611653869799,\n",
      "    \"time_spent_in_queue\": 0,\n",
      "    \"time_spent_total\": 13.322071615551167\n",
      "}\n",
      "\n",
      "# Agent Log\n",
      "\n",
      "{\n",
      "    \"ab92341b-c15c-4831-a9db-678d5ec04062\": {\n",
      "        \"return_event_uuid\": \"c0f27734-1a0b-49ad-97da-82bf0e29bad9\",\n",
      "        \"time\": \"2025-03-12T09:40:00\",\n",
      "        \"time_offset\": 40,\n",
      "        \"event\": \"ride_complete\",\n",
      "        \"agent_id\": 1,\n",
      "        \"agent_uuid\": \"791b38c3-889b-4962-a27b-d09085d7e4e4\",\n",
      "        \"agent_uuid_codename\": \"broken-phrase\",\n",
      "        \"wait_time\": 6,\n",
      "        \"wait_time_readable\": \"6 minutes\"\n",
      "    },\n",
      "    \"13a00ca1-6872-485a-bd2a-0bbe0ca007fd\": {\n",
      "        \"return_event_uuid\": \"\",\n",
      "        \"time\": \"2025-03-12T09:44:00\",\n",
      "        \"time_offset\": 44,\n",
      "        \"event\": \"start_wait\",\n",
      "        \"agent_id\": 1,\n",
      "        \"agent_uuid\": \"791b38c3-889b-4962-a27b-d09085d7e4e4\",\n",
      "        \"agent_uuid_codename\": \"broken-phrase\"\n",
      "    },\n",
      "    \"466dae4f-7657-4d9e-ad2b-bd7cec041b5a\": {\n",
      "        \"return_event_uuid\": \"\",\n",
      "        \"time\": \"2025-03-12T09:44:00\",\n",
      "        \"time_offset\": 44,\n",
      "        \"event\": \"arrival\",\n",
      "        \"agent_id\": 1,\n",
      "        \"agent_uuid\": \"791b38c3-889b-4962-a27b-d09085d7e4e4\",\n",
      "        \"agent_uuid_codename\": \"broken-phrase\",\n",
      "        \"queue_length\": 4,\n",
      "        \"lift_state\": \"moving\"\n",
      "    },\n",
      "    \"80a9c730-2620-45b6-8cbb-0bbe7df22be3\": {\n",
      "        \"return_event_uuid\": \"\",\n",
      "        \"time\": \"2025-03-12T09:44:00\",\n",
      "        \"time_offset\": 44,\n",
      "        \"event\": \"board\",\n",
      "        \"agent_id\": 1,\n",
      "        \"agent_uuid\": \"791b38c3-889b-4962-a27b-d09085d7e4e4\",\n",
      "        \"agent_uuid_codename\": \"broken-phrase\",\n",
      "        \"queue_length\": 1,\n",
      "        \"lift_state\": \"moving\"\n",
      "    },\n",
      "    \"3cee676d-923d-45e3-8c9c-9a660d974aa6\": {\n",
      "        \"return_event_uuid\": \"4719ac59-b078-4989-96a9-b018ddd2904c\",\n",
      "        \"time\": \"2025-03-12T09:50:00\",\n",
      "        \"time_offset\": 50,\n",
      "        \"event\": \"ride_complete\",\n",
      "        \"agent_id\": 1,\n",
      "        \"agent_uuid\": \"791b38c3-889b-4962-a27b-d09085d7e4e4\",\n",
      "        \"agent_uuid_codename\": \"broken-phrase\",\n",
      "        \"wait_time\": 6,\n",
      "        \"wait_time_readable\": \"6 minutes\"\n",
      "    }\n",
      "}\n",
      "\n",
      "***\n"
     ]
    }
   ],
   "source": [
    "eid = '1dbbb0b5-eb57-49a0-a02c-501dffeb4b38'\n",
    "print(agent.traceback_experience(eid))"
   ]
  },
  {
   "cell_type": "code",
   "execution_count": 22,
   "id": "a5d92be5-1a80-4606-8173-2a3ac64c001e",
   "metadata": {},
   "outputs": [
    {
     "data": {
      "text/plain": [
       "{datetime.datetime(2025, 3, 12, 9, 7): {'exp_id': '758320f7-60bb-4d64-9639-0ef401db5fb7',\n",
       "  'return_event_uuid': '096d9723-a078-4b0a-ae9c-8a42bf78b560',\n",
       "  'agent_uuid': '791b38c3-889b-4962-a27b-d09085d7e4e4',\n",
       "  'agent_uuid_codename': 'broken-phrase',\n",
       "  'time_spent_ride_lift': 7.501415898520162,\n",
       "  'time_spent_traverse_down_mountain': 5.745277375466008,\n",
       "  'time_spent_in_queue': 0,\n",
       "  'time_spent_total': 13.246693273986171},\n",
       " datetime.datetime(2025, 3, 12, 9, 17): {'exp_id': '45a319b7-952f-49af-9510-ceaffbe9a9ff',\n",
       "  'return_event_uuid': '73a0fe70-c04a-450b-9313-06fdcfb0638c',\n",
       "  'agent_uuid': '791b38c3-889b-4962-a27b-d09085d7e4e4',\n",
       "  'agent_uuid_codename': 'broken-phrase',\n",
       "  'time_spent_ride_lift': 5.783632339366831,\n",
       "  'time_spent_traverse_down_mountain': 3.9078001476492736,\n",
       "  'time_spent_in_queue': 0,\n",
       "  'time_spent_total': 9.691432487016105},\n",
       " datetime.datetime(2025, 3, 12, 9, 29): {'exp_id': 'dd3fc0d3-5866-44f1-bf0c-24c4e2dad640',\n",
       "  'return_event_uuid': '5b81d735-f50d-4faa-89f1-c7bc860334fe',\n",
       "  'agent_uuid': '791b38c3-889b-4962-a27b-d09085d7e4e4',\n",
       "  'agent_uuid_codename': 'broken-phrase',\n",
       "  'time_spent_ride_lift': 8.08932913625208,\n",
       "  'time_spent_traverse_down_mountain': 5.104637032402089,\n",
       "  'time_spent_in_queue': 1,\n",
       "  'time_spent_total': 14.193966168654168},\n",
       " datetime.datetime(2025, 3, 12, 9, 40): {'exp_id': '3474004e-e604-4744-ba03-f3469fb02a5b',\n",
       "  'return_event_uuid': 'c0f27734-1a0b-49ad-97da-82bf0e29bad9',\n",
       "  'agent_uuid': '791b38c3-889b-4962-a27b-d09085d7e4e4',\n",
       "  'agent_uuid_codename': 'broken-phrase',\n",
       "  'time_spent_ride_lift': 6.217030260396243,\n",
       "  'time_spent_traverse_down_mountain': 4.707785461116074,\n",
       "  'time_spent_in_queue': 0,\n",
       "  'time_spent_total': 10.924815721512317},\n",
       " datetime.datetime(2025, 3, 12, 9, 50): {'exp_id': '1dbbb0b5-eb57-49a0-a02c-501dffeb4b38',\n",
       "  'return_event_uuid': '4719ac59-b078-4989-96a9-b018ddd2904c',\n",
       "  'agent_uuid': '791b38c3-889b-4962-a27b-d09085d7e4e4',\n",
       "  'agent_uuid_codename': 'broken-phrase',\n",
       "  'time_spent_ride_lift': 6.960459961681367,\n",
       "  'time_spent_traverse_down_mountain': 6.361611653869799,\n",
       "  'time_spent_in_queue': 0,\n",
       "  'time_spent_total': 13.322071615551167},\n",
       " datetime.datetime(2025, 3, 12, 10, 2): {'exp_id': 'b963caa1-5894-4b59-af9f-456329c12115',\n",
       "  'return_event_uuid': '56c50a56-967b-4e6f-a045-16c34db02e1d',\n",
       "  'agent_uuid': '791b38c3-889b-4962-a27b-d09085d7e4e4',\n",
       "  'agent_uuid_codename': 'broken-phrase',\n",
       "  'time_spent_ride_lift': 5.148990795405654,\n",
       "  'time_spent_traverse_down_mountain': 5.902919031619859,\n",
       "  'time_spent_in_queue': 1,\n",
       "  'time_spent_total': 12.051909827025513},\n",
       " datetime.datetime(2025, 3, 12, 10, 15): {'exp_id': '0cc52199-cce9-44ca-8741-3196d105ca8f',\n",
       "  'return_event_uuid': 'f24f9fc2-10ae-439f-ab0b-1f6bef1ea184',\n",
       "  'agent_uuid': '791b38c3-889b-4962-a27b-d09085d7e4e4',\n",
       "  'agent_uuid_codename': 'broken-phrase',\n",
       "  'time_spent_ride_lift': 6.631818249099528,\n",
       "  'time_spent_traverse_down_mountain': 2.0385097900215574,\n",
       "  'time_spent_in_queue': 2,\n",
       "  'time_spent_total': 10.670328039121085},\n",
       " datetime.datetime(2025, 3, 12, 10, 25): {'exp_id': '1fb19bec-6ee9-4745-a2ea-c9789d750f26',\n",
       "  'return_event_uuid': '8adffc5a-14b9-4c04-bb8b-dbfed43fdc80',\n",
       "  'agent_uuid': '791b38c3-889b-4962-a27b-d09085d7e4e4',\n",
       "  'agent_uuid_codename': 'broken-phrase',\n",
       "  'time_spent_ride_lift': 8.532040705263546,\n",
       "  'time_spent_traverse_down_mountain': 5.704123778913442,\n",
       "  'time_spent_in_queue': 0,\n",
       "  'time_spent_total': 14.236164484176989},\n",
       " datetime.datetime(2025, 3, 12, 10, 38): {'exp_id': '318fbf1d-1492-41aa-8195-a85cbd0a3a39',\n",
       "  'return_event_uuid': 'bbd5b52d-4148-4616-8baa-fa0253c64e5d',\n",
       "  'agent_uuid': '791b38c3-889b-4962-a27b-d09085d7e4e4',\n",
       "  'agent_uuid_codename': 'broken-phrase',\n",
       "  'time_spent_ride_lift': 7.716370548358992,\n",
       "  'time_spent_traverse_down_mountain': 4.972133436729908,\n",
       "  'time_spent_in_queue': 1,\n",
       "  'time_spent_total': 13.6885039850889},\n",
       " datetime.datetime(2025, 3, 12, 10, 51): {'exp_id': '9481b9b7-32d9-4a94-82da-5ffdddcc70c4',\n",
       "  'return_event_uuid': '18e97b99-fd23-4241-8aeb-54faac7781bb',\n",
       "  'agent_uuid': '791b38c3-889b-4962-a27b-d09085d7e4e4',\n",
       "  'agent_uuid_codename': 'broken-phrase',\n",
       "  'time_spent_ride_lift': 7.848499373091168,\n",
       "  'time_spent_traverse_down_mountain': 4.172708994086228,\n",
       "  'time_spent_in_queue': 2,\n",
       "  'time_spent_total': 14.021208367177396},\n",
       " datetime.datetime(2025, 3, 12, 11, 5): {'exp_id': 'ecc7b996-777d-4ff6-b132-4c971bd95752',\n",
       "  'return_event_uuid': '8e5a026e-24c2-4e9a-bed6-4167a46ced11',\n",
       "  'agent_uuid': '791b38c3-889b-4962-a27b-d09085d7e4e4',\n",
       "  'agent_uuid_codename': 'broken-phrase',\n",
       "  'time_spent_ride_lift': 8.05080185097916,\n",
       "  'time_spent_traverse_down_mountain': 5.417023343164922,\n",
       "  'time_spent_in_queue': 2,\n",
       "  'time_spent_total': 15.467825194144083},\n",
       " datetime.datetime(2025, 3, 12, 11, 17): {'exp_id': '42d919fd-79c4-46d6-90e1-c7aa02358fbe',\n",
       "  'return_event_uuid': 'f22c3e74-5b14-46e8-bccd-628cadf0a629',\n",
       "  'agent_uuid': '791b38c3-889b-4962-a27b-d09085d7e4e4',\n",
       "  'agent_uuid_codename': 'broken-phrase',\n",
       "  'time_spent_ride_lift': 6.012627987181714,\n",
       "  'time_spent_traverse_down_mountain': 6.364202013908923,\n",
       "  'time_spent_in_queue': 1,\n",
       "  'time_spent_total': 13.376830001090637},\n",
       " datetime.datetime(2025, 3, 12, 11, 29): {'exp_id': 'd46e97d2-ab6c-447e-b91b-d7657b6b23d4',\n",
       "  'return_event_uuid': '331e2973-dba6-4a3f-89cc-161eac38dab3',\n",
       "  'agent_uuid': '791b38c3-889b-4962-a27b-d09085d7e4e4',\n",
       "  'agent_uuid_codename': 'broken-phrase',\n",
       "  'time_spent_ride_lift': 4.290095667150256,\n",
       "  'time_spent_traverse_down_mountain': 4.615324209908147,\n",
       "  'time_spent_in_queue': 2,\n",
       "  'time_spent_total': 10.905419877058403},\n",
       " datetime.datetime(2025, 3, 12, 11, 41): {'exp_id': 'eaf923e9-8140-47cc-a979-21d063454e95',\n",
       "  'return_event_uuid': '12f6f235-bcf5-4a6e-8b68-3884a7b8c2d8',\n",
       "  'agent_uuid': '791b38c3-889b-4962-a27b-d09085d7e4e4',\n",
       "  'agent_uuid_codename': 'broken-phrase',\n",
       "  'time_spent_ride_lift': 7.6401895756069536,\n",
       "  'time_spent_traverse_down_mountain': 6.049943857917954,\n",
       "  'time_spent_in_queue': 1,\n",
       "  'time_spent_total': 14.690133433524908},\n",
       " datetime.datetime(2025, 3, 12, 11, 53): {'exp_id': '9ab95a39-90c5-4605-b7ff-40e9733c1777',\n",
       "  'return_event_uuid': '80e9914c-7b86-4937-9c61-3a6273298117',\n",
       "  'agent_uuid': '791b38c3-889b-4962-a27b-d09085d7e4e4',\n",
       "  'agent_uuid_codename': 'broken-phrase',\n",
       "  'time_spent_ride_lift': 5.870965906181497,\n",
       "  'time_spent_traverse_down_mountain': 3.319281548575606,\n",
       "  'time_spent_in_queue': 1,\n",
       "  'time_spent_total': 10.190247454757102},\n",
       " datetime.datetime(2025, 3, 12, 12, 1): {'exp_id': '6a08cd55-b456-450f-9806-39eeda507e5c',\n",
       "  'return_event_uuid': 'ab3fcff9-48d1-42b7-812b-3f1e6539ca18',\n",
       "  'agent_uuid': '791b38c3-889b-4962-a27b-d09085d7e4e4',\n",
       "  'agent_uuid_codename': 'broken-phrase',\n",
       "  'time_spent_ride_lift': 5.941136887225094,\n",
       "  'time_spent_traverse_down_mountain': 3.6962419156049098,\n",
       "  'time_spent_in_queue': 0,\n",
       "  'time_spent_total': 9.637378802830003},\n",
       " datetime.datetime(2025, 3, 12, 12, 12): {'exp_id': 'c406939e-5857-436b-9d94-2d91b3a9c4be',\n",
       "  'return_event_uuid': 'aefc0739-4d29-4a55-9bd0-04a146646db9',\n",
       "  'agent_uuid': '791b38c3-889b-4962-a27b-d09085d7e4e4',\n",
       "  'agent_uuid_codename': 'broken-phrase',\n",
       "  'time_spent_ride_lift': 7.099719290861846,\n",
       "  'time_spent_traverse_down_mountain': 7.643702697662587,\n",
       "  'time_spent_in_queue': 1,\n",
       "  'time_spent_total': 15.743421988524432},\n",
       " datetime.datetime(2025, 3, 12, 12, 26): {'exp_id': '9e084c3b-9a90-4287-9e3d-3e1bca205aa1',\n",
       "  'return_event_uuid': '0afa937e-0257-49b3-b5c0-7845fa0d8786',\n",
       "  'agent_uuid': '791b38c3-889b-4962-a27b-d09085d7e4e4',\n",
       "  'agent_uuid_codename': 'broken-phrase',\n",
       "  'time_spent_ride_lift': 6.660698345801027,\n",
       "  'time_spent_traverse_down_mountain': 4.626597963008829,\n",
       "  'time_spent_in_queue': 1,\n",
       "  'time_spent_total': 12.287296308809857},\n",
       " datetime.datetime(2025, 3, 12, 12, 37): {'exp_id': 'a4acf91b-f133-45a8-a3c8-915d7c33daaa',\n",
       "  'return_event_uuid': '40dc3cc6-ef5e-49ab-977e-3d8663f16443',\n",
       "  'agent_uuid': '791b38c3-889b-4962-a27b-d09085d7e4e4',\n",
       "  'agent_uuid_codename': 'broken-phrase',\n",
       "  'time_spent_ride_lift': 7.571581784556015,\n",
       "  'time_spent_traverse_down_mountain': 6.801556973632984,\n",
       "  'time_spent_in_queue': 0,\n",
       "  'time_spent_total': 14.373138758188999},\n",
       " datetime.datetime(2025, 3, 12, 12, 50): {'exp_id': '14b5f7f2-e8a1-4309-8a6b-b241bf385d5e',\n",
       "  'return_event_uuid': '81acabd3-1d07-4194-9523-19dd625066b2',\n",
       "  'agent_uuid': '791b38c3-889b-4962-a27b-d09085d7e4e4',\n",
       "  'agent_uuid_codename': 'broken-phrase',\n",
       "  'time_spent_ride_lift': 7.397955594569307,\n",
       "  'time_spent_traverse_down_mountain': 5.613396932049719,\n",
       "  'time_spent_in_queue': 0,\n",
       "  'time_spent_total': 13.011352526619026}}"
      ]
     },
     "execution_count": 22,
     "metadata": {},
     "output_type": "execute_result"
    }
   ],
   "source": [
    "agent.experience_rideloop.log"
   ]
  },
  {
   "cell_type": "code",
   "execution_count": null,
   "id": "0d6776e8-e193-44cd-98df-5c78ad714b78",
   "metadata": {},
   "outputs": [],
   "source": []
  },
  {
   "cell_type": "code",
   "execution_count": null,
   "id": "43520462-cd5f-4ce4-b621-42b8cbdafa55",
   "metadata": {},
   "outputs": [],
   "source": []
  },
  {
   "cell_type": "code",
   "execution_count": null,
   "id": "8243ccd2-40a2-49e6-868e-47b695a1ddd5",
   "metadata": {},
   "outputs": [],
   "source": []
  },
  {
   "cell_type": "code",
   "execution_count": null,
   "id": "3d244e74-b451-4f1c-a11d-920d908815db",
   "metadata": {},
   "outputs": [],
   "source": []
  },
  {
   "cell_type": "code",
   "execution_count": null,
   "id": "c66033bb-0fc1-42a0-8b1a-a6d53702a0e9",
   "metadata": {},
   "outputs": [],
   "source": []
  },
  {
   "cell_type": "code",
   "execution_count": null,
   "id": "80cd5e66-2c8e-41da-8506-7d64514c616e",
   "metadata": {},
   "outputs": [],
   "source": []
  },
  {
   "cell_type": "code",
   "execution_count": null,
   "id": "412ba951-7a30-4b35-8bcf-5271e586ad5f",
   "metadata": {},
   "outputs": [],
   "source": []
  },
  {
   "cell_type": "markdown",
   "id": "f8f9096f-4ff7-4efb-879c-6aea51a2c840",
   "metadata": {},
   "source": [
    "# Scratchpad"
   ]
  },
  {
   "cell_type": "code",
   "execution_count": null,
   "id": "e490e733-d7ee-4a8c-bd1c-535edbfd0cf0",
   "metadata": {},
   "outputs": [],
   "source": [
    "raise Exception()"
   ]
  },
  {
   "cell_type": "code",
   "execution_count": null,
   "id": "99545656-fbaf-44fd-9326-403d5de36d3c",
   "metadata": {},
   "outputs": [],
   "source": []
  },
  {
   "cell_type": "markdown",
   "id": "9482c853-ba0c-4102-b272-32fd681ccf88",
   "metadata": {},
   "source": [
    "# Agent State Identification (ride loop exp)"
   ]
  },
  {
   "cell_type": "markdown",
   "id": "7c40dd69-4bc6-4ea1-a525-8c5482d76c46",
   "metadata": {},
   "source": [
    "for the ride loop agent experience, the total time is broken down into riding the lift, traversing down the mountain and waiting in the queue, i.e. \"time_spent_total\": ride + traverse + queue below:\n",
    "\n",
    "sample a random time within the time range of the simulation:"
   ]
  },
  {
   "cell_type": "code",
   "execution_count": null,
   "id": "e05a2b69-6b43-4e6a-b371-bb77638925b0",
   "metadata": {},
   "outputs": [],
   "source": [
    "# sample a random timestamp within the agent log timeframe\n",
    "INDEX_TIME = pd.Series(pd.date_range(log['time'].min(), log['time'].max(), freq='1s')).sample().iloc[0]"
   ]
  },
  {
   "cell_type": "code",
   "execution_count": null,
   "id": "0d482bf4-2d50-4a9f-9f9a-7df9bedd60f4",
   "metadata": {},
   "outputs": [],
   "source": [
    "s = inspect.getsource(AgentRideLoopExperience)\n",
    "lines = s.split('\\n')\n",
    "idx = [i for i,x in enumerate(lines) if x.strip() == '\"\"\"'][-1]\n",
    "print('\\n'.join(lines[idx+1:]))"
   ]
  },
  {
   "cell_type": "markdown",
   "id": "0f805f46-7ee8-41e4-b696-8d653b98efc9",
   "metadata": {},
   "source": [
    "...and we can see in the source code above how `time_spent_total` is constructed. "
   ]
  },
  {
   "cell_type": "code",
   "execution_count": null,
   "id": "f9e26c10-eb56-4244-81b7-90d0595c4582",
   "metadata": {},
   "outputs": [],
   "source": [
    "from zero_liftsim.agent_state_id import infer_agent_states\n",
    "\n",
    "# func \n",
    "r = infer_agent_states([agent], INDEX_TIME)\n",
    "\n",
    "i = agent.agent_uuid\n",
    "msg = 'func infer state should return agent uuid'\n",
    "assert i in r, msg\n",
    "print(r)"
   ]
  },
  {
   "cell_type": "markdown",
   "id": "e6184dc0-b6fa-4389-a149-a921478d2ef6",
   "metadata": {},
   "source": [
    "# Sample and Manually Review Examples\n",
    "\n",
    "We need to evaluate how well the simulation is representing the actual constrained behavior that we see in the real world. Simply manually reviewing some examples here helps with that need. "
   ]
  },
  {
   "cell_type": "code",
   "execution_count": null,
   "id": "da17632c-5928-4d31-bc85-a3171aef7658",
   "metadata": {},
   "outputs": [],
   "source": [
    "def sample_time(log):\n",
    "    return pd.Series(pd.date_range(log['time'].min(), log['time'].max(), freq='1s')).sample().iloc[0]"
   ]
  },
  {
   "cell_type": "code",
   "execution_count": null,
   "id": "ecaea386-10e9-458a-8f11-ce2b5934d299",
   "metadata": {},
   "outputs": [],
   "source": [
    "time = sample_time(log)\n",
    "agent, l, e = sample_agent(manager, log, exp)\n",
    "agent.get_state(time)\n",
    "agent.current_state\n",
    "\n",
    "x = agent.traceback_experience(e['exp_id'])\n",
    "print(x)"
   ]
  },
  {
   "cell_type": "code",
   "execution_count": null,
   "id": "c32dfbaa-d3b5-4bce-ba27-2d86368cd884",
   "metadata": {},
   "outputs": [],
   "source": []
  },
  {
   "cell_type": "code",
   "execution_count": null,
   "id": "a18b170b-73d7-44bc-a983-b654fd3ccfdd",
   "metadata": {},
   "outputs": [],
   "source": []
  },
  {
   "cell_type": "code",
   "execution_count": null,
   "id": "3dae9458-b7d9-4491-b896-74178fc6e9c2",
   "metadata": {},
   "outputs": [],
   "source": []
  },
  {
   "cell_type": "code",
   "execution_count": null,
   "id": "09082d8d-d28a-4905-ad3f-9871550ab4df",
   "metadata": {},
   "outputs": [],
   "source": []
  },
  {
   "cell_type": "code",
   "execution_count": null,
   "id": "31859605-bdeb-4af8-a4d9-72e1e74d2ada",
   "metadata": {},
   "outputs": [],
   "source": []
  },
  {
   "cell_type": "code",
   "execution_count": null,
   "id": "59f8e263-c215-44df-b18f-c2478bfc35e1",
   "metadata": {},
   "outputs": [],
   "source": []
  }
 ],
 "metadata": {
  "kernelspec": {
   "display_name": "Python 3 (ipykernel)",
   "language": "python",
   "name": "python3"
  },
  "language_info": {
   "codemirror_mode": {
    "name": "ipython",
    "version": 3
   },
   "file_extension": ".py",
   "mimetype": "text/x-python",
   "name": "python",
   "nbconvert_exporter": "python",
   "pygments_lexer": "ipython3",
   "version": "3.11.8"
  }
 },
 "nbformat": 4,
 "nbformat_minor": 5
}
