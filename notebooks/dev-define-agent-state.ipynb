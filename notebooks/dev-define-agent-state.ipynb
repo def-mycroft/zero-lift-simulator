{
 "cells": [
  {
   "cell_type": "code",
   "execution_count": 1,
   "id": "01b69f92-8043-4f9d-8045-313a0de567bb",
   "metadata": {},
   "outputs": [],
   "source": [
    "%load_ext autoreload\n",
    "%autoreload 2"
   ]
  },
  {
   "cell_type": "code",
   "execution_count": 2,
   "id": "55a6fee9-9370-4de3-9016-c028a6dfddbb",
   "metadata": {},
   "outputs": [],
   "source": [
    "from zero_helpers.imports import * "
   ]
  },
  {
   "cell_type": "code",
   "execution_count": 3,
   "id": "baaae9a1-2ec8-4b6b-91d8-fa6cfbe6c8e6",
   "metadata": {},
   "outputs": [],
   "source": [
    "from zero_liftsim.simmanager import SimulationManager\n",
    "from zero_liftsim.helpers import load_asset_template"
   ]
  },
  {
   "cell_type": "markdown",
   "id": "1e4f5e7d-b909-4059-b226-198171709472",
   "metadata": {},
   "source": [
    "# Run Simulation"
   ]
  },
  {
   "cell_type": "code",
   "execution_count": 4,
   "id": "d0236d85-7235-4ce4-bc75-c65a65df1d44",
   "metadata": {},
   "outputs": [
    {
     "name": "stdout",
     "output_type": "stream",
     "text": [
      "{'total_rides': 328, 'average_wait': 1.5335365853658536, 'agents': [Agent(1) possessive-road 1efaff12-02e7-44c6-89f4-c6b87223dc50, Agent(2) measly-moment 1df76736-99b4-4a63-8eef-a0fd133270d6, Agent(3) ashamed-brain fe5f6ff1-2427-4145-a598-72e68429bcd8, Agent(4) shut-article 49d6a861-5fc6-4c84-a270-ef1d28e7eeb7, Agent(5) abandoned-raw f6116f4a-8850-4346-88cb-95f987a0a4e6, Agent(6) exuberant-carpet 46cb101d-2ad3-49dc-8da0-8b28cbb80440, Agent(7) subdued-committee d0c0057b-2f4a-44b7-a8e1-a8821ea63ee2, Agent(8) makeshift-meat 3360bbdc-6f78-46ce-ae94-f98da8465c17, Agent(9) material-back 25cbc595-4a69-4ba6-bf67-abfe2e3810ac, Agent(10) unbiased-log a00c60b7-910f-4f96-aac7-139e99bdf749]}\n"
     ]
    }
   ],
   "source": [
    "# setup and run simulation\n",
    "manager = SimulationManager(\n",
    "    n_agents=10,\n",
    "    lift_capacity=2,\n",
    ")\n",
    "result = manager.run()\n",
    "print(result)"
   ]
  },
  {
   "cell_type": "code",
   "execution_count": 5,
   "id": "a78f7302-113b-4017-b18b-96feb148d9f3",
   "metadata": {},
   "outputs": [
    {
     "data": {
      "text/plain": [
       "50"
      ]
     },
     "execution_count": 5,
     "metadata": {},
     "output_type": "execute_result"
    }
   ],
   "source": [
    "lift = manager.lift\n",
    "lift.total_chairs()"
   ]
  },
  {
   "cell_type": "markdown",
   "id": "c07b3eb9-8e31-4808-9347-4fe4f43337dc",
   "metadata": {},
   "source": [
    "## Retrieve Data from Simulation"
   ]
  },
  {
   "cell_type": "code",
   "execution_count": 6,
   "id": "b008fd77-98be-47ac-84a9-a0d5f3db87a6",
   "metadata": {},
   "outputs": [],
   "source": [
    "# get rideloop explogs and agent event log\n",
    "exp_log_data = manager.retrieve_data()\n",
    "e = exp_log_data['exp_rideloop']\n",
    "l = exp_log_data['agent_log']"
   ]
  },
  {
   "cell_type": "markdown",
   "id": "2dbff9e8-c7f4-49bf-a1ea-dc8c41cf4caa",
   "metadata": {},
   "source": [
    "# Identify Agent State"
   ]
  },
  {
   "cell_type": "code",
   "execution_count": 21,
   "id": "95bd826c-9c76-4e23-a7d5-c0c8b55d9b8b",
   "metadata": {},
   "outputs": [
    {
     "data": {
      "text/plain": [
       "np.int64(11)"
      ]
     },
     "execution_count": 21,
     "metadata": {},
     "output_type": "execute_result"
    }
   ],
   "source": [
    "# get ride loop logs and agent event logs\n",
    "log = manager.retrieve_data()\n",
    "rlog = log['exp_rideloop'] # dataframe of all agent rideloop experiences \n",
    "alog = log['agent_log'] # combined agent logs (i.e. activity logs for all agents)\n",
    "\n",
    "# sample a random timestamp within the agent log timeframe\n",
    "INDEX_TIME = pd.Series(pd.date_range(alog['time'].min(), alog['time'].max(), freq='1s')).sample().iloc[0]\n",
    "\n",
    "# sample a random agent from ride loop log\n",
    "row = rlog.sample().iloc[0]\n",
    "aid = row['agent_uuid']\n",
    "agent = manager.lookup_agent(aid)\n",
    "\n",
    "# find the nearest time index in the agent log\n",
    "l = alog.zero_liftsim.subset_agent_uuid(agent.agent_uuid)\n",
    "e = rlog.zero_liftsim.subset_agent_uuid(agent.agent_uuid)\n",
    "idx = l.zero_liftsim.get_nearest_time_index(INDEX_TIME)\n",
    "idx"
   ]
  },
  {
   "cell_type": "code",
   "execution_count": 22,
   "id": "02a704a9-bcf5-4939-b98d-60970eb028c7",
   "metadata": {},
   "outputs": [
    {
     "data": {
      "text/plain": [
       "Index(['time', 'exp_id', 'return_event_uuid', 'agent_uuid',\n",
       "       'agent_uuid_codename', 'time_spent_ride_lift',\n",
       "       'time_spent_traverse_down_mountain', 'time_spent_in_queue',\n",
       "       'time_spent_total'],\n",
       "      dtype='object')"
      ]
     },
     "execution_count": 22,
     "metadata": {},
     "output_type": "execute_result"
    }
   ],
   "source": [
    "e.columns"
   ]
  },
  {
   "cell_type": "code",
   "execution_count": 17,
   "id": "05fd73c7-565b-4195-8847-73e69132ec24",
   "metadata": {},
   "outputs": [
    {
     "data": {
      "text/plain": [
       "Index(['return_event_uuid', 'time', 'time_offset', 'event', 'agent_id',\n",
       "       'agent_uuid', 'agent_uuid_codename', 'queue_length', 'lift_state',\n",
       "       'wait_time', 'wait_time_readable'],\n",
       "      dtype='object')"
      ]
     },
     "execution_count": 17,
     "metadata": {},
     "output_type": "execute_result"
    }
   ],
   "source": [
    "l.columns"
   ]
  },
  {
   "cell_type": "code",
   "execution_count": null,
   "id": "8b0578f1-1c15-4bea-8d5a-609a85864bc7",
   "metadata": {},
   "outputs": [],
   "source": []
  },
  {
   "cell_type": "code",
   "execution_count": null,
   "id": "d01b04f1-332b-46c2-a278-e9e8740254fa",
   "metadata": {},
   "outputs": [],
   "source": []
  },
  {
   "cell_type": "code",
   "execution_count": null,
   "id": "4f2e472c-43b9-4c38-81af-6ddbfdc6b745",
   "metadata": {},
   "outputs": [],
   "source": []
  },
  {
   "cell_type": "code",
   "execution_count": null,
   "id": "6d6c0a55-15d4-4c2b-a6db-dfbd8c7b0244",
   "metadata": {},
   "outputs": [],
   "source": []
  },
  {
   "cell_type": "code",
   "execution_count": null,
   "id": "7d3e3111-d7db-4b23-b220-42459a146f08",
   "metadata": {},
   "outputs": [],
   "source": []
  },
  {
   "cell_type": "code",
   "execution_count": null,
   "id": "a1070f77-8097-42ee-9a50-3c5f249d3f4d",
   "metadata": {},
   "outputs": [],
   "source": []
  }
 ],
 "metadata": {
  "kernelspec": {
   "display_name": "Python 3 (ipykernel)",
   "language": "python",
   "name": "python3"
  },
  "language_info": {
   "codemirror_mode": {
    "name": "ipython",
    "version": 3
   },
   "file_extension": ".py",
   "mimetype": "text/x-python",
   "name": "python",
   "nbconvert_exporter": "python",
   "pygments_lexer": "ipython3",
   "version": "3.11.8"
  }
 },
 "nbformat": 4,
 "nbformat_minor": 5
}
