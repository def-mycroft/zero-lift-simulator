{
 "cells": [
  {
   "cell_type": "code",
   "execution_count": 1,
   "id": "01b69f92-8043-4f9d-8045-313a0de567bb",
   "metadata": {},
   "outputs": [],
   "source": [
    "%load_ext autoreload\n",
    "%autoreload 2"
   ]
  },
  {
   "cell_type": "code",
   "execution_count": 2,
   "id": "55a6fee9-9370-4de3-9016-c028a6dfddbb",
   "metadata": {},
   "outputs": [],
   "source": [
    "from zero_helpers.imports import * "
   ]
  },
  {
   "cell_type": "code",
   "execution_count": 3,
   "id": "baaae9a1-2ec8-4b6b-91d8-fa6cfbe6c8e6",
   "metadata": {},
   "outputs": [],
   "source": [
    "from zero_liftsim.simmanager import SimulationManager\n",
    "from zero_liftsim.experience import AgentRideLoopExperience\n",
    "import inspect\n",
    "from zero_liftsim.helpers import load_asset_template"
   ]
  },
  {
   "cell_type": "markdown",
   "id": "1e4f5e7d-b909-4059-b226-198171709472",
   "metadata": {},
   "source": [
    "# Run Simulation"
   ]
  },
  {
   "cell_type": "code",
   "execution_count": 4,
   "id": "d0236d85-7235-4ce4-bc75-c65a65df1d44",
   "metadata": {},
   "outputs": [
    {
     "name": "stdout",
     "output_type": "stream",
     "text": [
      "{'total_rides': 331, 'average_wait': 1.5166163141993958, 'agents': [Agent(1) unequaled-point 59a0a711-e839-4e3a-b747-2aa1d264e387, Agent(2) abhorrent-tourist 6dc3ace6-2752-41e1-be34-6260acf962be, Agent(3) thoughtful-charge 6fb2ff63-ac6b-4e82-9216-2c5f8fbe17bb, Agent(4) parsimonious-sensitive 11eebf05-fd19-4cef-b36a-5136c5d65c85, Agent(5) halting-fat d9250988-5517-4523-a012-708330e7d2a2, Agent(6) awesome-style 3d10c05e-470e-4abd-8540-92b84b95258d, Agent(7) unable-drama 5cea574a-a1ec-489d-9f25-21cfe3bec394, Agent(8) marvelous-hearing d583e0cd-853c-43d9-bb4e-595c821313cd, Agent(9) crowded-piano cf2ca7ca-436e-4160-b248-36bd51e701aa, Agent(10) valuable-physical 7a998518-ffc3-441d-952f-4ca173581440]}\n"
     ]
    }
   ],
   "source": [
    "# setup and run simulation\n",
    "manager = SimulationManager(\n",
    "    n_agents=10,\n",
    "    lift_capacity=2,\n",
    ")\n",
    "result = manager.run()\n",
    "print(result)"
   ]
  },
  {
   "cell_type": "code",
   "execution_count": 5,
   "id": "a78f7302-113b-4017-b18b-96feb148d9f3",
   "metadata": {},
   "outputs": [
    {
     "data": {
      "text/plain": [
       "50"
      ]
     },
     "execution_count": 5,
     "metadata": {},
     "output_type": "execute_result"
    }
   ],
   "source": [
    "lift = manager.lift\n",
    "lift.total_chairs()"
   ]
  },
  {
   "cell_type": "markdown",
   "id": "c07b3eb9-8e31-4808-9347-4fe4f43337dc",
   "metadata": {},
   "source": [
    "## Retrieve Data from Simulation"
   ]
  },
  {
   "cell_type": "code",
   "execution_count": 6,
   "id": "b008fd77-98be-47ac-84a9-a0d5f3db87a6",
   "metadata": {},
   "outputs": [],
   "source": [
    "# get rideloop explogs and agent event log\n",
    "exp_log_data = manager.retrieve_data()\n",
    "e = exp_log_data['exp_rideloop']\n",
    "l = exp_log_data['agent_log']"
   ]
  },
  {
   "cell_type": "markdown",
   "id": "2dbff9e8-c7f4-49bf-a1ea-dc8c41cf4caa",
   "metadata": {},
   "source": [
    "# Identify Agent State"
   ]
  },
  {
   "cell_type": "code",
   "execution_count": 7,
   "id": "95bd826c-9c76-4e23-a7d5-c0c8b55d9b8b",
   "metadata": {},
   "outputs": [],
   "source": [
    "# get ride loop logs and agent event logs\n",
    "log = manager.retrieve_data()\n",
    "rlog = log['exp_rideloop'] # dataframe of all agent rideloop experiences \n",
    "alog = log['agent_log'] # combined agent logs (i.e. activity logs for all agents)\n",
    "\n",
    "# sample a random timestamp within the agent log timeframe\n",
    "INDEX_TIME = pd.Series(pd.date_range(alog['time'].min(), alog['time'].max(), freq='1s')).sample().iloc[0]\n",
    "\n",
    "# sample a random agent from ride loop log\n",
    "row = rlog.sample().iloc[0]\n",
    "aid = row['agent_uuid']\n",
    "agent = manager.lookup_agent(aid)\n",
    "\n",
    "# find the nearest time index in the agent log\n",
    "l = alog.zero_liftsim.subset_agent_uuid(agent.agent_uuid)\n",
    "e = rlog.zero_liftsim.subset_agent_uuid(agent.agent_uuid)\n",
    "idx = l.zero_liftsim.get_nearest_time_index(INDEX_TIME)"
   ]
  },
  {
   "cell_type": "markdown",
   "id": "069f2d48-1829-4bd2-82fb-eb11a1e6ea37",
   "metadata": {},
   "source": [
    "for the ride loop agent experience, the total time is broken down into riding the lift, traversing down the mountain and waiting in the queue, i.e. `\"time_spent_total\": ride + traverse + queue` below: "
   ]
  },
  {
   "cell_type": "code",
   "execution_count": 8,
   "id": "e7e129f0-744b-4013-8ebd-45141a004484",
   "metadata": {},
   "outputs": [
    {
     "name": "stdout",
     "output_type": "stream",
     "text": [
      "    def add_entry(self, agent, return_event_uuid, dt: datetime, ride: float, traverse: float, \n",
      "                  queue: float) -> None:\n",
      "        self.log[dt] = {\n",
      "            \"exp_id\": str(uuid()), \n",
      "            \"return_event_uuid\": return_event_uuid,\n",
      "            \"agent_uuid\": agent.agent_uuid,\n",
      "            \"agent_uuid_codename\": agent.agent_uuid_codename,\n",
      "            \"time_spent_ride_lift\": ride,\n",
      "            \"time_spent_traverse_down_mountain\": traverse,\n",
      "            \"time_spent_in_queue\": queue,\n",
      "            \"time_spent_total\": ride + traverse + queue,\n",
      "        }\n",
      "\n"
     ]
    }
   ],
   "source": [
    "s = inspect.getsource(AgentRideLoopExperience)\n",
    "lines = s.split('\\n')\n",
    "idx = [i for i,x in enumerate(lines) if x.strip() == '\"\"\"'][-1]\n",
    "print('\\n'.join(lines[idx+1:]))"
   ]
  },
  {
   "cell_type": "markdown",
   "id": "2b538222-be3d-41b2-9916-695cd4489ad0",
   "metadata": {},
   "source": [
    "..which means that we can define three states - state_riding_lift, state_in_queue and state_traversing_down. "
   ]
  },
  {
   "cell_type": "code",
   "execution_count": null,
   "id": "8b0578f1-1c15-4bea-8d5a-609a85864bc7",
   "metadata": {},
   "outputs": [],
   "source": []
  },
  {
   "cell_type": "code",
   "execution_count": null,
   "id": "d01b04f1-332b-46c2-a278-e9e8740254fa",
   "metadata": {},
   "outputs": [],
   "source": []
  },
  {
   "cell_type": "code",
   "execution_count": null,
   "id": "4f2e472c-43b9-4c38-81af-6ddbfdc6b745",
   "metadata": {},
   "outputs": [],
   "source": []
  },
  {
   "cell_type": "code",
   "execution_count": null,
   "id": "6d6c0a55-15d4-4c2b-a6db-dfbd8c7b0244",
   "metadata": {},
   "outputs": [],
   "source": []
  },
  {
   "cell_type": "code",
   "execution_count": null,
   "id": "a1070f77-8097-42ee-9a50-3c5f249d3f4d",
   "metadata": {},
   "outputs": [],
   "source": []
  }
 ],
 "metadata": {
  "kernelspec": {
   "display_name": "Python 3 (ipykernel)",
   "language": "python",
   "name": "python3"
  },
  "language_info": {
   "codemirror_mode": {
    "name": "ipython",
    "version": 3
   },
   "file_extension": ".py",
   "mimetype": "text/x-python",
   "name": "python",
   "nbconvert_exporter": "python",
   "pygments_lexer": "ipython3",
   "version": "3.11.8"
  }
 },
 "nbformat": 4,
 "nbformat_minor": 5
}
