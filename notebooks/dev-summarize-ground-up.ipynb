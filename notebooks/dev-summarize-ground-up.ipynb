{
 "cells": [
  {
   "cell_type": "code",
   "execution_count": 53,
   "id": "01b69f92-8043-4f9d-8045-313a0de567bb",
   "metadata": {},
   "outputs": [
    {
     "name": "stdout",
     "output_type": "stream",
     "text": [
      "The autoreload extension is already loaded. To reload it, use:\n",
      "  %reload_ext autoreload\n"
     ]
    }
   ],
   "source": [
    "%load_ext autoreload\n",
    "%autoreload 2"
   ]
  },
  {
   "cell_type": "code",
   "execution_count": 54,
   "id": "416e239b-bf74-47d5-a70c-ba151f324c65",
   "metadata": {},
   "outputs": [],
   "source": [
    "from zero_helpers.imports import * \n",
    "from zero_liftsim.simmanager import SimulationManager\n",
    "from zero_liftsim.helpers import base_config\n",
    "from zero_liftsim.experience import AgentRideLoopExperience\n",
    "from zero_liftsim.helpers import load_asset_template\n",
    "from zero_liftsim import helpers as hp\n",
    "from zero_liftsim.lift import Lift\n",
    "\n",
    "import inspect"
   ]
  },
  {
   "cell_type": "markdown",
   "id": "1e4f5e7d-b909-4059-b226-198171709472",
   "metadata": {},
   "source": [
    "# Run Simulation"
   ]
  },
  {
   "cell_type": "code",
   "execution_count": null,
   "id": "39a527b2-7ccf-4af4-9e03-35ba942a2d49",
   "metadata": {},
   "outputs": [],
   "source": [
    "cfg = {\n",
    "    \"git_commit\": \"c440da9b1f1dee0556f93d8843a873e5dabc0002\",\n",
    "    \"SimulationManager\": {\n",
    "        \"__init__\": {\n",
    "            \"n_agents\": 30,\n",
    "            \"lift_capacity\": 2,\n",
    "            \"start_datetime\": None,\n",
    "            \"logger\": None\n",
    "        },\n",
    "        \"run\": {\n",
    "            \"end_datetime\": None,\n",
    "            \"runtime_minutes\": None\n",
    "        }\n",
    "    },\n",
    "    \"Simulation\": {\n",
    "        \"__init__\": {\n",
    "            \"simulation_uuid\": None\n",
    "        },\n",
    "        \"run\": {\n",
    "            \"stop_time\": None,\n",
    "            \"logger\": None,\n",
    "            \"full_agent_logging\": False,\n",
    "            \"start_datetime\": \"2025-03-12T09:00:00\",\n",
    "            \"random_seed\": None\n",
    "        }\n",
    "    },\n",
    "    \"Lift\": {\n",
    "        \"num_chairs\": 15,\n",
    "        \"ride_mean\": 7,\n",
    "        \"ride_sd\": 1,\n",
    "        \"traverse_mean\": 5,\n",
    "        \"traverse_sd\": 1.5\n",
    "    },\n",
    "    \"Agent\": {\n",
    "        \"__init__\": {\n",
    "            \"logger\": None,\n",
    "            \"self_logging\": True\n",
    "        }\n",
    "    }\n",
    "}\n",
    "cfg['Simulation']['run']['random_seed'] = '46344237-3141-4d05-9b8f-4854a7b47c2f'\n",
    "\n",
    "manager = SimulationManager(cfg)\n",
    "result = manager.run(runtime_minutes=60*5)"
   ]
  },
  {
   "cell_type": "markdown",
   "id": "c07b3eb9-8e31-4808-9347-4fe4f43337dc",
   "metadata": {},
   "source": [
    "## Retrieve Data from Simulation"
   ]
  },
  {
   "cell_type": "code",
   "execution_count": 57,
   "id": "b008fd77-98be-47ac-84a9-a0d5f3db87a6",
   "metadata": {},
   "outputs": [],
   "source": [
    "# get rideloop explogs and agent event log\n",
    "exp_log_data = manager.retrieve_data()\n",
    "exp = exp_log_data['exp_rideloop']\n",
    "log = exp_log_data['agent_log']"
   ]
  },
  {
   "cell_type": "code",
   "execution_count": 59,
   "id": "f0435390-07f1-493a-b9a7-7fcb3517bdbf",
   "metadata": {},
   "outputs": [
    {
     "data": {
      "text/plain": [
       "Index(['time', 'exp_id', 'return_event_uuid', 'agent_uuid',\n",
       "       'agent_uuid_codename', 'time_spent_ride_lift',\n",
       "       'time_spent_traverse_down_mountain', 'time_spent_in_queue',\n",
       "       'time_spent_total'],\n",
       "      dtype='object')"
      ]
     },
     "execution_count": 59,
     "metadata": {},
     "output_type": "execute_result"
    }
   ],
   "source": [
    "exp.columns"
   ]
  },
  {
   "cell_type": "code",
   "execution_count": 63,
   "id": "8ed51d78-221d-4960-b03b-4e38ce31abd1",
   "metadata": {},
   "outputs": [
    {
     "data": {
      "text/plain": [
       "2"
      ]
     },
     "execution_count": 63,
     "metadata": {},
     "output_type": "execute_result"
    }
   ],
   "source": [
    "exp.iloc[227]['time_spent_in_queue']"
   ]
  },
  {
   "cell_type": "code",
   "execution_count": 65,
   "id": "d84ff527-04e4-4cee-80a9-d40c3833610b",
   "metadata": {},
   "outputs": [
    {
     "data": {
      "text/plain": [
       "time                                 datetime64[ns]\n",
       "exp_id                                       object\n",
       "return_event_uuid                            object\n",
       "agent_uuid                                   object\n",
       "agent_uuid_codename                          object\n",
       "time_spent_ride_lift                         object\n",
       "time_spent_traverse_down_mountain            object\n",
       "time_spent_in_queue                          object\n",
       "time_spent_total                             object\n",
       "dtype: object"
      ]
     },
     "execution_count": 65,
     "metadata": {},
     "output_type": "execute_result"
    }
   ],
   "source": [
    "exp.dtypes"
   ]
  },
  {
   "cell_type": "code",
   "execution_count": null,
   "id": "5b103841-4dea-42e8-af7a-5cf7c3792631",
   "metadata": {},
   "outputs": [],
   "source": []
  },
  {
   "cell_type": "code",
   "execution_count": 49,
   "id": "a1423a7b-f964-43c3-8dac-d74707dcb502",
   "metadata": {},
   "outputs": [
    {
     "data": {
      "text/plain": [
       "count    748.000000\n",
       "mean       0.524064\n",
       "std        0.715638\n",
       "min        0.000000\n",
       "25%        0.000000\n",
       "50%        0.000000\n",
       "75%        1.000000\n",
       "max        5.000000\n",
       "Name: time_spent_in_queue, dtype: float64"
      ]
     },
     "execution_count": 49,
     "metadata": {},
     "output_type": "execute_result"
    }
   ],
   "source": [
    "exp['time_spent_in_queue'].astype(float).describe()"
   ]
  },
  {
   "cell_type": "code",
   "execution_count": 51,
   "id": "c0f2324b-ae5c-45fa-87a0-21eff8eb6d91",
   "metadata": {},
   "outputs": [
    {
     "name": "stdout",
     "output_type": "stream",
     "text": [
      "Index(['time', 'exp_id', 'return_event_uuid', 'agent_uuid',\n",
      "       'agent_uuid_codename', 'time_spent_ride_lift',\n",
      "       'time_spent_traverse_down_mountain', 'time_spent_in_queue',\n",
      "       'time_spent_total'],\n",
      "      dtype='object')\n"
     ]
    }
   ],
   "source": [
    "print(exp.columns)"
   ]
  },
  {
   "cell_type": "code",
   "execution_count": 52,
   "id": "5f8d4a46-710f-4d0e-a8d6-16d21e6b6b6b",
   "metadata": {},
   "outputs": [
    {
     "name": "stdout",
     "output_type": "stream",
     "text": [
      "Index(['return_event_uuid', 'time', 'time_offset', 'event', 'agent_id',\n",
      "       'agent_uuid', 'agent_uuid_codename', 'queue_length', 'lift_state',\n",
      "       'wait_time', 'wait_time_readable'],\n",
      "      dtype='object')\n"
     ]
    }
   ],
   "source": [
    "print(log.columns)"
   ]
  },
  {
   "cell_type": "code",
   "execution_count": null,
   "id": "f37dc5a8-7bf5-4999-bef3-e5e4d49b17d3",
   "metadata": {},
   "outputs": [],
   "source": []
  },
  {
   "cell_type": "code",
   "execution_count": null,
   "id": "df5d8928-bc39-4c74-85a1-0d4b8e8ee2b2",
   "metadata": {},
   "outputs": [],
   "source": []
  },
  {
   "cell_type": "code",
   "execution_count": null,
   "id": "2e946388-60ab-4569-8f20-6d9decfe455b",
   "metadata": {},
   "outputs": [],
   "source": []
  },
  {
   "cell_type": "code",
   "execution_count": null,
   "id": "b2b6f77e-219f-4d51-8e71-9275a1d591d2",
   "metadata": {},
   "outputs": [],
   "source": []
  },
  {
   "cell_type": "code",
   "execution_count": null,
   "id": "36a6ba02-75d1-443d-8093-011616935eb3",
   "metadata": {},
   "outputs": [],
   "source": []
  },
  {
   "cell_type": "code",
   "execution_count": null,
   "id": "9b68099e-bf08-402f-87b9-21d3b495827c",
   "metadata": {},
   "outputs": [],
   "source": []
  },
  {
   "cell_type": "code",
   "execution_count": null,
   "id": "7d970bef-880f-4148-89ea-1ba2dae92dc8",
   "metadata": {},
   "outputs": [],
   "source": []
  },
  {
   "cell_type": "markdown",
   "id": "2dbff9e8-c7f4-49bf-a1ea-dc8c41cf4caa",
   "metadata": {},
   "source": [
    "# Scratchpad"
   ]
  },
  {
   "cell_type": "code",
   "execution_count": 61,
   "id": "cf8b4fa4-8a23-4efb-b0ce-aca8482229cd",
   "metadata": {},
   "outputs": [
    {
     "ename": "Exception",
     "evalue": "",
     "output_type": "error",
     "traceback": [
      "\u001b[0;31m---------------------------------------------------------------------------\u001b[0m",
      "\u001b[0;31mException\u001b[0m                                 Traceback (most recent call last)",
      "Cell \u001b[0;32mIn[61], line 1\u001b[0m\n\u001b[0;32m----> 1\u001b[0m \u001b[38;5;28;01mraise\u001b[39;00m \u001b[38;5;167;01mException\u001b[39;00m()\n",
      "\u001b[0;31mException\u001b[0m: "
     ]
    }
   ],
   "source": [
    "raise Exception()"
   ]
  },
  {
   "cell_type": "markdown",
   "id": "97643aa4-f80a-4569-a814-e1b5c1671696",
   "metadata": {},
   "source": [
    "## Sample Agent and Get Exp Traceback"
   ]
  },
  {
   "cell_type": "code",
   "execution_count": 13,
   "id": "30e3f530-81ed-4030-83ef-1aca505be7c1",
   "metadata": {},
   "outputs": [],
   "source": [
    "# sample agent and subset exp/log to e/l for agent subset of those\n",
    "m = log['event'] == 'ride_complete'\n",
    "event_ride_comp = log[m].sample().iloc[0].to_dict()\n",
    "agent = manager.lookup_agent(event_ride_comp['agent_uuid'])\n",
    "l = log[log['agent_uuid'] == agent.agent_uuid]\n",
    "idx = (exp['time'] - event_ride_comp['time']).dt.total_seconds().abs().idxmin()\n",
    "e = exp.loc[idx].to_dict()"
   ]
  },
  {
   "cell_type": "code",
   "execution_count": 14,
   "id": "5af4c7fb-b551-4a24-ac66-9babe1868113",
   "metadata": {},
   "outputs": [
    {
     "name": "stdout",
     "output_type": "stream",
     "text": [
      "# Experience Log \n",
      "\n",
      "exp_id: 4eab1919-d47e-4c6a-9adc-43f9eee18e5c\n",
      "agent_uuid: 27596a10-a9ac-48ee-aa91-c96421db4589\n",
      "return_event_uuid: 961742d5-cd10-48cd-b712-5bf11cd2524e\n",
      "\n",
      "*** \n",
      "\n",
      "\n",
      "time_spent_in_queue: 3\n",
      "time_spent_ride_lift: 5.261610974166602\n",
      "time_spent_traverse_down_mountain: 5.481852237108882\n",
      "\n",
      "***\n",
      "\n",
      "# Full Dict\n",
      "\n",
      "{\n",
      "    \"exp_id\": \"4eab1919-d47e-4c6a-9adc-43f9eee18e5c\",\n",
      "    \"return_event_uuid\": \"961742d5-cd10-48cd-b712-5bf11cd2524e\",\n",
      "    \"agent_uuid\": \"27596a10-a9ac-48ee-aa91-c96421db4589\",\n",
      "    \"agent_uuid_codename\": \"abounding-basket\",\n",
      "    \"time_spent_ride_lift\": 5.261610974166602,\n",
      "    \"time_spent_traverse_down_mountain\": 5.481852237108882,\n",
      "    \"time_spent_in_queue\": 3,\n",
      "    \"time_spent_total\": 13.743463211275483\n",
      "}\n",
      "\n",
      "# Agent Log\n",
      "\n",
      "{\n",
      "    \"787aebe4-4960-4d9f-8c3a-54ff0f20fcef\": {\n",
      "        \"return_event_uuid\": \"cf7e394b-044c-4276-9616-42961b14cbd9\",\n",
      "        \"time\": \"2025-03-12T09:24:00\",\n",
      "        \"time_offset\": 24,\n",
      "        \"event\": \"ride_complete\",\n",
      "        \"agent_id\": 3,\n",
      "        \"agent_uuid\": \"27596a10-a9ac-48ee-aa91-c96421db4589\",\n",
      "        \"agent_uuid_codename\": \"abounding-basket\",\n",
      "        \"wait_time\": 12,\n",
      "        \"wait_time_readable\": \"12 minutes\"\n",
      "    },\n",
      "    \"52ade5c6-5399-404a-abb4-f870bfb9eeab\": {\n",
      "        \"return_event_uuid\": \"\",\n",
      "        \"time\": \"2025-03-12T09:27:00\",\n",
      "        \"time_offset\": 27,\n",
      "        \"event\": \"start_wait\",\n",
      "        \"agent_id\": 3,\n",
      "        \"agent_uuid\": \"27596a10-a9ac-48ee-aa91-c96421db4589\",\n",
      "        \"agent_uuid_codename\": \"abounding-basket\"\n",
      "    },\n",
      "    \"8beab9f1-777d-420d-b2a1-bc8776fd6720\": {\n",
      "        \"return_event_uuid\": \"\",\n",
      "        \"time\": \"2025-03-12T09:27:00\",\n",
      "        \"time_offset\": 27,\n",
      "        \"event\": \"arrival\",\n",
      "        \"agent_id\": 3,\n",
      "        \"agent_uuid\": \"27596a10-a9ac-48ee-aa91-c96421db4589\",\n",
      "        \"agent_uuid_codename\": \"abounding-basket\",\n",
      "        \"queue_length\": 2,\n",
      "        \"lift_state\": \"moving\"\n",
      "    },\n",
      "    \"50cd8f67-14b2-4912-8338-47094647c71d\": {\n",
      "        \"return_event_uuid\": \"\",\n",
      "        \"time\": \"2025-03-12T09:30:00\",\n",
      "        \"time_offset\": 30,\n",
      "        \"event\": \"board\",\n",
      "        \"agent_id\": 3,\n",
      "        \"agent_uuid\": \"27596a10-a9ac-48ee-aa91-c96421db4589\",\n",
      "        \"agent_uuid_codename\": \"abounding-basket\",\n",
      "        \"queue_length\": 0,\n",
      "        \"lift_state\": \"moving\"\n",
      "    },\n",
      "    \"bb124d4a-879c-4081-911e-47570aeaa1bf\": {\n",
      "        \"return_event_uuid\": \"961742d5-cd10-48cd-b712-5bf11cd2524e\",\n",
      "        \"time\": \"2025-03-12T09:35:00\",\n",
      "        \"time_offset\": 35,\n",
      "        \"event\": \"ride_complete\",\n",
      "        \"agent_id\": 3,\n",
      "        \"agent_uuid\": \"27596a10-a9ac-48ee-aa91-c96421db4589\",\n",
      "        \"agent_uuid_codename\": \"abounding-basket\",\n",
      "        \"wait_time\": 8,\n",
      "        \"wait_time_readable\": \"8 minutes\"\n",
      "    }\n",
      "}\n"
     ]
    }
   ],
   "source": [
    "x = agent.traceback_experience(e['exp_id'])\n",
    "print(x)"
   ]
  },
  {
   "cell_type": "code",
   "execution_count": null,
   "id": "9c30c72c-c7f4-4a55-b0c6-1b045ead58a8",
   "metadata": {},
   "outputs": [],
   "source": []
  },
  {
   "cell_type": "code",
   "execution_count": null,
   "id": "08c148dc-4405-4aca-a4bf-34996b2e68f2",
   "metadata": {},
   "outputs": [],
   "source": []
  },
  {
   "cell_type": "code",
   "execution_count": null,
   "id": "d91d75e2-54f9-4683-97a2-2fec9c83da84",
   "metadata": {},
   "outputs": [],
   "source": []
  }
 ],
 "metadata": {
  "kernelspec": {
   "display_name": "Python 3 (ipykernel)",
   "language": "python",
   "name": "python3"
  },
  "language_info": {
   "codemirror_mode": {
    "name": "ipython",
    "version": 3
   },
   "file_extension": ".py",
   "mimetype": "text/x-python",
   "name": "python",
   "nbconvert_exporter": "python",
   "pygments_lexer": "ipython3",
   "version": "3.11.8"
  }
 },
 "nbformat": 4,
 "nbformat_minor": 5
}
